{
 "cells": [
  {
   "cell_type": "markdown",
   "id": "346ee84c-389e-4db5-86d7-40d21e034545",
   "metadata": {},
   "source": [
    "## Pandas Introduction"
   ]
  },
  {
   "cell_type": "markdown",
   "id": "99a75fc5-e89e-478a-9567-5870f4fbedf2",
   "metadata": {},
   "source": [
    "## Task 1: Pandas Basics"
   ]
  },
  {
   "cell_type": "markdown",
   "id": "e9490bfd-a577-4f1b-86fc-60306f3f01c8",
   "metadata": {},
   "source": [
    "### Creating a Series"
   ]
  },
  {
   "cell_type": "markdown",
   "id": "bf783d4b-9da3-4267-8a56-406fc16060bb",
   "metadata": {},
   "source": [
    "#### A Pandas Series is a one-dimensional labeled array."
   ]
  },
  {
   "cell_type": "code",
   "execution_count": 8,
   "id": "ee7bbe73-8e2e-4960-8fbb-e2ba46dbe24c",
   "metadata": {},
   "outputs": [
    {
     "name": "stdout",
     "output_type": "stream",
     "text": [
      "0    10\n",
      "1    20\n",
      "2    30\n",
      "3    40\n",
      "4    50\n",
      "Name: Numbers, dtype: int64\n"
     ]
    }
   ],
   "source": [
    "import pandas as pd\n",
    "\n",
    "# Create a Series from a list\n",
    "data = [10, 20, 30, 40, 50]\n",
    "series = pd.Series(data, name='Numbers')\n",
    "print(series)"
   ]
  },
  {
   "cell_type": "markdown",
   "id": "420b575a-5103-4e73-94fd-a6c9e559ba3a",
   "metadata": {},
   "source": [
    "### Creating a DataFrame"
   ]
  },
  {
   "cell_type": "markdown",
   "id": "f77694fd-3711-4499-9ef5-e6c24a462869",
   "metadata": {},
   "source": [
    "#### A DataFrame is a 2-dimensional labeled data structure with columns that can be of different types."
   ]
  },
  {
   "cell_type": "code",
   "execution_count": 18,
   "id": "3a9086e8-effa-4fb9-949c-c9a48b6388b0",
   "metadata": {},
   "outputs": [
    {
     "name": "stdout",
     "output_type": "stream",
     "text": [
      "      Name  Age         City\n",
      "0    Alice   25     New York\n",
      "1      Bob   30  Los Angeles\n",
      "2  Charlie   35      Chicago\n",
      "3    David   40      Houston\n"
     ]
    }
   ],
   "source": [
    "# Create a DataFrame from a dictionary\n",
    "data = {\n",
    "    'Name': ['Alice', 'Bob', 'Charlie', 'David'],\n",
    "    'Age': [25, 30, 35, 40],\n",
    "    'City': ['New York', 'Los Angeles', 'Chicago', 'Houston']\n",
    "}\n",
    "df = pd.DataFrame(data)\n",
    "print(df)"
   ]
  },
  {
   "cell_type": "markdown",
   "id": "30f03ffa-f408-48be-b852-3f4feabff72b",
   "metadata": {},
   "source": [
    "### Inspecting Data Structures"
   ]
  },
  {
   "cell_type": "markdown",
   "id": "31484097-2def-4c6a-8747-557c1de014fa",
   "metadata": {},
   "source": [
    "#### .head() and .tail()\n",
    "#### head() shows the first n rows (default is 5)\n",
    "#### tail() shows the last n rows (default is 5)"
   ]
  },
  {
   "cell_type": "code",
   "execution_count": 23,
   "id": "02e43195-a5e8-4d41-ab5f-e3df54e2033c",
   "metadata": {},
   "outputs": [
    {
     "name": "stdout",
     "output_type": "stream",
     "text": [
      "    Name  Age         City\n",
      "0  Alice   25     New York\n",
      "1    Bob   30  Los Angeles\n",
      "    Name  Age     City\n",
      "3  David   40  Houston\n"
     ]
    }
   ],
   "source": [
    "print(df.head(2))  # First 2 rows\n",
    "print(df.tail(1))  # Last 1 row"
   ]
  },
  {
   "cell_type": "markdown",
   "id": "8f290a63-f529-45ac-91bb-bc699fab5600",
   "metadata": {},
   "source": [
    "#### .shape()\n",
    "#### Returns a tuple representing the dimensionality of the DataFrame."
   ]
  },
  {
   "cell_type": "code",
   "execution_count": 27,
   "id": "1dc5b5fe-7823-4524-b5a8-387aed181d13",
   "metadata": {},
   "outputs": [
    {
     "name": "stdout",
     "output_type": "stream",
     "text": [
      "(4, 3)\n"
     ]
    }
   ],
   "source": [
    "print(df.shape) "
   ]
  },
  {
   "cell_type": "code",
   "execution_count": null,
   "id": "2bbb5a00-9b11-41ee-b4fe-1364240598d3",
   "metadata": {},
   "outputs": [],
   "source": []
  }
 ],
 "metadata": {
  "kernelspec": {
   "display_name": "Python [conda env:Anaconda]",
   "language": "python",
   "name": "conda-env-Anaconda-py"
  },
  "language_info": {
   "codemirror_mode": {
    "name": "ipython",
    "version": 3
   },
   "file_extension": ".py",
   "mimetype": "text/x-python",
   "name": "python",
   "nbconvert_exporter": "python",
   "pygments_lexer": "ipython3",
   "version": "3.12.7"
  }
 },
 "nbformat": 4,
 "nbformat_minor": 5
}
