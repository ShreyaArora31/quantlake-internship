{
 "cells": [
  {
   "cell_type": "code",
   "execution_count": null,
   "id": "bb848c04-f795-4382-9256-e0af55fafdfe",
   "metadata": {},
   "outputs": [],
   "source": []
  }
 ],
 "metadata": {
  "kernelspec": {
   "display_name": "",
   "name": ""
  },
  "language_info": {
   "name": ""
  }
 },
 "nbformat": 4,
 "nbformat_minor": 5
}
