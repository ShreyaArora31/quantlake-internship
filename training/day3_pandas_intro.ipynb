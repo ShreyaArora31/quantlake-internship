{
 "cells": [
  {
   "cell_type": "markdown",
   "id": "346ee84c-389e-4db5-86d7-40d21e034545",
   "metadata": {},
   "source": [
    "## Pandas Introduction"
   ]
  },
  {
   "cell_type": "markdown",
   "id": "99a75fc5-e89e-478a-9567-5870f4fbedf2",
   "metadata": {},
   "source": [
    "## Task 1: Pandas Basics"
   ]
  },
  {
   "cell_type": "markdown",
   "id": "e9490bfd-a577-4f1b-86fc-60306f3f01c8",
   "metadata": {},
   "source": [
    "### Creating a Series"
   ]
  },
  {
   "cell_type": "markdown",
   "id": "bf783d4b-9da3-4267-8a56-406fc16060bb",
   "metadata": {},
   "source": [
    "A Pandas Series is a one-dimensional labeled array."
   ]
  },
  {
   "cell_type": "code",
   "execution_count": 8,
   "id": "ee7bbe73-8e2e-4960-8fbb-e2ba46dbe24c",
   "metadata": {},
   "outputs": [
    {
     "name": "stdout",
     "output_type": "stream",
     "text": [
      "0    10\n",
      "1    20\n",
      "2    30\n",
      "3    40\n",
      "4    50\n",
      "Name: Numbers, dtype: int64\n"
     ]
    }
   ],
   "source": [
    "import pandas as pd\n",
    "\n",
    "# Create a Series from a list\n",
    "data = [10, 20, 30, 40, 50]\n",
    "series = pd.Series(data, name='Numbers')\n",
    "print(series)"
   ]
  },
  {
   "cell_type": "markdown",
   "id": "420b575a-5103-4e73-94fd-a6c9e559ba3a",
   "metadata": {},
   "source": [
    "### Creating a DataFrame"
   ]
  },
  {
   "cell_type": "markdown",
   "id": "f77694fd-3711-4499-9ef5-e6c24a462869",
   "metadata": {},
   "source": [
    "A DataFrame is a 2-dimensional labeled data structure with columns that can be of different types."
   ]
  },
  {
   "cell_type": "code",
   "execution_count": 18,
   "id": "3a9086e8-effa-4fb9-949c-c9a48b6388b0",
   "metadata": {},
   "outputs": [
    {
     "name": "stdout",
     "output_type": "stream",
     "text": [
      "      Name  Age         City\n",
      "0    Alice   25     New York\n",
      "1      Bob   30  Los Angeles\n",
      "2  Charlie   35      Chicago\n",
      "3    David   40      Houston\n"
     ]
    }
   ],
   "source": [
    "# Create a DataFrame from a dictionary\n",
    "data = {\n",
    "    'Name': ['Alice', 'Bob', 'Charlie', 'David'],\n",
    "    'Age': [25, 30, 35, 40],\n",
    "    'City': ['New York', 'Los Angeles', 'Chicago', 'Houston']\n",
    "}\n",
    "df = pd.DataFrame(data)\n",
    "print(df)"
   ]
  },
  {
   "cell_type": "markdown",
   "id": "30f03ffa-f408-48be-b852-3f4feabff72b",
   "metadata": {},
   "source": [
    "### Inspecting Data Structures"
   ]
  },
  {
   "cell_type": "markdown",
   "id": "31484097-2def-4c6a-8747-557c1de014fa",
   "metadata": {},
   "source": [
    "#### .head()\n",
    "shows the first n rows (default is 5)\n",
    "#### tail() \n",
    "shows the last n rows (default is 5)"
   ]
  },
  {
   "cell_type": "code",
   "execution_count": 178,
   "id": "02e43195-a5e8-4d41-ab5f-e3df54e2033c",
   "metadata": {},
   "outputs": [
    {
     "name": "stdout",
     "output_type": "stream",
     "text": [
      "   sepal length (cm)  sepal width (cm)  petal length (cm)  petal width (cm)  \\\n",
      "0                5.1               3.5                1.4               0.2   \n",
      "1                4.9               3.0                1.4               0.2   \n",
      "\n",
      "  species  sepal area (cm²)  \n",
      "0  setosa             17.85  \n",
      "1  setosa             14.70  \n",
      "     sepal length (cm)  sepal width (cm)  petal length (cm)  petal width (cm)  \\\n",
      "149                5.9               3.0                5.1               1.8   \n",
      "\n",
      "       species  sepal area (cm²)  \n",
      "149  virginica              17.7  \n"
     ]
    }
   ],
   "source": [
    "print(df.head(2))  # First 2 rows\n",
    "print(df.tail(1))  # Last 1 row"
   ]
  },
  {
   "cell_type": "markdown",
   "id": "8f290a63-f529-45ac-91bb-bc699fab5600",
   "metadata": {},
   "source": [
    "#### .shape\n",
    "Returns a tuple representing the dimensionality of the DataFrame."
   ]
  },
  {
   "cell_type": "code",
   "execution_count": 29,
   "id": "1dc5b5fe-7823-4524-b5a8-387aed181d13",
   "metadata": {},
   "outputs": [
    {
     "name": "stdout",
     "output_type": "stream",
     "text": [
      "(4, 3)\n"
     ]
    }
   ],
   "source": [
    "print(df.shape) "
   ]
  },
  {
   "cell_type": "markdown",
   "id": "0717d52d-10ff-4586-a14a-ecaf48362b45",
   "metadata": {},
   "source": [
    "#### .columns\n",
    "Returns the column labels."
   ]
  },
  {
   "cell_type": "code",
   "execution_count": 33,
   "id": "d6f13c0e-4614-48b8-9baa-b7ebfc9c2c08",
   "metadata": {},
   "outputs": [
    {
     "name": "stdout",
     "output_type": "stream",
     "text": [
      "Index(['Name', 'Age', 'City'], dtype='object')\n"
     ]
    }
   ],
   "source": [
    "print(df.columns)"
   ]
  },
  {
   "cell_type": "markdown",
   "id": "9d66e4b0-bf5f-47d9-a129-fcec92e000e6",
   "metadata": {},
   "source": [
    "#### .index\n",
    "Returns the index (row labels)."
   ]
  },
  {
   "cell_type": "code",
   "execution_count": 36,
   "id": "794f6d7a-f9d6-40d0-b55a-1aa36c792568",
   "metadata": {},
   "outputs": [
    {
     "name": "stdout",
     "output_type": "stream",
     "text": [
      "RangeIndex(start=0, stop=4, step=1)\n"
     ]
    }
   ],
   "source": [
    "print(df.index)"
   ]
  },
  {
   "cell_type": "markdown",
   "id": "7077b6f0-6871-4211-ba5f-f9634032abbe",
   "metadata": {},
   "source": [
    "#### .dtypes\n",
    "Returns the data types of each column."
   ]
  },
  {
   "cell_type": "code",
   "execution_count": 40,
   "id": "a407e252-d82d-4c92-9ad6-6ae4619e2cf2",
   "metadata": {},
   "outputs": [
    {
     "name": "stdout",
     "output_type": "stream",
     "text": [
      "Name    object\n",
      "Age      int64\n",
      "City    object\n",
      "dtype: object\n"
     ]
    }
   ],
   "source": [
    "print(df.dtypes)"
   ]
  },
  {
   "cell_type": "markdown",
   "id": "44ebabf6-e492-426d-afd7-78216ec05994",
   "metadata": {},
   "source": [
    "## Task 2: Load and View Data - Iris Dataset"
   ]
  },
  {
   "cell_type": "markdown",
   "id": "5d2cd226-8ba1-4d34-af0c-d0862d60a6af",
   "metadata": {},
   "source": [
    "### Loading the Data"
   ]
  },
  {
   "cell_type": "code",
   "execution_count": 46,
   "id": "8e138993-66ae-4b59-8f28-bf7bde866633",
   "metadata": {},
   "outputs": [
    {
     "name": "stdout",
     "output_type": "stream",
     "text": [
      "Data loaded successfully!\n"
     ]
    }
   ],
   "source": [
    "import pandas as pd\n",
    "from sklearn.datasets import load_iris\n",
    "\n",
    "# Load the iris dataset from scikit-learn\n",
    "iris = load_iris()\n",
    "\n",
    "# Convert it to a pandas DataFrame\n",
    "df = pd.DataFrame(data=iris.data, columns=iris.feature_names)\n",
    "\n",
    "# Add the target (species) column\n",
    "df['species'] = iris.target\n",
    "\n",
    "# Map target numbers to species names for better readability\n",
    "df['species'] = df['species'].map({0: 'setosa', 1: 'versicolor', 2: 'virginica'})\n",
    "\n",
    "print(\"Data loaded successfully!\")"
   ]
  },
  {
   "cell_type": "markdown",
   "id": "ee3c4d19-799e-4d95-89e8-a8c76844e728",
   "metadata": {},
   "source": [
    "### Exploring the Data"
   ]
  },
  {
   "cell_type": "markdown",
   "id": "07cabd32-69da-4232-b3f9-a1baab1739e9",
   "metadata": {},
   "source": [
    "#### 1. Using .info()\n",
    "This gives us a concise summary of the DataFrame including data types and non-null values."
   ]
  },
  {
   "cell_type": "code",
   "execution_count": 50,
   "id": "47667591-afbf-48de-bb72-270f13a8d362",
   "metadata": {},
   "outputs": [
    {
     "name": "stdout",
     "output_type": "stream",
     "text": [
      "\n",
      "DataFrame Info:\n",
      "<class 'pandas.core.frame.DataFrame'>\n",
      "RangeIndex: 150 entries, 0 to 149\n",
      "Data columns (total 5 columns):\n",
      " #   Column             Non-Null Count  Dtype  \n",
      "---  ------             --------------  -----  \n",
      " 0   sepal length (cm)  150 non-null    float64\n",
      " 1   sepal width (cm)   150 non-null    float64\n",
      " 2   petal length (cm)  150 non-null    float64\n",
      " 3   petal width (cm)   150 non-null    float64\n",
      " 4   species            150 non-null    object \n",
      "dtypes: float64(4), object(1)\n",
      "memory usage: 6.0+ KB\n",
      "None\n"
     ]
    }
   ],
   "source": [
    "print(\"\\nDataFrame Info:\")\n",
    "print(df.info())"
   ]
  },
  {
   "cell_type": "markdown",
   "id": "7eaa7c62-00c7-409a-8287-c9aa7d87d68b",
   "metadata": {},
   "source": [
    "#### 2. Using .describe()\n",
    "This provides descriptive statistics for numerical columns."
   ]
  },
  {
   "cell_type": "code",
   "execution_count": 63,
   "id": "71d1057f-d368-4d50-803e-607adb9eacfb",
   "metadata": {},
   "outputs": [
    {
     "name": "stdout",
     "output_type": "stream",
     "text": [
      "\n",
      "Descriptive Statistics:\n",
      "       sepal length (cm)  sepal width (cm)  petal length (cm)  \\\n",
      "count         150.000000        150.000000         150.000000   \n",
      "mean            5.843333          3.057333           3.758000   \n",
      "std             0.828066          0.435866           1.765298   \n",
      "min             4.300000          2.000000           1.000000   \n",
      "25%             5.100000          2.800000           1.600000   \n",
      "50%             5.800000          3.000000           4.350000   \n",
      "75%             6.400000          3.300000           5.100000   \n",
      "max             7.900000          4.400000           6.900000   \n",
      "\n",
      "       petal width (cm)  \n",
      "count        150.000000  \n",
      "mean           1.199333  \n",
      "std            0.762238  \n",
      "min            0.100000  \n",
      "25%            0.300000  \n",
      "50%            1.300000  \n",
      "75%            1.800000  \n",
      "max            2.500000  \n"
     ]
    }
   ],
   "source": [
    "print(\"\\nDescriptive Statistics:\")\n",
    "print(df.describe())"
   ]
  },
  {
   "cell_type": "markdown",
   "id": "deae778c-fe67-4a88-8b8e-7396d6399347",
   "metadata": {},
   "source": [
    "#### 3. Checking for Null Values with .isnull().sum()"
   ]
  },
  {
   "cell_type": "code",
   "execution_count": 67,
   "id": "d24b9a8e-a92c-46c7-8535-b4d19b62c52e",
   "metadata": {},
   "outputs": [
    {
     "name": "stdout",
     "output_type": "stream",
     "text": [
      "\n",
      "Null Value Count:\n",
      "sepal length (cm)    0\n",
      "sepal width (cm)     0\n",
      "petal length (cm)    0\n",
      "petal width (cm)     0\n",
      "species              0\n",
      "dtype: int64\n"
     ]
    }
   ],
   "source": [
    "print(\"\\nNull Value Count:\")\n",
    "print(df.isnull().sum())"
   ]
  },
  {
   "cell_type": "markdown",
   "id": "c4a64e29-a168-4c2e-8c84-c3363d99da90",
   "metadata": {},
   "source": [
    "### Key Findings"
   ]
  },
  {
   "cell_type": "markdown",
   "id": "56d51664-f2e2-44cf-8022-2fea9de39fd0",
   "metadata": {},
   "source": [
    "**1. Null Values:** There are no null values in this dataset (all columns show 0 nulls) \n",
    "\n",
    "**2. Data Types:**\n",
    "   - 4 float64 columns (all measurements in cm)  \n",
    "   - 1 object column (species name)  \n",
    "\n",
    "**3. Dimensions:**\n",
    "   - 150 rows (observations)\n",
    "   - 5 columns (4 features + 1 target variable)"
   ]
  },
  {
   "cell_type": "markdown",
   "id": "faf7516d-83de-470b-9a2b-069ec078ee8d",
   "metadata": {},
   "source": [
    "### Viewing the First Few Rows"
   ]
  },
  {
   "cell_type": "code",
   "execution_count": 121,
   "id": "76eea19a-e9bf-4479-94e2-cac17c3476d3",
   "metadata": {},
   "outputs": [
    {
     "name": "stdout",
     "output_type": "stream",
     "text": [
      "\n",
      "First 5 rows:\n",
      "   sepal length (cm)  sepal width (cm)  petal length (cm)  petal width (cm)  \\\n",
      "0                5.1               3.5                1.4               0.2   \n",
      "1                4.9               3.0                1.4               0.2   \n",
      "2                4.7               3.2                1.3               0.2   \n",
      "3                4.6               3.1                1.5               0.2   \n",
      "4                5.0               3.6                1.4               0.2   \n",
      "\n",
      "  species  \n",
      "0  setosa  \n",
      "1  setosa  \n",
      "2  setosa  \n",
      "3  setosa  \n",
      "4  setosa  \n"
     ]
    }
   ],
   "source": [
    "print(\"\\nFirst 5 rows:\")\n",
    "print(df.head())"
   ]
  },
  {
   "cell_type": "markdown",
   "id": "51332edb-598e-40b6-81d2-b6c1ac97eb8f",
   "metadata": {},
   "source": [
    "## Task 3: Access & Filter Data"
   ]
  },
  {
   "cell_type": "markdown",
   "id": "33fd1abb-b5d6-4d4a-bb7e-993f5ca20b69",
   "metadata": {},
   "source": [
    "### Accessing Data"
   ]
  },
  {
   "cell_type": "markdown",
   "id": "75e314e2-a809-41b3-a5e8-dbf95c2dddf1",
   "metadata": {},
   "source": [
    "#### 1. Accessing Columns"
   ]
  },
  {
   "cell_type": "code",
   "execution_count": 127,
   "id": "fbbe8ce6-a999-46a2-92cb-28a8f3df1bad",
   "metadata": {},
   "outputs": [
    {
     "name": "stdout",
     "output_type": "stream",
     "text": [
      "\n",
      "Sepal Length column:\n",
      "0    5.1\n",
      "1    4.9\n",
      "2    4.7\n",
      "3    4.6\n",
      "4    5.0\n",
      "Name: sepal length (cm), dtype: float64\n",
      "\n",
      "Multiple columns:\n",
      "   sepal length (cm)  petal length (cm) species\n",
      "0                5.1                1.4  setosa\n",
      "1                4.9                1.4  setosa\n",
      "2                4.7                1.3  setosa\n",
      "3                4.6                1.5  setosa\n",
      "4                5.0                1.4  setosa\n"
     ]
    }
   ],
   "source": [
    "# Access a single column\n",
    "sepal_length = df['sepal length (cm)']\n",
    "print(\"\\nSepal Length column:\")\n",
    "print(sepal_length.head())\n",
    "\n",
    "# Access multiple columns\n",
    "subset = df[['sepal length (cm)', 'petal length (cm)', 'species']]\n",
    "print(\"\\nMultiple columns:\")\n",
    "print(subset.head())"
   ]
  },
  {
   "cell_type": "markdown",
   "id": "91a8bbb3-3292-42a2-8f99-3df990cd1a77",
   "metadata": {},
   "source": [
    "#### 2. Using .loc[] (label-based indexing)"
   ]
  },
  {
   "cell_type": "code",
   "execution_count": 130,
   "id": "dbe67797-b0c4-42c0-ac63-a2cb7c57c04c",
   "metadata": {},
   "outputs": [
    {
     "name": "stdout",
     "output_type": "stream",
     "text": [
      "\n",
      ".loc[] examples:\n",
      "   sepal width (cm) species\n",
      "0               3.5  setosa\n",
      "1               3.0  setosa\n",
      "2               3.2  setosa\n",
      "    sepal length (cm)  sepal width (cm)  petal length (cm)  petal width (cm)  \\\n",
      "50                7.0               3.2                4.7               1.4   \n",
      "51                6.4               3.2                4.5               1.5   \n",
      "52                6.9               3.1                4.9               1.5   \n",
      "53                5.5               2.3                4.0               1.3   \n",
      "54                6.5               2.8                4.6               1.5   \n",
      "55                5.7               2.8                4.5               1.3   \n",
      "56                6.3               3.3                4.7               1.6   \n",
      "57                4.9               2.4                3.3               1.0   \n",
      "58                6.6               2.9                4.6               1.3   \n",
      "59                5.2               2.7                3.9               1.4   \n",
      "60                5.0               2.0                3.5               1.0   \n",
      "61                5.9               3.0                4.2               1.5   \n",
      "62                6.0               2.2                4.0               1.0   \n",
      "63                6.1               2.9                4.7               1.4   \n",
      "64                5.6               2.9                3.6               1.3   \n",
      "65                6.7               3.1                4.4               1.4   \n",
      "66                5.6               3.0                4.5               1.5   \n",
      "67                5.8               2.7                4.1               1.0   \n",
      "68                6.2               2.2                4.5               1.5   \n",
      "69                5.6               2.5                3.9               1.1   \n",
      "70                5.9               3.2                4.8               1.8   \n",
      "71                6.1               2.8                4.0               1.3   \n",
      "72                6.3               2.5                4.9               1.5   \n",
      "73                6.1               2.8                4.7               1.2   \n",
      "74                6.4               2.9                4.3               1.3   \n",
      "75                6.6               3.0                4.4               1.4   \n",
      "76                6.8               2.8                4.8               1.4   \n",
      "77                6.7               3.0                5.0               1.7   \n",
      "78                6.0               2.9                4.5               1.5   \n",
      "79                5.7               2.6                3.5               1.0   \n",
      "80                5.5               2.4                3.8               1.1   \n",
      "81                5.5               2.4                3.7               1.0   \n",
      "82                5.8               2.7                3.9               1.2   \n",
      "83                6.0               2.7                5.1               1.6   \n",
      "84                5.4               3.0                4.5               1.5   \n",
      "85                6.0               3.4                4.5               1.6   \n",
      "86                6.7               3.1                4.7               1.5   \n",
      "87                6.3               2.3                4.4               1.3   \n",
      "88                5.6               3.0                4.1               1.3   \n",
      "89                5.5               2.5                4.0               1.3   \n",
      "90                5.5               2.6                4.4               1.2   \n",
      "91                6.1               3.0                4.6               1.4   \n",
      "92                5.8               2.6                4.0               1.2   \n",
      "93                5.0               2.3                3.3               1.0   \n",
      "94                5.6               2.7                4.2               1.3   \n",
      "95                5.7               3.0                4.2               1.2   \n",
      "96                5.7               2.9                4.2               1.3   \n",
      "97                6.2               2.9                4.3               1.3   \n",
      "98                5.1               2.5                3.0               1.1   \n",
      "99                5.7               2.8                4.1               1.3   \n",
      "\n",
      "       species  \n",
      "50  versicolor  \n",
      "51  versicolor  \n",
      "52  versicolor  \n",
      "53  versicolor  \n",
      "54  versicolor  \n",
      "55  versicolor  \n",
      "56  versicolor  \n",
      "57  versicolor  \n",
      "58  versicolor  \n",
      "59  versicolor  \n",
      "60  versicolor  \n",
      "61  versicolor  \n",
      "62  versicolor  \n",
      "63  versicolor  \n",
      "64  versicolor  \n",
      "65  versicolor  \n",
      "66  versicolor  \n",
      "67  versicolor  \n",
      "68  versicolor  \n",
      "69  versicolor  \n",
      "70  versicolor  \n",
      "71  versicolor  \n",
      "72  versicolor  \n",
      "73  versicolor  \n",
      "74  versicolor  \n",
      "75  versicolor  \n",
      "76  versicolor  \n",
      "77  versicolor  \n",
      "78  versicolor  \n",
      "79  versicolor  \n",
      "80  versicolor  \n",
      "81  versicolor  \n",
      "82  versicolor  \n",
      "83  versicolor  \n",
      "84  versicolor  \n",
      "85  versicolor  \n",
      "86  versicolor  \n",
      "87  versicolor  \n",
      "88  versicolor  \n",
      "89  versicolor  \n",
      "90  versicolor  \n",
      "91  versicolor  \n",
      "92  versicolor  \n",
      "93  versicolor  \n",
      "94  versicolor  \n",
      "95  versicolor  \n",
      "96  versicolor  \n",
      "97  versicolor  \n",
      "98  versicolor  \n",
      "99  versicolor  \n"
     ]
    }
   ],
   "source": [
    "# Access specific rows and columns by label\n",
    "print(\"\\n.loc[] examples:\")\n",
    "print(df.loc[0:2, ['sepal width (cm)', 'species']])  # Rows 0-2, specific columns\n",
    "print(df.loc[df['species'] == 'versicolor'])  # All rows where species is versicolor"
   ]
  },
  {
   "cell_type": "markdown",
   "id": "3d9d4c18-b746-45ce-bb35-675d0d49c529",
   "metadata": {},
   "source": [
    "#### 3. Using .iloc[] (position-based indexing)"
   ]
  },
  {
   "cell_type": "code",
   "execution_count": 133,
   "id": "86cfcdc1-0c07-4e17-b1ac-4ec5b6ac21f7",
   "metadata": {},
   "outputs": [
    {
     "name": "stdout",
     "output_type": "stream",
     "text": [
      "\n",
      ".iloc[] examples:\n",
      "   sepal width (cm)  petal length (cm)  petal width (cm)\n",
      "0               3.5                1.4               0.2\n",
      "1               3.0                1.4               0.2\n",
      "2               3.2                1.3               0.2\n",
      "     sepal length (cm)  sepal width (cm)  petal length (cm)  petal width (cm)  \\\n",
      "0                  5.1               3.5                1.4               0.2   \n",
      "50                 7.0               3.2                4.7               1.4   \n",
      "100                6.3               3.3                6.0               2.5   \n",
      "\n",
      "        species  \n",
      "0        setosa  \n",
      "50   versicolor  \n",
      "100   virginica  \n"
     ]
    }
   ],
   "source": [
    "# Access specific rows and columns by position\n",
    "print(\"\\n.iloc[] examples:\")\n",
    "print(df.iloc[0:3, 1:4])  # Rows 0-2, columns 1-3\n",
    "print(df.iloc[[0, 50, 100]])  # Specific rows (first of each species)"
   ]
  },
  {
   "cell_type": "markdown",
   "id": "2256c52a-dcdd-4198-aa72-16cc1d45db57",
   "metadata": {},
   "source": [
    "### Adding a New Column"
   ]
  },
  {
   "cell_type": "code",
   "execution_count": 136,
   "id": "e6562a5d-167b-455d-8a3b-042875880c79",
   "metadata": {},
   "outputs": [
    {
     "name": "stdout",
     "output_type": "stream",
     "text": [
      "\n",
      "DataFrame with new sepal area column:\n",
      "   sepal length (cm)  sepal width (cm)  petal length (cm)  petal width (cm)  \\\n",
      "0                5.1               3.5                1.4               0.2   \n",
      "1                4.9               3.0                1.4               0.2   \n",
      "2                4.7               3.2                1.3               0.2   \n",
      "3                4.6               3.1                1.5               0.2   \n",
      "4                5.0               3.6                1.4               0.2   \n",
      "\n",
      "  species  sepal area (cm²)  \n",
      "0  setosa             17.85  \n",
      "1  setosa             14.70  \n",
      "2  setosa             15.04  \n",
      "3  setosa             14.26  \n",
      "4  setosa             18.00  \n"
     ]
    }
   ],
   "source": [
    "# Add a new calculated column\n",
    "df['sepal area (cm²)'] = df['sepal length (cm)'] * df['sepal width (cm)']\n",
    "print(\"\\nDataFrame with new sepal area column:\")\n",
    "print(df.head())"
   ]
  },
  {
   "cell_type": "markdown",
   "id": "20c84ea1-888c-49f7-adea-afe9c2a920ae",
   "metadata": {},
   "source": [
    "### Dropping Data"
   ]
  },
  {
   "cell_type": "markdown",
   "id": "4a9354b5-7c86-47a2-bbf7-76d6a88de676",
   "metadata": {},
   "source": [
    "#### 1. Dropping Columns"
   ]
  },
  {
   "cell_type": "code",
   "execution_count": 140,
   "id": "f24e949d-8b6e-4c8e-8a74-92ca1305f72c",
   "metadata": {},
   "outputs": [
    {
     "name": "stdout",
     "output_type": "stream",
     "text": [
      "\n",
      "DataFrame after dropping sepal area column:\n",
      "   sepal length (cm)  sepal width (cm)  petal length (cm)  petal width (cm)  \\\n",
      "0                5.1               3.5                1.4               0.2   \n",
      "1                4.9               3.0                1.4               0.2   \n",
      "2                4.7               3.2                1.3               0.2   \n",
      "3                4.6               3.1                1.5               0.2   \n",
      "4                5.0               3.6                1.4               0.2   \n",
      "\n",
      "  species  \n",
      "0  setosa  \n",
      "1  setosa  \n",
      "2  setosa  \n",
      "3  setosa  \n",
      "4  setosa  \n",
      "\n",
      "DataFrame after dropping sepal measurements:\n",
      "   petal length (cm)  petal width (cm) species  sepal area (cm²)\n",
      "0                1.4               0.2  setosa             17.85\n",
      "1                1.4               0.2  setosa             14.70\n",
      "2                1.3               0.2  setosa             15.04\n",
      "3                1.5               0.2  setosa             14.26\n",
      "4                1.4               0.2  setosa             18.00\n"
     ]
    }
   ],
   "source": [
    "# Drop the sepal area column we just created\n",
    "df_dropped = df.drop('sepal area (cm²)', axis=1)\n",
    "print(\"\\nDataFrame after dropping sepal area column:\")\n",
    "print(df_dropped.head())\n",
    "\n",
    "# Drop multiple columns\n",
    "df_dropped = df.drop(['sepal length (cm)', 'sepal width (cm)'], axis=1)\n",
    "print(\"\\nDataFrame after dropping sepal measurements:\")\n",
    "print(df_dropped.head())"
   ]
  },
  {
   "cell_type": "markdown",
   "id": "963d9d8a-7610-4652-b113-6933980d08c3",
   "metadata": {},
   "source": [
    "#### 2. Dropping Rows"
   ]
  },
  {
   "cell_type": "code",
   "execution_count": 143,
   "id": "1368c551-210e-4e70-8b0a-8f990a75eeda",
   "metadata": {},
   "outputs": [
    {
     "name": "stdout",
     "output_type": "stream",
     "text": [
      "\n",
      "DataFrame after dropping first three rows:\n",
      "   sepal length (cm)  sepal width (cm)  petal length (cm)  petal width (cm)  \\\n",
      "3                4.6               3.1                1.5               0.2   \n",
      "4                5.0               3.6                1.4               0.2   \n",
      "5                5.4               3.9                1.7               0.4   \n",
      "6                4.6               3.4                1.4               0.3   \n",
      "7                5.0               3.4                1.5               0.2   \n",
      "\n",
      "  species  sepal area (cm²)  \n",
      "3  setosa             14.26  \n",
      "4  setosa             18.00  \n",
      "5  setosa             21.06  \n",
      "6  setosa             15.64  \n",
      "7  setosa             17.00  \n",
      "\n",
      "DataFrame without setosa species:\n",
      "    sepal length (cm)  sepal width (cm)  petal length (cm)  petal width (cm)  \\\n",
      "50                7.0               3.2                4.7               1.4   \n",
      "51                6.4               3.2                4.5               1.5   \n",
      "52                6.9               3.1                4.9               1.5   \n",
      "53                5.5               2.3                4.0               1.3   \n",
      "54                6.5               2.8                4.6               1.5   \n",
      "\n",
      "       species  sepal area (cm²)  \n",
      "50  versicolor             22.40  \n",
      "51  versicolor             20.48  \n",
      "52  versicolor             21.39  \n",
      "53  versicolor             12.65  \n",
      "54  versicolor             18.20  \n"
     ]
    }
   ],
   "source": [
    "# Drop rows by index\n",
    "df_dropped_rows = df.drop([0, 1, 2])  # Drop first three rows\n",
    "print(\"\\nDataFrame after dropping first three rows:\")\n",
    "print(df_dropped_rows.head())\n",
    "\n",
    "# Drop rows based on condition\n",
    "df_no_setosa = df[df['species'] != 'setosa']  # Alternative to drop\n",
    "print(\"\\nDataFrame without setosa species:\")\n",
    "print(df_no_setosa.head())"
   ]
  },
  {
   "cell_type": "markdown",
   "id": "3ea64d51-ab80-4b52-950b-5ea6a9dfb232",
   "metadata": {},
   "source": [
    "\n",
    "\n",
    "These operations form the foundation for data manipulation in pandas, allowing you to select exactly the data you need for analysis."
   ]
  },
  {
   "cell_type": "markdown",
   "id": "41db3791-8810-42b7-bfd0-d60ea1dc4b0c",
   "metadata": {},
   "source": [
    "## Task 4: Built-in Methods"
   ]
  },
  {
   "cell_type": "markdown",
   "id": "42ce394b-2e16-41a3-b315-fa96481efcbb",
   "metadata": {},
   "source": [
    "### 1. Sorting Values with .sort_values()"
   ]
  },
  {
   "cell_type": "code",
   "execution_count": 154,
   "id": "d94f06fc-ff9b-4ee2-8f77-b48ab9526a35",
   "metadata": {},
   "outputs": [
    {
     "name": "stdout",
     "output_type": "stream",
     "text": [
      "Top 5 flowers by sepal length:\n",
      "     sepal length (cm)  sepal width (cm)  petal length (cm)  petal width (cm)  \\\n",
      "131                7.9               3.8                6.4               2.0   \n",
      "135                7.7               3.0                6.1               2.3   \n",
      "122                7.7               2.8                6.7               2.0   \n",
      "117                7.7               3.8                6.7               2.2   \n",
      "118                7.7               2.6                6.9               2.3   \n",
      "\n",
      "       species  sepal area (cm²)  \n",
      "131  virginica             30.02  \n",
      "135  virginica             23.10  \n",
      "122  virginica             21.56  \n",
      "117  virginica             29.26  \n",
      "118  virginica             20.02  \n"
     ]
    }
   ],
   "source": [
    "# Sort by sepal length in descending order\n",
    "sorted_df = df.sort_values('sepal length (cm)', ascending=False)\n",
    "\n",
    "# Show top 5 longest sepals\n",
    "print(\"Top 5 flowers by sepal length:\")\n",
    "print(sorted_df.head())"
   ]
  },
  {
   "cell_type": "markdown",
   "id": "3ddf6a49-1744-465a-acc2-2c61b08906ab",
   "metadata": {},
   "source": [
    "### 2. Counting Values with .value_counts()"
   ]
  },
  {
   "cell_type": "code",
   "execution_count": 157,
   "id": "3d5312d8-8d47-4d67-b5da-1aafc2afe4cd",
   "metadata": {},
   "outputs": [
    {
     "name": "stdout",
     "output_type": "stream",
     "text": [
      "\n",
      "Species distribution:\n",
      "species\n",
      "setosa        50\n",
      "versicolor    50\n",
      "virginica     50\n",
      "Name: count, dtype: int64\n"
     ]
    }
   ],
   "source": [
    "# Count occurrences of each species\n",
    "species_counts = df['species'].value_counts()\n",
    "\n",
    "print(\"\\nSpecies distribution:\")\n",
    "print(species_counts)"
   ]
  },
  {
   "cell_type": "markdown",
   "id": "1116851d-f3d9-4aa1-bb0e-fe277b23d685",
   "metadata": {},
   "source": [
    "### 3. Finding Unique Values with .unique()"
   ]
  },
  {
   "cell_type": "code",
   "execution_count": 164,
   "id": "30690589-9982-4309-a454-dbb36146e506",
   "metadata": {},
   "outputs": [
    {
     "name": "stdout",
     "output_type": "stream",
     "text": [
      "\n",
      "Unique species in dataset:\n",
      "['setosa' 'versicolor' 'virginica']\n"
     ]
    }
   ],
   "source": [
    "# Get unique species names\n",
    "unique_species = df['species'].unique()\n",
    "\n",
    "print(\"\\nUnique species in dataset:\")\n",
    "print(unique_species)"
   ]
  },
  {
   "cell_type": "markdown",
   "id": "73661843-b45f-428f-91bc-3bc62bfc49d0",
   "metadata": {},
   "source": [
    "### 4. Basic Statistics Methods"
   ]
  },
  {
   "cell_type": "markdown",
   "id": "60bbdea9-fb29-4213-8b17-2c4c0dbcfc20",
   "metadata": {},
   "source": [
    "#### Column-wise statistics:"
   ]
  },
  {
   "cell_type": "code",
   "execution_count": 168,
   "id": "fb96f5ac-73ab-4286-803e-b1512c179e9e",
   "metadata": {},
   "outputs": [
    {
     "name": "stdout",
     "output_type": "stream",
     "text": [
      "\n",
      "Basic Statistics:\n",
      "Mean sepal length: 5.84 cm\n",
      "Minimum petal width: 0.10 cm\n",
      "Maximum sepal width: 4.40 cm\n",
      "Total petal length: 563.70 cm\n"
     ]
    }
   ],
   "source": [
    "# Calculate mean sepal length\n",
    "mean_sepal_length = df['sepal length (cm)'].mean()\n",
    "\n",
    "# Calculate minimum petal width\n",
    "min_petal_width = df['petal width (cm)'].min()\n",
    "\n",
    "# Calculate maximum sepal width\n",
    "max_sepal_width = df['sepal width (cm)'].max()\n",
    "\n",
    "# Sum of all petal lengths\n",
    "total_petal_length = df['petal length (cm)'].sum()\n",
    "\n",
    "print(\"\\nBasic Statistics:\")\n",
    "print(f\"Mean sepal length: {mean_sepal_length:.2f} cm\")\n",
    "print(f\"Minimum petal width: {min_petal_width:.2f} cm\") \n",
    "print(f\"Maximum sepal width: {max_sepal_width:.2f} cm\")\n",
    "print(f\"Total petal length: {total_petal_length:.2f} cm\")"
   ]
  },
  {
   "cell_type": "markdown",
   "id": "73fb816f-df5b-4648-8caa-5b4b1155ae76",
   "metadata": {},
   "source": [
    "### Key Takeaways"
   ]
  },
  {
   "cell_type": "markdown",
   "id": "d1eaad23-8e13-4c9e-84fa-e3be0ba0a3a5",
   "metadata": {},
   "source": [
    "**1. Sorting:**  \n",
    "   - .sort_values() - Reorder your data based on column values\n",
    "   - Essential for ranking and identifying extremes\n",
    "\n",
    "**2. Categorical Analysis:**\n",
    "- .value_counts() - Count occurrences of each category  \n",
    "- .unique() - List all distinct categories  \n",
    "\n",
    "**3. Numerical Analysis:** \n",
    "- .mean()/.sum()/.min()/.max() - Basic descriptive statistics\n",
    "- Often used with groupby() for segmented analysis"
   ]
  }
 ],
 "metadata": {
  "kernelspec": {
   "display_name": "Python [conda env:Anaconda]",
   "language": "python",
   "name": "conda-env-Anaconda-py"
  },
  "language_info": {
   "codemirror_mode": {
    "name": "ipython",
    "version": 3
   },
   "file_extension": ".py",
   "mimetype": "text/x-python",
   "name": "python",
   "nbconvert_exporter": "python",
   "pygments_lexer": "ipython3",
   "version": "3.12.7"
  }
 },
 "nbformat": 4,
 "nbformat_minor": 5
}
