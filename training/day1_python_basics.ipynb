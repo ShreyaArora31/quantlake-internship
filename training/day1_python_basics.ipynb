{
 "cells": [
  {
   "cell_type": "markdown",
   "id": "e0934a4e-ebd0-452c-b923-e5af8ae76f70",
   "metadata": {},
   "source": [
    "## Python Basics"
   ]
  },
  {
   "cell_type": "markdown",
   "id": "15e3249b-9fce-4018-a410-d5cddb005b5a",
   "metadata": {},
   "source": [
    "## Variables and Data Types"
   ]
  },
  {
   "cell_type": "code",
   "execution_count": 27,
   "id": "9feb6824-82ef-448a-9797-cab81278c3f2",
   "metadata": {},
   "outputs": [
    {
     "data": {
      "text/plain": [
       "10"
      ]
     },
     "execution_count": 27,
     "metadata": {},
     "output_type": "execute_result"
    }
   ],
   "source": [
    "a = 10 # a is a variable, its value can be changed afterwordslll\n",
    "a"
   ]
  },
  {
   "cell_type": "code",
   "execution_count": 29,
   "id": "14a0dac1-99ae-430f-96b8-c1c5979e9cb2",
   "metadata": {},
   "outputs": [
    {
     "data": {
      "text/plain": [
       "int"
      ]
     },
     "execution_count": 29,
     "metadata": {},
     "output_type": "execute_result"
    }
   ],
   "source": [
    "type(a) # a is of integer type\n"
   ]
  },
  {
   "cell_type": "code",
   "execution_count": 31,
   "id": "0b3bb35c-6597-486f-97b0-1f5ec2e04d46",
   "metadata": {},
   "outputs": [
    {
     "data": {
      "text/plain": [
       "float"
      ]
     },
     "execution_count": 31,
     "metadata": {},
     "output_type": "execute_result"
    }
   ],
   "source": [
    "a = 10.2\n",
    "type(a)\n"
   ]
  },
  {
   "cell_type": "code",
   "execution_count": 35,
   "id": "68259bb1-b67d-40d6-835c-5d4b72f585ed",
   "metadata": {},
   "outputs": [
    {
     "data": {
      "text/plain": [
       "bool"
      ]
     },
     "execution_count": 35,
     "metadata": {},
     "output_type": "execute_result"
    }
   ],
   "source": [
    "a = True\n",
    "type(a)"
   ]
  },
  {
   "cell_type": "code",
   "execution_count": 37,
   "id": "72d05a06-aee6-4080-a059-e9cfe0ae8c18",
   "metadata": {},
   "outputs": [
    {
     "data": {
      "text/plain": [
       "'Hello World!'"
      ]
     },
     "execution_count": 37,
     "metadata": {},
     "output_type": "execute_result"
    }
   ],
   "source": [
    "s = \"Hello World!\"\n",
    "s"
   ]
  },
  {
   "cell_type": "code",
   "execution_count": 39,
   "id": "86265cbb-e6d2-405f-bc49-f0f667fa1d95",
   "metadata": {},
   "outputs": [
    {
     "data": {
      "text/plain": [
       "str"
      ]
     },
     "execution_count": 39,
     "metadata": {},
     "output_type": "execute_result"
    }
   ],
   "source": [
    "type(s)"
   ]
  },
  {
   "cell_type": "code",
   "execution_count": 41,
   "id": "b4cad29e-2e6f-4703-b82e-0f8dda13c1fa",
   "metadata": {},
   "outputs": [
    {
     "data": {
      "text/plain": [
       "list"
      ]
     },
     "execution_count": 41,
     "metadata": {},
     "output_type": "execute_result"
    }
   ],
   "source": [
    "li = [1, 2, 3] \n",
    "type(li)"
   ]
  },
  {
   "cell_type": "code",
   "execution_count": 43,
   "id": "aa093aec-88f8-4edb-9de7-a09eb4ff5632",
   "metadata": {},
   "outputs": [
    {
     "data": {
      "text/plain": [
       "dict"
      ]
     },
     "execution_count": 43,
     "metadata": {},
     "output_type": "execute_result"
    }
   ],
   "source": [
    "d = {'Key': 'value'}\n",
    "type(d)"
   ]
  },
  {
   "cell_type": "markdown",
   "id": "db6685c6-fc1e-49cf-8d57-6fdc3b5d2946",
   "metadata": {},
   "source": [
    "## Arithmetic Operations\n"
   ]
  },
  {
   "cell_type": "code",
   "execution_count": 11,
   "id": "38c3fc39-052a-4b14-9c7f-18970ffa3196",
   "metadata": {},
   "outputs": [
    {
     "data": {
      "text/plain": [
       "3"
      ]
     },
     "execution_count": 11,
     "metadata": {},
     "output_type": "execute_result"
    }
   ],
   "source": [
    "# the above headings were made using markdown\n",
    "a = 1 # a is a variable and its data type is integer which is assigned to 1 \n",
    "b = 2\n",
    "a + b #addition operation"
   ]
  },
  {
   "cell_type": "code",
   "execution_count": 13,
   "id": "3f487c22-7c88-49b4-84a7-7c8b2a693541",
   "metadata": {},
   "outputs": [
    {
     "data": {
      "text/plain": [
       "2"
      ]
     },
     "execution_count": 13,
     "metadata": {},
     "output_type": "execute_result"
    }
   ],
   "source": [
    "a * b # multiplication operation"
   ]
  },
  {
   "cell_type": "code",
   "execution_count": 15,
   "id": "2270fb9a-9653-441f-923e-335835aa482c",
   "metadata": {},
   "outputs": [
    {
     "data": {
      "text/plain": [
       "-1"
      ]
     },
     "execution_count": 15,
     "metadata": {},
     "output_type": "execute_result"
    }
   ],
   "source": [
    "a - b # subtraction operation"
   ]
  },
  {
   "cell_type": "code",
   "execution_count": 21,
   "id": "9f0f3e55-dd9b-479c-aa3e-2b8a6c880582",
   "metadata": {},
   "outputs": [
    {
     "data": {
      "text/plain": [
       "0.5"
      ]
     },
     "execution_count": 21,
     "metadata": {},
     "output_type": "execute_result"
    }
   ],
   "source": [
    "a / b # division operation\n"
   ]
  },
  {
   "cell_type": "code",
   "execution_count": 23,
   "id": "d0184446-eb78-450f-a84a-9b2415c585da",
   "metadata": {},
   "outputs": [
    {
     "data": {
      "text/plain": [
       "1"
      ]
     },
     "execution_count": 23,
     "metadata": {},
     "output_type": "execute_result"
    }
   ],
   "source": [
    "pow(a, b) # exponentiation"
   ]
  },
  {
   "cell_type": "code",
   "execution_count": 25,
   "id": "9f71f2aa-1c8b-44c3-915e-95b1c2436d63",
   "metadata": {},
   "outputs": [
    {
     "data": {
      "text/plain": [
       "1"
      ]
     },
     "execution_count": 25,
     "metadata": {},
     "output_type": "execute_result"
    }
   ],
   "source": [
    "a % b # modulus operation"
   ]
  },
  {
   "cell_type": "markdown",
   "id": "315029b2-9e5a-43ae-8944-124ff24a3760",
   "metadata": {},
   "source": [
    "## Lists\n"
   ]
  },
  {
   "cell_type": "code",
   "execution_count": 46,
   "id": "777f1e43-d534-43c8-8f3d-1ec9ad0fb468",
   "metadata": {},
   "outputs": [
    {
     "name": "stdout",
     "output_type": "stream",
     "text": [
      "[10, 20, 'Shreya', 40, True]\n",
      "10\n",
      "20\n",
      "Shreya\n",
      "40\n",
      "True\n",
      "<class 'str'>\n",
      "<class 'bool'>\n"
     ]
    }
   ],
   "source": [
    "# Creating a Python list with different data types\n",
    "a = [10, 20, \"Shreya\", 40, True]\n",
    "\n",
    "print(a)\n",
    "\n",
    "# Accessing elements using indexing\n",
    "print(a[0])  # 10\n",
    "print(a[1])  # 20\n",
    "print(a[2])  # \"Shreya\"\n",
    "print(a[3])  # 40\n",
    "print(a[4])  # True\n",
    "\n",
    "# Checking types of elements\n",
    "print(type(a[2]))  # str\n",
    "print(type(a[4]))  # bool"
   ]
  },
  {
   "cell_type": "code",
   "execution_count": 48,
   "id": "771e0bb1-d42d-4e25-a019-f411078fe4a5",
   "metadata": {},
   "outputs": [
    {
     "name": "stdout",
     "output_type": "stream",
     "text": [
      "After append(10): [10]\n",
      "After insert(0, 5): [5, 10]\n",
      "After extend([15, 20, 25]): [5, 10, 15, 20, 25]\n"
     ]
    }
   ],
   "source": [
    "# Initialize an empty list\n",
    "a = []\n",
    "\n",
    "# Adding 10 to end of list\n",
    "a.append(10)  \n",
    "print(\"After append(10):\", a)  \n",
    "\n",
    "# Inserting 5 at index 0\n",
    "a.insert(0, 5)\n",
    "print(\"After insert(0, 5):\", a) \n",
    "\n",
    "# Adding multiple elements  [15, 20, 25] at the end\n",
    "a.extend([15, 20, 25])  \n",
    "print(\"After extend([15, 20, 25]):\", a)"
   ]
  },
  {
   "cell_type": "markdown",
   "id": "2e017d5e-9f51-4665-8d92-79efffed4ee5",
   "metadata": {},
   "source": [
    "## Tuples"
   ]
  },
  {
   "cell_type": "code",
   "execution_count": 51,
   "id": "273b87a6-79f4-4e56-ad59-9d410274d403",
   "metadata": {},
   "outputs": [
    {
     "name": "stdout",
     "output_type": "stream",
     "text": [
      "()\n",
      "('Hello', 'World')\n",
      "(1, 2, 4, 5, 6)\n",
      "('Q', 'u', 'a', 'n', 't', 'L', 'a', 'k', 'e')\n"
     ]
    }
   ],
   "source": [
    "tup = ()\n",
    "print(tup)\n",
    "\n",
    "# Using String\n",
    "tup = ('Hello', 'World')\n",
    "print(tup)\n",
    "\n",
    "# Using List\n",
    "li = [1, 2, 4, 5, 6]\n",
    "print(tuple(li))\n",
    "\n",
    "# Using Built-in Function\n",
    "tup = tuple('QuantLake')\n",
    "print(tup)"
   ]
  },
  {
   "cell_type": "markdown",
   "id": "16163f31-9c60-4832-a5fc-c3f2ab2129b7",
   "metadata": {},
   "source": [
    "## Dictionaries"
   ]
  },
  {
   "cell_type": "code",
   "execution_count": 54,
   "id": "01525f0c-011f-408e-9fc0-ea58bc45c18d",
   "metadata": {},
   "outputs": [
    {
     "name": "stdout",
     "output_type": "stream",
     "text": [
      "{1: 'Consistency', 2: 'Is', 3: 'The', 4: 'Key'}\n",
      "{'a': 'Learning', 'b': 'Is', 'c': 'Fun'}\n"
     ]
    }
   ],
   "source": [
    "d1 = {1: 'Consistency', 2: 'Is', 3: 'The', 4: 'Key'}\n",
    "print(d1)\n",
    "\n",
    "# create dictionary using dict() constructor\n",
    "d2 = dict(a = \"Learning\", b = \"Is\", c = \"Fun\")\n",
    "print(d2)"
   ]
  },
  {
   "cell_type": "markdown",
   "id": "e07bfc5b-4ce6-4e4b-b6b7-3c89255350dd",
   "metadata": {},
   "source": [
    "## Comparison Operations"
   ]
  },
  {
   "cell_type": "code",
   "execution_count": 57,
   "id": "00fc2987-fede-4dac-8ed9-9edb74197bef",
   "metadata": {},
   "outputs": [
    {
     "name": "stdout",
     "output_type": "stream",
     "text": [
      "False\n",
      "True\n"
     ]
    }
   ],
   "source": [
    "a = 9\n",
    "b = 5\n",
    "c = 9\n",
    "\n",
    "# Output\n",
    "print(a == b) #equality operator\n",
    "print(a == c)"
   ]
  },
  {
   "cell_type": "code",
   "execution_count": 59,
   "id": "4200bd1b-0815-4843-a4dd-33f2e7526c99",
   "metadata": {},
   "outputs": [
    {
     "name": "stdout",
     "output_type": "stream",
     "text": [
      "True\n",
      "False\n"
     ]
    }
   ],
   "source": [
    "a = 9\n",
    "b = 5\n",
    "c = 9\n",
    "\n",
    "# Output\n",
    "print(a != b) #inequality operator\n",
    "print(a != c)"
   ]
  },
  {
   "cell_type": "code",
   "execution_count": 61,
   "id": "dc53cd50-4c59-4cb8-9fe3-d40f64078ba7",
   "metadata": {},
   "outputs": [
    {
     "name": "stdout",
     "output_type": "stream",
     "text": [
      "True\n",
      "False\n"
     ]
    }
   ],
   "source": [
    "a = 9\n",
    "b = 5\n",
    "\n",
    "# Output\n",
    "print(a > b) #greater than comparison\n",
    "print(b > a)"
   ]
  },
  {
   "cell_type": "code",
   "execution_count": 63,
   "id": "faa74092-f842-4281-8e13-30e56bb73241",
   "metadata": {},
   "outputs": [
    {
     "name": "stdout",
     "output_type": "stream",
     "text": [
      "False\n",
      "True\n"
     ]
    }
   ],
   "source": [
    "a = 9\n",
    "b = 5\n",
    "\n",
    "# Output\n",
    "print(a < b) #lesser than operation\n",
    "print(b < a)"
   ]
  },
  {
   "cell_type": "code",
   "execution_count": 65,
   "id": "499ef546-566e-44f5-b2d3-06183c591d7c",
   "metadata": {},
   "outputs": [
    {
     "name": "stdout",
     "output_type": "stream",
     "text": [
      "True\n",
      "True\n",
      "False\n"
     ]
    }
   ],
   "source": [
    "a = 9\n",
    "b = 5\n",
    "c = 9\n",
    "\n",
    "# Output\n",
    "print(a >= b) #greater than equal to operator\n",
    "print(a >= c)\n",
    "print(b >= a)"
   ]
  },
  {
   "cell_type": "code",
   "execution_count": 67,
   "id": "2b608fe9-a405-4d83-9b74-d4c00b77c753",
   "metadata": {},
   "outputs": [
    {
     "name": "stdout",
     "output_type": "stream",
     "text": [
      "False\n",
      "True\n",
      "True\n"
     ]
    }
   ],
   "source": [
    "a = 9\n",
    "b = 5\n",
    "c = 9\n",
    "\n",
    "# Output\n",
    "print(a <= b) #lesser than equal to operator\n",
    "print(a <= c)\n",
    "print(b <= a)"
   ]
  },
  {
   "cell_type": "markdown",
   "id": "bd691c30-7492-422b-8004-941f08f5a166",
   "metadata": {},
   "source": [
    "## Loops"
   ]
  },
  {
   "cell_type": "code",
   "execution_count": 71,
   "id": "96dea394-e6b3-43e9-a22f-17b79f055159",
   "metadata": {},
   "outputs": [
    {
     "name": "stdout",
     "output_type": "stream",
     "text": [
      "1\n",
      "2\n",
      "3\n"
     ]
    }
   ],
   "source": [
    "cnt = 0\n",
    "while (cnt < 3): #while loop\n",
    "    cnt = cnt + 1\n",
    "    print(cnt)   "
   ]
  },
  {
   "cell_type": "code",
   "execution_count": 73,
   "id": "621cc087-dd52-4a99-8066-abd25a809ee2",
   "metadata": {},
   "outputs": [
    {
     "name": "stdout",
     "output_type": "stream",
     "text": [
      "0\n",
      "1\n",
      "2\n",
      "3\n"
     ]
    }
   ],
   "source": [
    "n = 4\n",
    "for i in range(0, n): # for loop\n",
    "    print(i)"
   ]
  },
  {
   "cell_type": "code",
   "execution_count": 75,
   "id": "72bf1a93-b325-46ab-bc17-389a12c9c5ba",
   "metadata": {},
   "outputs": [
    {
     "name": "stdout",
     "output_type": "stream",
     "text": [
      "a\n",
      "b\n",
      "c\n",
      "d\n",
      "e\n",
      "f\n",
      "S\n",
      "h\n",
      "r\n",
      "e\n",
      "y\n",
      "a\n",
      "x  123\n",
      "y  354\n",
      "1\n",
      "2\n",
      "3\n",
      "4\n",
      "5\n",
      "6\n"
     ]
    }
   ],
   "source": [
    "li = [\"a\", \"b\", \"c\"]\n",
    "for i in li:\n",
    "    print(i)\n",
    "    \n",
    "tup = (\"d\", \"e\", \"f\")\n",
    "for i in tup:\n",
    "    print(i)\n",
    "    \n",
    "s = \"Shreya\"\n",
    "for i in s:\n",
    "    print(i)\n",
    "    \n",
    "d = dict({'x':123, 'y':354})\n",
    "for i in d:\n",
    "    print(\"%s  %d\" % (i, d[i]))\n",
    "    \n",
    "set1 = {1, 2, 3, 4, 5, 6}\n",
    "for i in set1:\n",
    "    print(i),"
   ]
  },
  {
   "cell_type": "code",
   "execution_count": 77,
   "id": "b07e444c-8e12-4390-b398-894a54d28047",
   "metadata": {},
   "outputs": [
    {
     "name": "stdout",
     "output_type": "stream",
     "text": [
      "maths\n",
      "english\n",
      "science\n"
     ]
    }
   ],
   "source": [
    "subjects = [\"maths\", \"english\", \"science\"]\n",
    "\n",
    "for subject in subjects:\n",
    "\n",
    "    print(subject)"
   ]
  },
  {
   "cell_type": "markdown",
   "id": "41b6f196-94c4-457b-be23-50e3cfd94655",
   "metadata": {},
   "source": [
    "## Conditional statements: if, else if, nested if"
   ]
  },
  {
   "cell_type": "code",
   "execution_count": 84,
   "id": "b892ed08-ded1-4e8e-a302-ac1b516a3965",
   "metadata": {},
   "outputs": [
    {
     "name": "stdout",
     "output_type": "stream",
     "text": [
      "Pass\n"
     ]
    }
   ],
   "source": [
    "marks = 95 # if statement\n",
    "\n",
    "if marks >= 33:\n",
    "    print(\"Pass\")"
   ]
  },
  {
   "cell_type": "code",
   "execution_count": 80,
   "id": "d45e56a0-5554-4ae0-bc31-48b2afcc13f0",
   "metadata": {},
   "outputs": [
    {
     "name": "stdout",
     "output_type": "stream",
     "text": [
      "Young adult.\n"
     ]
    }
   ],
   "source": [
    "age = 25  # elif statement\n",
    "\n",
    "if age <= 12:\n",
    "    print(\"Child.\")\n",
    "elif age <= 19:\n",
    "    print(\"Teenager.\")\n",
    "elif age <= 35:\n",
    "    print(\"Young adult.\")\n",
    "else:\n",
    "    print(\"Adult.\")"
   ]
  },
  {
   "cell_type": "code",
   "execution_count": 86,
   "id": "61bfe086-8ef9-4134-b9b8-987356826f02",
   "metadata": {},
   "outputs": [
    {
     "name": "stdout",
     "output_type": "stream",
     "text": [
      "30% senior discount!\n"
     ]
    }
   ],
   "source": [
    "age = 70 #nested if-else\n",
    "is_member = True\n",
    "\n",
    "if age >= 60:\n",
    "    if is_member:\n",
    "        print(\"30% senior discount!\")\n",
    "    else:\n",
    "        print(\"20% senior discount.\")\n",
    "else:\n",
    "    print(\"Not eligible for a senior discount.\")"
   ]
  },
  {
   "cell_type": "code",
   "execution_count": null,
   "id": "8c7a5cbf-6d1b-441a-ae41-61b32b3069cc",
   "metadata": {},
   "outputs": [],
   "source": []
  }
 ],
 "metadata": {
  "kernelspec": {
   "display_name": "Python [conda env:Anaconda]",
   "language": "python",
   "name": "conda-env-Anaconda-py"
  },
  "language_info": {
   "codemirror_mode": {
    "name": "ipython",
    "version": 3
   },
   "file_extension": ".py",
   "mimetype": "text/x-python",
   "name": "python",
   "nbconvert_exporter": "python",
   "pygments_lexer": "ipython3",
   "version": "3.12.7"
  }
 },
 "nbformat": 4,
 "nbformat_minor": 5
}
