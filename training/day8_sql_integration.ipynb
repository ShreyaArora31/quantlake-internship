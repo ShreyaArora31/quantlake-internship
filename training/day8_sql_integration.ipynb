{
 "cells": [
  {
   "cell_type": "markdown",
   "id": "68cc796a-a3f9-44ca-ac68-e90f4e93c6ec",
   "metadata": {},
   "source": [
    "## SQL & Data Integration"
   ]
  },
  {
   "cell_type": "markdown",
   "id": "b42015b1-82cf-442c-a241-84a83eadafdb",
   "metadata": {},
   "source": [
    "## Task 1: Advanced Filtering and Aggregation"
   ]
  },
  {
   "cell_type": "markdown",
   "id": "d2cb19c7-1c44-4e63-bd91-87f017ec45ba",
   "metadata": {},
   "source": [
    "### Basic Aggregation with WHERE + GROUP BY"
   ]
  },
  {
   "cell_type": "code",
   "execution_count": 39,
   "id": "b3e362c4-f559-4d32-bb46-b4eae032ea64",
   "metadata": {},
   "outputs": [
    {
     "name": "stdout",
     "output_type": "stream",
     "text": [
      "('Chile', 3, 12.57)\n",
      "('Ireland', 3, 12.236666666666666)\n",
      "('Hungary', 3, 12.236666666666666)\n",
      "('Czech Republic', 6, 12.07)\n",
      "('Austria', 3, 11.236666666666666)\n",
      "('Netherlands', 3, 10.57)\n",
      "('Norway', 3, 10.236666666666666)\n",
      "('Germany', 12, 10.07)\n",
      "('Sweden', 3, 9.903333333333334)\n",
      "('Portugal', 6, 9.903333333333334)\n",
      "('France', 15, 9.770000000000001)\n",
      "('Canada', 24, 9.611666666666666)\n",
      "('United Kingdom', 9, 9.57)\n",
      "('Spain', 3, 9.57)\n",
      "('Poland', 3, 9.57)\n",
      "('Italy', 3, 9.57)\n",
      "('India', 6, 9.57)\n",
      "('Denmark', 3, 9.57)\n",
      "('Brazil', 15, 9.57)\n",
      "('Belgium', 3, 9.57)\n",
      "('Australia', 3, 9.57)\n",
      "('Argentina', 3, 9.57)\n",
      "('Finland', 4, 9.1675)\n"
     ]
    }
   ],
   "source": [
    "# Setup and Import Libraries\n",
    "import sqlite3\n",
    "\n",
    "# Connect to Chinook database\n",
    "conn = sqlite3.connect(\"chinook.db\")\n",
    "\n",
    "# Create a cursor to execute SQL commands\n",
    "cur = conn.cursor()\n",
    "\n",
    "# Execute SQL query with filtering, aggregation, and GROUP BY\n",
    "cur.execute(\"\"\"\n",
    "SELECT BillingCountry AS Region,\n",
    "       COUNT(*) AS NumInvoices,\n",
    "       AVG(Total) AS AvgSales\n",
    "FROM invoices\n",
    "WHERE Total > 5 AND BillingCountry != 'USA'\n",
    "GROUP BY BillingCountry\n",
    "ORDER BY AvgSales DESC;\n",
    "\"\"\")\n",
    "\n",
    "# Fetch all results\n",
    "results = cur.fetchall()\n",
    "\n",
    "# Display results\n",
    "for row in results:\n",
    "    print(row)"
   ]
  },
  {
   "cell_type": "markdown",
   "id": "e872e495-d4a6-4686-a981-84b49051b2dd",
   "metadata": {},
   "source": [
    "## Task 2: Subqueries and Nesting"
   ]
  },
  {
   "cell_type": "markdown",
   "id": "b14011d1-78bb-4532-9029-584c2e62e81f",
   "metadata": {},
   "source": [
    "### Query with Subquery in WHERE clause"
   ]
  },
  {
   "cell_type": "code",
   "execution_count": 57,
   "id": "e5890c0f-cab3-4b39-a760-4d3a8d057dfe",
   "metadata": {},
   "outputs": [
    {
     "name": "stdout",
     "output_type": "stream",
     "text": [
      "('Bjørn Hansen',)\n",
      "('František Wichterlová',)\n",
      "('Helena Holý',)\n",
      "('Astrid Gruber',)\n",
      "('Frank Ralston',)\n",
      "('Victor Stevens',)\n",
      "('Richard Cunningham',)\n",
      "('Isabelle Mercier',)\n",
      "('Ladislav Kovács',)\n",
      "(\"Hugh O'Reilly\",)\n",
      "('Luis Rojas',)\n"
     ]
    }
   ],
   "source": [
    "# Execute subquery\n",
    "cur.execute(\"\"\"\n",
    "SELECT FirstName || ' ' || LastName AS Name\n",
    "FROM customers\n",
    "WHERE CustomerId IN (\n",
    "    SELECT CustomerId\n",
    "    FROM invoices\n",
    "    WHERE Total > 15\n",
    ");\n",
    "\"\"\")\n",
    "\n",
    "# Fetch and display results\n",
    "results = cur.fetchall()\n",
    "for row in results:\n",
    "    print(row)"
   ]
  },
  {
   "cell_type": "markdown",
   "id": "708e93f2-0658-4eb6-aed1-ff17aac41474",
   "metadata": {},
   "source": [
    "## Task 3: Import SQL Results into Pandas"
   ]
  },
  {
   "cell_type": "markdown",
   "id": "4dbd9478-1c8c-4a30-af00-164892b5524a",
   "metadata": {},
   "source": [
    "### Setup and Import Libraries"
   ]
  },
  {
   "cell_type": "code",
   "execution_count": 49,
   "id": "a9194ec7-e3c0-412f-812b-3042ea57c102",
   "metadata": {},
   "outputs": [],
   "source": [
    "# Import libraries\n",
    "import sqlite3\n",
    "import pandas as pd\n",
    "\n",
    "# Step 2: Connect to the Chinook database\n",
    "conn = sqlite3.connect('chinook.db')"
   ]
  },
  {
   "cell_type": "markdown",
   "id": "45cd2fb4-0c0e-4972-bcbc-2a61b77b0605",
   "metadata": {},
   "source": [
    "### Query the Database"
   ]
  },
  {
   "cell_type": "markdown",
   "id": "945f1919-4969-46c7-98fa-e6bb68702f97",
   "metadata": {},
   "source": [
    "#### Since Chinook doesn't have an orders table with amount, we’ll use invoices and filter by Total > 15:"
   ]
  },
  {
   "cell_type": "code",
   "execution_count": 47,
   "id": "ff37ff78-1274-4566-b260-ef2a96fa4d74",
   "metadata": {},
   "outputs": [],
   "source": [
    "# Run SQL and load into DataFrame\n",
    "df = pd.read_sql_query(\"\"\"\n",
    "SELECT * FROM invoices\n",
    "WHERE Total > 15;\n",
    "\"\"\", conn)"
   ]
  },
  {
   "cell_type": "markdown",
   "id": "b568b235-f31d-482b-9b34-f37f10224807",
   "metadata": {},
   "source": [
    "### Explore the DataFrame"
   ]
  },
  {
   "cell_type": "code",
   "execution_count": 31,
   "id": "b59f21ee-5910-440d-a514-910fa6a9bde0",
   "metadata": {},
   "outputs": [
    {
     "data": {
      "text/html": [
       "<div>\n",
       "<style scoped>\n",
       "    .dataframe tbody tr th:only-of-type {\n",
       "        vertical-align: middle;\n",
       "    }\n",
       "\n",
       "    .dataframe tbody tr th {\n",
       "        vertical-align: top;\n",
       "    }\n",
       "\n",
       "    .dataframe thead th {\n",
       "        text-align: right;\n",
       "    }\n",
       "</style>\n",
       "<table border=\"1\" class=\"dataframe\">\n",
       "  <thead>\n",
       "    <tr style=\"text-align: right;\">\n",
       "      <th></th>\n",
       "      <th>InvoiceId</th>\n",
       "      <th>CustomerId</th>\n",
       "      <th>InvoiceDate</th>\n",
       "      <th>BillingAddress</th>\n",
       "      <th>BillingCity</th>\n",
       "      <th>BillingState</th>\n",
       "      <th>BillingCountry</th>\n",
       "      <th>BillingPostalCode</th>\n",
       "      <th>Total</th>\n",
       "    </tr>\n",
       "  </thead>\n",
       "  <tbody>\n",
       "    <tr>\n",
       "      <th>0</th>\n",
       "      <td>88</td>\n",
       "      <td>57</td>\n",
       "      <td>2010-01-13 00:00:00</td>\n",
       "      <td>Calle Lira, 198</td>\n",
       "      <td>Santiago</td>\n",
       "      <td>None</td>\n",
       "      <td>Chile</td>\n",
       "      <td>None</td>\n",
       "      <td>17.91</td>\n",
       "    </tr>\n",
       "    <tr>\n",
       "      <th>1</th>\n",
       "      <td>89</td>\n",
       "      <td>7</td>\n",
       "      <td>2010-01-18 00:00:00</td>\n",
       "      <td>Rotenturmstraße 4, 1010 Innere Stadt</td>\n",
       "      <td>Vienne</td>\n",
       "      <td>None</td>\n",
       "      <td>Austria</td>\n",
       "      <td>1010</td>\n",
       "      <td>18.86</td>\n",
       "    </tr>\n",
       "    <tr>\n",
       "      <th>2</th>\n",
       "      <td>96</td>\n",
       "      <td>45</td>\n",
       "      <td>2010-02-18 00:00:00</td>\n",
       "      <td>Erzsébet krt. 58.</td>\n",
       "      <td>Budapest</td>\n",
       "      <td>None</td>\n",
       "      <td>Hungary</td>\n",
       "      <td>H-1073</td>\n",
       "      <td>21.86</td>\n",
       "    </tr>\n",
       "    <tr>\n",
       "      <th>3</th>\n",
       "      <td>103</td>\n",
       "      <td>24</td>\n",
       "      <td>2010-03-21 00:00:00</td>\n",
       "      <td>162 E Superior Street</td>\n",
       "      <td>Chicago</td>\n",
       "      <td>IL</td>\n",
       "      <td>USA</td>\n",
       "      <td>60611</td>\n",
       "      <td>15.86</td>\n",
       "    </tr>\n",
       "    <tr>\n",
       "      <th>4</th>\n",
       "      <td>194</td>\n",
       "      <td>46</td>\n",
       "      <td>2011-04-28 00:00:00</td>\n",
       "      <td>3 Chatham Street</td>\n",
       "      <td>Dublin</td>\n",
       "      <td>Dublin</td>\n",
       "      <td>Ireland</td>\n",
       "      <td>None</td>\n",
       "      <td>21.86</td>\n",
       "    </tr>\n",
       "  </tbody>\n",
       "</table>\n",
       "</div>"
      ],
      "text/plain": [
       "   InvoiceId  CustomerId          InvoiceDate  \\\n",
       "0         88          57  2010-01-13 00:00:00   \n",
       "1         89           7  2010-01-18 00:00:00   \n",
       "2         96          45  2010-02-18 00:00:00   \n",
       "3        103          24  2010-03-21 00:00:00   \n",
       "4        194          46  2011-04-28 00:00:00   \n",
       "\n",
       "                         BillingAddress BillingCity BillingState  \\\n",
       "0                       Calle Lira, 198    Santiago         None   \n",
       "1  Rotenturmstraße 4, 1010 Innere Stadt      Vienne         None   \n",
       "2                     Erzsébet krt. 58.    Budapest         None   \n",
       "3                 162 E Superior Street     Chicago           IL   \n",
       "4                      3 Chatham Street      Dublin       Dublin   \n",
       "\n",
       "  BillingCountry BillingPostalCode  Total  \n",
       "0          Chile              None  17.91  \n",
       "1        Austria              1010  18.86  \n",
       "2        Hungary            H-1073  21.86  \n",
       "3            USA             60611  15.86  \n",
       "4        Ireland              None  21.86  "
      ]
     },
     "execution_count": 31,
     "metadata": {},
     "output_type": "execute_result"
    }
   ],
   "source": [
    "# Preview the first few rows\n",
    "df.head()"
   ]
  },
  {
   "cell_type": "code",
   "execution_count": 37,
   "id": "d0c266df-93cc-4cb0-ac6e-9023d3e7b50b",
   "metadata": {},
   "outputs": [
    {
     "data": {
      "text/html": [
       "<div>\n",
       "<style scoped>\n",
       "    .dataframe tbody tr th:only-of-type {\n",
       "        vertical-align: middle;\n",
       "    }\n",
       "\n",
       "    .dataframe tbody tr th {\n",
       "        vertical-align: top;\n",
       "    }\n",
       "\n",
       "    .dataframe thead th {\n",
       "        text-align: right;\n",
       "    }\n",
       "</style>\n",
       "<table border=\"1\" class=\"dataframe\">\n",
       "  <thead>\n",
       "    <tr style=\"text-align: right;\">\n",
       "      <th></th>\n",
       "      <th>InvoiceId</th>\n",
       "      <th>CustomerId</th>\n",
       "      <th>Total</th>\n",
       "    </tr>\n",
       "  </thead>\n",
       "  <tbody>\n",
       "    <tr>\n",
       "      <th>count</th>\n",
       "      <td>11.000000</td>\n",
       "      <td>11.000000</td>\n",
       "      <td>11.000000</td>\n",
       "    </tr>\n",
       "    <tr>\n",
       "      <th>mean</th>\n",
       "      <td>209.181818</td>\n",
       "      <td>26.181818</td>\n",
       "      <td>19.500909</td>\n",
       "    </tr>\n",
       "    <tr>\n",
       "      <th>std</th>\n",
       "      <td>109.400931</td>\n",
       "      <td>19.239637</td>\n",
       "      <td>3.382072</td>\n",
       "    </tr>\n",
       "    <tr>\n",
       "      <th>min</th>\n",
       "      <td>88.000000</td>\n",
       "      <td>4.000000</td>\n",
       "      <td>15.860000</td>\n",
       "    </tr>\n",
       "    <tr>\n",
       "      <th>25%</th>\n",
       "      <td>99.500000</td>\n",
       "      <td>6.500000</td>\n",
       "      <td>16.860000</td>\n",
       "    </tr>\n",
       "    <tr>\n",
       "      <th>50%</th>\n",
       "      <td>201.000000</td>\n",
       "      <td>25.000000</td>\n",
       "      <td>18.860000</td>\n",
       "    </tr>\n",
       "    <tr>\n",
       "      <th>75%</th>\n",
       "      <td>302.500000</td>\n",
       "      <td>44.000000</td>\n",
       "      <td>21.860000</td>\n",
       "    </tr>\n",
       "    <tr>\n",
       "      <th>max</th>\n",
       "      <td>404.000000</td>\n",
       "      <td>57.000000</td>\n",
       "      <td>25.860000</td>\n",
       "    </tr>\n",
       "  </tbody>\n",
       "</table>\n",
       "</div>"
      ],
      "text/plain": [
       "        InvoiceId  CustomerId      Total\n",
       "count   11.000000   11.000000  11.000000\n",
       "mean   209.181818   26.181818  19.500909\n",
       "std    109.400931   19.239637   3.382072\n",
       "min     88.000000    4.000000  15.860000\n",
       "25%     99.500000    6.500000  16.860000\n",
       "50%    201.000000   25.000000  18.860000\n",
       "75%    302.500000   44.000000  21.860000\n",
       "max    404.000000   57.000000  25.860000"
      ]
     },
     "execution_count": 37,
     "metadata": {},
     "output_type": "execute_result"
    }
   ],
   "source": [
    "# Get summary statistics\n",
    "df.describe()"
   ]
  },
  {
   "cell_type": "markdown",
   "id": "1fddd345-ad16-497d-98a6-e0a43791fe9a",
   "metadata": {},
   "source": [
    "## Task 4: Modify SQL Data"
   ]
  },
  {
   "cell_type": "markdown",
   "id": "e84bb80c-9456-41d3-9d61-7848f197ba6f",
   "metadata": {},
   "source": [
    "### 1. UPDATE Example"
   ]
  },
  {
   "cell_type": "code",
   "execution_count": 63,
   "id": "7a535b24-f3de-48e9-bf81-5defac453e4f",
   "metadata": {},
   "outputs": [
    {
     "name": "stdout",
     "output_type": "stream",
     "text": [
      "(58, 'Manoj', 'Pareek', None, '12,Community Centre', 'Delhi', None, 'India', '110017', '+91 0124 39883988', None, 'manoj.pareek@rediff.com', 3)\n",
      "(59, 'Puja', 'Srivastava', None, '3,Raj Bhavan Road', 'Bangalore', None, 'India', '560001', '+91 080 22289999', None, 'puja_srivastava@yahoo.in', 3)\n"
     ]
    }
   ],
   "source": [
    "# Update example: change country to 'India' where it is NULL\n",
    "cur.execute(\"\"\"\n",
    "UPDATE customers\n",
    "SET Country = 'India'\n",
    "WHERE Country IS NULL;\n",
    "\"\"\")\n",
    "\n",
    "# Commit the change\n",
    "conn.commit()\n",
    "\n",
    "# Confirm update\n",
    "cur.execute(\"SELECT * FROM customers WHERE Country = 'India';\")\n",
    "results = cur.fetchall()\n",
    "for row in results:\n",
    "    print(row)"
   ]
  },
  {
   "cell_type": "markdown",
   "id": "940da708-2eb6-46bb-abba-0046e2e07520",
   "metadata": {},
   "source": [
    "### 2. DELETE Example"
   ]
  },
  {
   "cell_type": "code",
   "execution_count": 66,
   "id": "805318b2-967e-4aed-b6d4-1155e78ce29d",
   "metadata": {},
   "outputs": [
    {
     "name": "stdout",
     "output_type": "stream",
     "text": [
      "After DELETE: []\n"
     ]
    }
   ],
   "source": [
    "# DELETE example: delete a customer with ID = 60\n",
    "cur.execute(\"DELETE FROM customers WHERE CustomerId = 60;\")\n",
    "conn.commit()\n",
    "\n",
    "# Confirm deletion\n",
    "cur.execute(\"SELECT * FROM customers WHERE CustomerId = 60;\")\n",
    "result = cur.fetchall()\n",
    "print(\"After DELETE:\", result)"
   ]
  },
  {
   "cell_type": "markdown",
   "id": "2ff48479-46b9-4e13-903f-3d6519883e12",
   "metadata": {},
   "source": [
    "## Task 5: Merge in Pandas (SQL-style)"
   ]
  },
  {
   "cell_type": "markdown",
   "id": "ee6f7319-541e-4dcf-98d1-389bcbce0af6",
   "metadata": {},
   "source": [
    "### 1. Load DataFrames"
   ]
  },
  {
   "cell_type": "code",
   "execution_count": 69,
   "id": "8f9343f2-3679-4cc5-ad96-3b40d15e9f15",
   "metadata": {},
   "outputs": [],
   "source": [
    "# Load both tables into pandas DataFrames\n",
    "customers_df = pd.read_sql_query(\"SELECT * FROM customers;\", conn)\n",
    "invoices_df = pd.read_sql_query(\"SELECT * FROM invoices;\", conn)"
   ]
  },
  {
   "cell_type": "markdown",
   "id": "f1553591-92cb-4e24-80fc-139daea95230",
   "metadata": {},
   "source": [
    "### 2. Perform Inner JOIN using pd.merge()"
   ]
  },
  {
   "cell_type": "code",
   "execution_count": 73,
   "id": "5d4b7a39-a75f-45cb-9af0-d891a73020ce",
   "metadata": {},
   "outputs": [
    {
     "data": {
      "text/html": [
       "<div>\n",
       "<style scoped>\n",
       "    .dataframe tbody tr th:only-of-type {\n",
       "        vertical-align: middle;\n",
       "    }\n",
       "\n",
       "    .dataframe tbody tr th {\n",
       "        vertical-align: top;\n",
       "    }\n",
       "\n",
       "    .dataframe thead th {\n",
       "        text-align: right;\n",
       "    }\n",
       "</style>\n",
       "<table border=\"1\" class=\"dataframe\">\n",
       "  <thead>\n",
       "    <tr style=\"text-align: right;\">\n",
       "      <th></th>\n",
       "      <th>CustomerId</th>\n",
       "      <th>FirstName</th>\n",
       "      <th>LastName</th>\n",
       "      <th>Company</th>\n",
       "      <th>Address</th>\n",
       "      <th>City</th>\n",
       "      <th>State</th>\n",
       "      <th>Country</th>\n",
       "      <th>PostalCode</th>\n",
       "      <th>Phone</th>\n",
       "      <th>...</th>\n",
       "      <th>Email</th>\n",
       "      <th>SupportRepId</th>\n",
       "      <th>InvoiceId</th>\n",
       "      <th>InvoiceDate</th>\n",
       "      <th>BillingAddress</th>\n",
       "      <th>BillingCity</th>\n",
       "      <th>BillingState</th>\n",
       "      <th>BillingCountry</th>\n",
       "      <th>BillingPostalCode</th>\n",
       "      <th>Total</th>\n",
       "    </tr>\n",
       "  </thead>\n",
       "  <tbody>\n",
       "    <tr>\n",
       "      <th>0</th>\n",
       "      <td>1</td>\n",
       "      <td>Luís</td>\n",
       "      <td>Gonçalves</td>\n",
       "      <td>Embraer - Empresa Brasileira de Aeronáutica S.A.</td>\n",
       "      <td>Av. Brigadeiro Faria Lima, 2170</td>\n",
       "      <td>São José dos Campos</td>\n",
       "      <td>SP</td>\n",
       "      <td>Brazil</td>\n",
       "      <td>12227-000</td>\n",
       "      <td>+55 (12) 3923-5555</td>\n",
       "      <td>...</td>\n",
       "      <td>luisg@embraer.com.br</td>\n",
       "      <td>3</td>\n",
       "      <td>98</td>\n",
       "      <td>2010-03-11 00:00:00</td>\n",
       "      <td>Av. Brigadeiro Faria Lima, 2170</td>\n",
       "      <td>São José dos Campos</td>\n",
       "      <td>SP</td>\n",
       "      <td>Brazil</td>\n",
       "      <td>12227-000</td>\n",
       "      <td>3.98</td>\n",
       "    </tr>\n",
       "    <tr>\n",
       "      <th>1</th>\n",
       "      <td>1</td>\n",
       "      <td>Luís</td>\n",
       "      <td>Gonçalves</td>\n",
       "      <td>Embraer - Empresa Brasileira de Aeronáutica S.A.</td>\n",
       "      <td>Av. Brigadeiro Faria Lima, 2170</td>\n",
       "      <td>São José dos Campos</td>\n",
       "      <td>SP</td>\n",
       "      <td>Brazil</td>\n",
       "      <td>12227-000</td>\n",
       "      <td>+55 (12) 3923-5555</td>\n",
       "      <td>...</td>\n",
       "      <td>luisg@embraer.com.br</td>\n",
       "      <td>3</td>\n",
       "      <td>121</td>\n",
       "      <td>2010-06-13 00:00:00</td>\n",
       "      <td>Av. Brigadeiro Faria Lima, 2170</td>\n",
       "      <td>São José dos Campos</td>\n",
       "      <td>SP</td>\n",
       "      <td>Brazil</td>\n",
       "      <td>12227-000</td>\n",
       "      <td>3.96</td>\n",
       "    </tr>\n",
       "    <tr>\n",
       "      <th>2</th>\n",
       "      <td>1</td>\n",
       "      <td>Luís</td>\n",
       "      <td>Gonçalves</td>\n",
       "      <td>Embraer - Empresa Brasileira de Aeronáutica S.A.</td>\n",
       "      <td>Av. Brigadeiro Faria Lima, 2170</td>\n",
       "      <td>São José dos Campos</td>\n",
       "      <td>SP</td>\n",
       "      <td>Brazil</td>\n",
       "      <td>12227-000</td>\n",
       "      <td>+55 (12) 3923-5555</td>\n",
       "      <td>...</td>\n",
       "      <td>luisg@embraer.com.br</td>\n",
       "      <td>3</td>\n",
       "      <td>143</td>\n",
       "      <td>2010-09-15 00:00:00</td>\n",
       "      <td>Av. Brigadeiro Faria Lima, 2170</td>\n",
       "      <td>São José dos Campos</td>\n",
       "      <td>SP</td>\n",
       "      <td>Brazil</td>\n",
       "      <td>12227-000</td>\n",
       "      <td>5.94</td>\n",
       "    </tr>\n",
       "    <tr>\n",
       "      <th>3</th>\n",
       "      <td>1</td>\n",
       "      <td>Luís</td>\n",
       "      <td>Gonçalves</td>\n",
       "      <td>Embraer - Empresa Brasileira de Aeronáutica S.A.</td>\n",
       "      <td>Av. Brigadeiro Faria Lima, 2170</td>\n",
       "      <td>São José dos Campos</td>\n",
       "      <td>SP</td>\n",
       "      <td>Brazil</td>\n",
       "      <td>12227-000</td>\n",
       "      <td>+55 (12) 3923-5555</td>\n",
       "      <td>...</td>\n",
       "      <td>luisg@embraer.com.br</td>\n",
       "      <td>3</td>\n",
       "      <td>195</td>\n",
       "      <td>2011-05-06 00:00:00</td>\n",
       "      <td>Av. Brigadeiro Faria Lima, 2170</td>\n",
       "      <td>São José dos Campos</td>\n",
       "      <td>SP</td>\n",
       "      <td>Brazil</td>\n",
       "      <td>12227-000</td>\n",
       "      <td>0.99</td>\n",
       "    </tr>\n",
       "    <tr>\n",
       "      <th>4</th>\n",
       "      <td>1</td>\n",
       "      <td>Luís</td>\n",
       "      <td>Gonçalves</td>\n",
       "      <td>Embraer - Empresa Brasileira de Aeronáutica S.A.</td>\n",
       "      <td>Av. Brigadeiro Faria Lima, 2170</td>\n",
       "      <td>São José dos Campos</td>\n",
       "      <td>SP</td>\n",
       "      <td>Brazil</td>\n",
       "      <td>12227-000</td>\n",
       "      <td>+55 (12) 3923-5555</td>\n",
       "      <td>...</td>\n",
       "      <td>luisg@embraer.com.br</td>\n",
       "      <td>3</td>\n",
       "      <td>316</td>\n",
       "      <td>2012-10-27 00:00:00</td>\n",
       "      <td>Av. Brigadeiro Faria Lima, 2170</td>\n",
       "      <td>São José dos Campos</td>\n",
       "      <td>SP</td>\n",
       "      <td>Brazil</td>\n",
       "      <td>12227-000</td>\n",
       "      <td>1.98</td>\n",
       "    </tr>\n",
       "  </tbody>\n",
       "</table>\n",
       "<p>5 rows × 21 columns</p>\n",
       "</div>"
      ],
      "text/plain": [
       "   CustomerId FirstName   LastName  \\\n",
       "0           1      Luís  Gonçalves   \n",
       "1           1      Luís  Gonçalves   \n",
       "2           1      Luís  Gonçalves   \n",
       "3           1      Luís  Gonçalves   \n",
       "4           1      Luís  Gonçalves   \n",
       "\n",
       "                                            Company  \\\n",
       "0  Embraer - Empresa Brasileira de Aeronáutica S.A.   \n",
       "1  Embraer - Empresa Brasileira de Aeronáutica S.A.   \n",
       "2  Embraer - Empresa Brasileira de Aeronáutica S.A.   \n",
       "3  Embraer - Empresa Brasileira de Aeronáutica S.A.   \n",
       "4  Embraer - Empresa Brasileira de Aeronáutica S.A.   \n",
       "\n",
       "                           Address                 City State Country  \\\n",
       "0  Av. Brigadeiro Faria Lima, 2170  São José dos Campos    SP  Brazil   \n",
       "1  Av. Brigadeiro Faria Lima, 2170  São José dos Campos    SP  Brazil   \n",
       "2  Av. Brigadeiro Faria Lima, 2170  São José dos Campos    SP  Brazil   \n",
       "3  Av. Brigadeiro Faria Lima, 2170  São José dos Campos    SP  Brazil   \n",
       "4  Av. Brigadeiro Faria Lima, 2170  São José dos Campos    SP  Brazil   \n",
       "\n",
       "  PostalCode               Phone  ...                 Email SupportRepId  \\\n",
       "0  12227-000  +55 (12) 3923-5555  ...  luisg@embraer.com.br            3   \n",
       "1  12227-000  +55 (12) 3923-5555  ...  luisg@embraer.com.br            3   \n",
       "2  12227-000  +55 (12) 3923-5555  ...  luisg@embraer.com.br            3   \n",
       "3  12227-000  +55 (12) 3923-5555  ...  luisg@embraer.com.br            3   \n",
       "4  12227-000  +55 (12) 3923-5555  ...  luisg@embraer.com.br            3   \n",
       "\n",
       "   InvoiceId          InvoiceDate                   BillingAddress  \\\n",
       "0         98  2010-03-11 00:00:00  Av. Brigadeiro Faria Lima, 2170   \n",
       "1        121  2010-06-13 00:00:00  Av. Brigadeiro Faria Lima, 2170   \n",
       "2        143  2010-09-15 00:00:00  Av. Brigadeiro Faria Lima, 2170   \n",
       "3        195  2011-05-06 00:00:00  Av. Brigadeiro Faria Lima, 2170   \n",
       "4        316  2012-10-27 00:00:00  Av. Brigadeiro Faria Lima, 2170   \n",
       "\n",
       "           BillingCity BillingState BillingCountry BillingPostalCode Total  \n",
       "0  São José dos Campos           SP         Brazil         12227-000  3.98  \n",
       "1  São José dos Campos           SP         Brazil         12227-000  3.96  \n",
       "2  São José dos Campos           SP         Brazil         12227-000  5.94  \n",
       "3  São José dos Campos           SP         Brazil         12227-000  0.99  \n",
       "4  São José dos Campos           SP         Brazil         12227-000  1.98  \n",
       "\n",
       "[5 rows x 21 columns]"
      ]
     },
     "execution_count": 73,
     "metadata": {},
     "output_type": "execute_result"
    }
   ],
   "source": [
    "# Simulate SQL INNER JOIN on CustomerId\n",
    "merged_df = pd.merge(customers_df, invoices_df, on='CustomerId', how='inner')\n",
    "\n",
    "# Preview the result\n",
    "merged_df.head()"
   ]
  },
  {
   "cell_type": "markdown",
   "id": "fd9646f4-7807-4831-9068-939ad611c41c",
   "metadata": {},
   "source": [
    "### 3. Equivalent SQL JOIN (for comparison)"
   ]
  },
  {
   "cell_type": "code",
   "execution_count": 76,
   "id": "492e5b80-8a61-4ece-aee6-a9bab813285c",
   "metadata": {},
   "outputs": [
    {
     "data": {
      "text/html": [
       "<div>\n",
       "<style scoped>\n",
       "    .dataframe tbody tr th:only-of-type {\n",
       "        vertical-align: middle;\n",
       "    }\n",
       "\n",
       "    .dataframe tbody tr th {\n",
       "        vertical-align: top;\n",
       "    }\n",
       "\n",
       "    .dataframe thead th {\n",
       "        text-align: right;\n",
       "    }\n",
       "</style>\n",
       "<table border=\"1\" class=\"dataframe\">\n",
       "  <thead>\n",
       "    <tr style=\"text-align: right;\">\n",
       "      <th></th>\n",
       "      <th>FirstName</th>\n",
       "      <th>LastName</th>\n",
       "      <th>InvoiceId</th>\n",
       "      <th>Total</th>\n",
       "    </tr>\n",
       "  </thead>\n",
       "  <tbody>\n",
       "    <tr>\n",
       "      <th>0</th>\n",
       "      <td>Luís</td>\n",
       "      <td>Gonçalves</td>\n",
       "      <td>98</td>\n",
       "      <td>3.98</td>\n",
       "    </tr>\n",
       "    <tr>\n",
       "      <th>1</th>\n",
       "      <td>Luís</td>\n",
       "      <td>Gonçalves</td>\n",
       "      <td>121</td>\n",
       "      <td>3.96</td>\n",
       "    </tr>\n",
       "    <tr>\n",
       "      <th>2</th>\n",
       "      <td>Luís</td>\n",
       "      <td>Gonçalves</td>\n",
       "      <td>143</td>\n",
       "      <td>5.94</td>\n",
       "    </tr>\n",
       "    <tr>\n",
       "      <th>3</th>\n",
       "      <td>Luís</td>\n",
       "      <td>Gonçalves</td>\n",
       "      <td>195</td>\n",
       "      <td>0.99</td>\n",
       "    </tr>\n",
       "    <tr>\n",
       "      <th>4</th>\n",
       "      <td>Luís</td>\n",
       "      <td>Gonçalves</td>\n",
       "      <td>316</td>\n",
       "      <td>1.98</td>\n",
       "    </tr>\n",
       "  </tbody>\n",
       "</table>\n",
       "</div>"
      ],
      "text/plain": [
       "  FirstName   LastName  InvoiceId  Total\n",
       "0      Luís  Gonçalves         98   3.98\n",
       "1      Luís  Gonçalves        121   3.96\n",
       "2      Luís  Gonçalves        143   5.94\n",
       "3      Luís  Gonçalves        195   0.99\n",
       "4      Luís  Gonçalves        316   1.98"
      ]
     },
     "execution_count": 76,
     "metadata": {},
     "output_type": "execute_result"
    }
   ],
   "source": [
    "sql_query = \"\"\"\n",
    "SELECT c.FirstName, c.LastName, i.InvoiceId, i.Total\n",
    "FROM customers c\n",
    "JOIN invoices i ON c.CustomerId = i.CustomerId;\n",
    "\"\"\"\n",
    "\n",
    "sql_join_df = pd.read_sql_query(sql_query, conn)\n",
    "sql_join_df.head()"
   ]
  }
 ],
 "metadata": {
  "kernelspec": {
   "display_name": "Python [conda env:base] *",
   "language": "python",
   "name": "conda-base-py"
  },
  "language_info": {
   "codemirror_mode": {
    "name": "ipython",
    "version": 3
   },
   "file_extension": ".py",
   "mimetype": "text/x-python",
   "name": "python",
   "nbconvert_exporter": "python",
   "pygments_lexer": "ipython3",
   "version": "3.12.7"
  }
 },
 "nbformat": 4,
 "nbformat_minor": 5
}
