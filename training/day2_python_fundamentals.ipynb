{
 "cells": [
  {
   "cell_type": "markdown",
   "id": "d627f4af",
   "metadata": {},
   "source": [
    "## Python Structures + Functions"
   ]
  },
  {
   "cell_type": "markdown",
   "id": "762dad26-eea3-43d4-b55f-df049e3a8d61",
   "metadata": {},
   "source": [
    "## Task 1: Data Structures Deep Dive"
   ]
  },
  {
   "cell_type": "markdown",
   "id": "c125132b-7d64-4e27-b6b1-3fa2b101c1dc",
   "metadata": {},
   "source": [
    "### List Comprehensions"
   ]
  },
  {
   "cell_type": "markdown",
   "id": "183611cc-cd38-4a63-a134-a870d780c1b0",
   "metadata": {},
   "source": [
    "List comprehension offers a shorter syntax when we want to create a new list based on the values of an existing list."
   ]
  },
  {
   "cell_type": "markdown",
   "id": "04f7301b",
   "metadata": {},
   "source": [
    "Example: Based on a list of fruits, print a new list, containing only the fruits with the letter \"a\" in the name."
   ]
  },
  {
   "cell_type": "markdown",
   "id": "c77e951a",
   "metadata": {},
   "source": [
    "Without list comprehension:"
   ]
  },
  {
   "cell_type": "code",
   "execution_count": null,
   "id": "f5acfbb0-acde-445d-b2ed-6dab2d86fc0d",
   "metadata": {},
   "outputs": [
    {
     "name": "stdout",
     "output_type": "stream",
     "text": [
      "['apple', 'banana', 'mango']\n"
     ]
    }
   ],
   "source": [
    "fruits = [\"apple\", \"banana\", \"cherry\", \"kiwi\", \"mango\"]\n",
    "newlist = []\n",
    "for x in fruits:\n",
    "  if \"a\" in x:\n",
    "    newlist.append(x)\n",
    "print(newlist)"
   ]
  },
  {
   "cell_type": "markdown",
   "id": "c51519c6-eebc-40d3-8117-cf85f8ca0bb2",
   "metadata": {},
   "source": [
    "With list comprehension:"
   ]
  },
  {
   "cell_type": "code",
   "execution_count": null,
   "id": "a374e704-4d7e-420f-8a66-42a31df0d937",
   "metadata": {},
   "outputs": [
    {
     "name": "stdout",
     "output_type": "stream",
     "text": [
      "['apple', 'banana', 'mango']\n"
     ]
    }
   ],
   "source": [
    "fruits = [\"apple\", \"banana\", \"cherry\", \"kiwi\", \"mango\"]\n",
    "newlist = [x for x in fruits if \"a\" in x]\n",
    "print(newlist)"
   ]
  },
  {
   "cell_type": "markdown",
   "id": "cdfd945b-7eaa-406b-84df-ac313c7c555a",
   "metadata": {},
   "source": [
    "### Nested Dictionaries"
   ]
  },
  {
   "cell_type": "markdown",
   "id": "df2056e3-4ee1-47cf-a6f5-88175e26cbed",
   "metadata": {},
   "source": [
    "A dictionary can contain dictionaries, this is called nested dictionaries."
   ]
  },
  {
   "cell_type": "code",
   "execution_count": null,
   "id": "a65a323e-31fc-4ece-89c4-c3fac2c6f3c8",
   "metadata": {},
   "outputs": [
    {
     "name": "stdout",
     "output_type": "stream",
     "text": [
      "child1\n",
      "name: Emil\n",
      "year: 2004\n",
      "child2\n",
      "name: Tobias\n",
      "year: 2007\n",
      "child3\n",
      "name: Linus\n",
      "year: 2011\n"
     ]
    }
   ],
   "source": [
    "myfamily = {\n",
    "  \"child1\" : {\n",
    "    \"name\" : \"Emil\",\n",
    "    \"year\" : 2004\n",
    "  },\n",
    "  \"child2\" : {\n",
    "    \"name\" : \"Tobias\",\n",
    "    \"year\" : 2007\n",
    "  },\n",
    "  \"child3\" : {\n",
    "    \"name\" : \"Linus\",\n",
    "    \"year\" : 2011\n",
    "  }\n",
    "}\n",
    "for x, obj in myfamily.items():\n",
    "    print(x)\n",
    "    \n",
    "    for y in obj:\n",
    "        print(y + ':', obj[y])"
   ]
  },
  {
   "cell_type": "markdown",
   "id": "a7d5432d-29d8-49ae-a23d-eca4eeaefad5",
   "metadata": {},
   "source": [
    "### Dictionary Lookups"
   ]
  },
  {
   "cell_type": "code",
   "execution_count": null,
   "id": "b4ed5065-839c-4a59-833c-17d27b817f2a",
   "metadata": {},
   "outputs": [
    {
     "name": "stdout",
     "output_type": "stream",
     "text": [
      "python means: a programming language\n"
     ]
    }
   ],
   "source": [
    "# Define a dictionary\n",
    "my_dict = {\n",
    "    \"apple\": \"a fruit\",\n",
    "    \"python\": \"a programming language\",\n",
    "    \"earth\": \"a planet\"\n",
    "}\n",
    "# Lookup a key\n",
    "key = \"python\"\n",
    "if key in my_dict:\n",
    "    print(f\"{key} means: {my_dict[key]}\")\n",
    "else:\n",
    "    print(f\"{key} not found in dictionary\")"
   ]
  },
  {
   "cell_type": "markdown",
   "id": "8fa08861-a61e-447a-8a66-2b3fe379ad3b",
   "metadata": {},
   "source": [
    "### Code to sort a list and remove duplicates using a set. "
   ]
  },
  {
   "cell_type": "code",
   "execution_count": null,
   "id": "fbb05e47-8dcf-4aeb-a188-2b29c513f41d",
   "metadata": {},
   "outputs": [
    {
     "name": "stdout",
     "output_type": "stream",
     "text": [
      "The original list : [5, 6, 2, 5, 3, 3, 6, 5, 5, 6, 5]\n",
      "The list after sorting and removal : [2, 3, 6, 5]\n"
     ]
    }
   ],
   "source": [
    "# initializing list\n",
    "test_list = [5, 6, 2, 5, 3, 3, 6, 5, 5, 6, 5]\n",
    "\n",
    "# printing original list\n",
    "print(\"The original list : \" + str(test_list))\n",
    "\n",
    "# sorting and removal of duplicates\n",
    "res = sorted(set(test_list), key = lambda ele: test_list.count(ele))\n",
    "\n",
    "# print result\n",
    "print(\"The list after sorting and removal : \" + str(res))"
   ]
  },
  {
   "cell_type": "markdown",
   "id": "754b52a2-df63-465f-8a73-0e0f40ca95d2",
   "metadata": {},
   "source": [
    "### Code to access deeply nested dictionary values. "
   ]
  },
  {
   "cell_type": "code",
   "execution_count": null,
   "id": "24583495-7df8-4b41-b1b9-bb71048409cc",
   "metadata": {},
   "outputs": [
    {
     "name": "stdout",
     "output_type": "stream",
     "text": [
      "red\n"
     ]
    }
   ],
   "source": [
    "nd = {\n",
    "    \"fruit\": {\n",
    "        \"apple\": {\n",
    "            \"color\": \"red\"\n",
    "        }}}\n",
    "\n",
    "# List of keys to traverse the dictionary\n",
    "keys = [\"fruit\", \"apple\", \"color\"]\n",
    "\n",
    "# Accessing the nested value using a loop\n",
    "current = nd\n",
    "for key in keys:\n",
    "    current = current.get(key, {})\n",
    "    \n",
    "print(current)"
   ]
  },
  {
   "cell_type": "markdown",
   "id": "3b802d8e-6c0c-44ee-a5eb-f38b722fb39e",
   "metadata": {},
   "source": [
    "## Task 2: Functions and Modules"
   ]
  },
  {
   "cell_type": "markdown",
   "id": "592b3fd1-f059-4b7f-9f38-df9e5c534422",
   "metadata": {},
   "source": [
    "### Function to calculate factorial of a number."
   ]
  },
  {
   "cell_type": "markdown",
   "id": "db5d997a-328a-46c3-a7c8-6e7373aed6d4",
   "metadata": {},
   "source": [
    "This Python program uses a recursive function to calculate the factorial of a number. "
   ]
  },
  {
   "cell_type": "markdown",
   "id": "9f42cd02",
   "metadata": {},
   "source": [
    "The factorial is computed by multiplying the number with the factorial of its preceding number."
   ]
  },
  {
   "cell_type": "code",
   "execution_count": null,
   "id": "cf4a4be9-1056-4b43-8bce-da37eed3f8a9",
   "metadata": {},
   "outputs": [
    {
     "name": "stdout",
     "output_type": "stream",
     "text": [
      "The factorial of 5 is 120\n"
     ]
    }
   ],
   "source": [
    "using in-built function\n",
    "import math\n",
    "\n",
    "def calculate_factorial(n):\n",
    "    if n < 0:\n",
    "        return \"Factorial not defined for negative numbers.\"\n",
    "    return math.factorial(n)\n",
    "\n",
    "num = 5\n",
    "result = calculate_factorial(num)\n",
    "print(f\"The factorial of {num} is {result}\")\n"
   ]
  },
  {
   "cell_type": "markdown",
   "id": "d188b2bf-1a40-427b-b1e9-78266b358156",
   "metadata": {},
   "source": [
    "### Function to check prime number"
   ]
  },
  {
   "cell_type": "code",
   "execution_count": null,
   "id": "995bec87-e33e-400e-9287-a476221dcb8a",
   "metadata": {},
   "outputs": [
    {
     "name": "stdout",
     "output_type": "stream",
     "text": [
      "29 is a prime number.\n"
     ]
    }
   ],
   "source": [
    "#using math in-built module\n",
    "import math\n",
    "\n",
    "def is_prime(num):\n",
    "    if num <= 1:\n",
    "        return False\n",
    "    for i in range(2, int(math.sqrt(num)) + 1):\n",
    "        if num % i == 0:\n",
    "            return False\n",
    "    return True\n",
    "\n",
    "num = 29\n",
    "if is_prime(num):\n",
    "    print(f\"{num} is a prime number.\")\n",
    "else:\n",
    "    print(f\"{num} is not a prime number.\")\n"
   ]
  },
  {
   "cell_type": "markdown",
   "id": "63cebfe7-6727-4b0b-8fad-ad063762e6b9",
   "metadata": {},
   "source": [
    "## Task 3: Exception Handling"
   ]
  },
  {
   "cell_type": "markdown",
   "id": "6ecfbe0f-3441-4fdb-922d-cba65557a1f5",
   "metadata": {},
   "source": [
    "### Code to try division by zero and handle the error"
   ]
  },
  {
   "cell_type": "code",
   "execution_count": null,
   "id": "ba630bfe-f5f4-4933-91c5-de8e4081f799",
   "metadata": {},
   "outputs": [
    {
     "name": "stdout",
     "output_type": "stream",
     "text": [
      "Result: 5.0\n",
      "Error: Cannot divide by zero!\n"
     ]
    }
   ],
   "source": [
    "def divide_numbers(a, b):\n",
    "    try:\n",
    "        result = a / b\n",
    "        print(f\"Result: {result}\")\n",
    "    except ZeroDivisionError:\n",
    "        print(\"Error: Cannot divide by zero!\")\n",
    "\n",
    "divide_numbers(10, 2)  # Works fine\n",
    "divide_numbers(10, 0)  # Triggers error handling"
   ]
  },
  {
   "cell_type": "markdown",
   "id": "f2c1c80f-dbf9-42d7-b4ec-3ade694a170a",
   "metadata": {},
   "source": [
    "### Code to validate user input types"
   ]
  },
  {
   "cell_type": "code",
   "execution_count": null,
   "id": "b2e611e5-1611-4d87-8b02-a063393d3d1b",
   "metadata": {},
   "outputs": [
    {
     "name": "stdout",
     "output_type": "stream",
     "text": [
      "Enter your age:  abc\n"
     ]
    },
    {
     "name": "stdout",
     "output_type": "stream",
     "text": [
      "Invalid input! Please enter an integer.\n"
     ]
    },
    {
     "name": "stdout",
     "output_type": "stream",
     "text": [
      "Enter your age:  21\n"
     ]
    },
    {
     "name": "stdout",
     "output_type": "stream",
     "text": [
      "Your age is: 21\n"
     ]
    }
   ],
   "source": [
    "def get_integer_input(prompt):\n",
    "    while True:\n",
    "        try:\n",
    "            user_input = int(input(prompt))\n",
    "            return user_input  # valid input\n",
    "        except ValueError:\n",
    "            print(\"Invalid input! Please enter an integer.\")\n",
    "\n",
    "# Example usage\n",
    "age = get_integer_input(\"Enter your age: \")\n",
    "print(f\"Your age is: {age}\")"
   ]
  },
  {
   "cell_type": "markdown",
   "id": "e6e70568-fe57-4450-925c-a2ff2a9c1733",
   "metadata": {},
   "source": [
    "## Task 4: Mini Problems"
   ]
  },
  {
   "cell_type": "markdown",
   "id": "8a1f9a52-78c5-4d8d-84ab-209283b6c7dc",
   "metadata": {},
   "source": [
    "### FizzBuzz"
   ]
  },
  {
   "cell_type": "code",
   "execution_count": null,
   "id": "e11c9deb-8285-433b-8aa2-2032f57e7d4a",
   "metadata": {},
   "outputs": [
    {
     "name": "stdout",
     "output_type": "stream",
     "text": [
      "1\n",
      "2\n",
      "Fizz\n",
      "4\n",
      "Buzz\n",
      "Fizz\n",
      "7\n",
      "8\n",
      "Fizz\n",
      "Buzz\n",
      "11\n",
      "Fizz\n",
      "13\n",
      "14\n",
      "FizzBuzz\n",
      "16\n",
      "17\n",
      "Fizz\n",
      "19\n",
      "Buzz\n"
     ]
    }
   ],
   "source": [
    "def fizz_buzz(n):\n",
    "    for i in range(1, n + 1):\n",
    "        if i % 3 == 0 and i % 5 == 0:\n",
    "            print(\"FizzBuzz\")\n",
    "        elif i % 3 == 0:\n",
    "            print(\"Fizz\")\n",
    "        elif i % 5 == 0:\n",
    "            print(\"Buzz\")\n",
    "        else:\n",
    "            print(i)\n",
    "\n",
    "fizz_buzz(20)"
   ]
  },
  {
   "cell_type": "markdown",
   "id": "53a97de2-d1c1-4468-ba00-2971058859ee",
   "metadata": {},
   "source": [
    "### Finding the largest number in a list"
   ]
  },
  {
   "cell_type": "code",
   "execution_count": null,
   "id": "f05890d0-baf2-4371-a512-82dfd655b048",
   "metadata": {},
   "outputs": [
    {
     "name": "stdout",
     "output_type": "stream",
     "text": [
      "The largest number is: 89\n"
     ]
    }
   ],
   "source": [
    "def find_largest(numbers):\n",
    "    return max(numbers)\n",
    "\n",
    "my_list = [12, 45, 7, 89, 23]\n",
    "largest = find_largest(my_list)\n",
    "print(f\"The largest number is: {largest}\")"
   ]
  },
  {
   "cell_type": "markdown",
   "id": "a7fd9b11-c374-4d52-a629-bd9c2c3295b8",
   "metadata": {},
   "source": [
    "### Reversing a string"
   ]
  },
  {
   "cell_type": "code",
   "execution_count": null,
   "id": "daab5ef5-0ce7-4ab5-920f-f71f768c19e9",
   "metadata": {},
   "outputs": [
    {
     "name": "stdout",
     "output_type": "stream",
     "text": [
      "Reversed string: retupmoc\n"
     ]
    }
   ],
   "source": [
    "def reverse_string(s):\n",
    "    return s[::-1]\n",
    "\n",
    "text = \"computer\"\n",
    "print(\"Reversed string:\", reverse_string(text))"
   ]
  },
  {
   "cell_type": "code",
   "execution_count": null,
   "id": "dc336b25-aa70-4481-86bf-aa979daa70b0",
   "metadata": {},
   "outputs": [],
   "source": []
  }
 ],
 "metadata": {
  "kernelspec": {
   "display_name": "Python [conda env:Anaconda]",
   "language": "python",
   "name": "conda-env-Anaconda-py"
  },
  "language_info": {
   "codemirror_mode": {
    "name": "ipython",
    "version": 3
   },
   "file_extension": ".py",
   "mimetype": "text/x-python",
   "name": "python",
   "nbconvert_exporter": "python",
   "pygments_lexer": "ipython3",
   "version": "3.12.7"
  }
 },
 "nbformat": 4,
 "nbformat_minor": 5
}
