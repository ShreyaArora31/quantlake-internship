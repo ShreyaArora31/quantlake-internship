{
 "cells": [
  {
   "cell_type": "markdown",
   "id": "4a975a32-ff82-4d72-a3bd-118338680e1c",
   "metadata": {},
   "source": [
    "## Pandas: Data Manipulation I"
   ]
  },
  {
   "cell_type": "markdown",
   "id": "ea3f2935-c12d-4f41-b5a3-6bcc8b9b4627",
   "metadata": {},
   "source": [
    "## Task 1: Indexing and Slicing in Pandas (Superstore Dataset)"
   ]
  },
  {
   "cell_type": "markdown",
   "id": "f3100f74-c216-42b6-b028-ffd1ac880107",
   "metadata": {},
   "source": [
    "### 1. Load the Dataset"
   ]
  },
  {
   "cell_type": "code",
   "execution_count": 36,
   "id": "2aeec3da-27e0-49ae-9e8b-920dc9912e3c",
   "metadata": {},
   "outputs": [
    {
     "name": "stdout",
     "output_type": "stream",
     "text": [
      "   Row ID        Order ID  Order Date   Ship Date       Ship Mode Customer ID  \\\n",
      "0       1  CA-2016-152156   11/8/2016  11/11/2016    Second Class    CG-12520   \n",
      "1       2  CA-2016-152156   11/8/2016  11/11/2016    Second Class    CG-12520   \n",
      "2       3  CA-2016-138688   6/12/2016   6/16/2016    Second Class    DV-13045   \n",
      "3       4  US-2015-108966  10/11/2015  10/18/2015  Standard Class    SO-20335   \n",
      "4       5  US-2015-108966  10/11/2015  10/18/2015  Standard Class    SO-20335   \n",
      "\n",
      "     Customer Name    Segment        Country             City  ...  \\\n",
      "0      Claire Gute   Consumer  United States        Henderson  ...   \n",
      "1      Claire Gute   Consumer  United States        Henderson  ...   \n",
      "2  Darrin Van Huff  Corporate  United States      Los Angeles  ...   \n",
      "3   Sean O'Donnell   Consumer  United States  Fort Lauderdale  ...   \n",
      "4   Sean O'Donnell   Consumer  United States  Fort Lauderdale  ...   \n",
      "\n",
      "  Postal Code  Region       Product ID         Category Sub-Category  \\\n",
      "0       42420   South  FUR-BO-10001798        Furniture    Bookcases   \n",
      "1       42420   South  FUR-CH-10000454        Furniture       Chairs   \n",
      "2       90036    West  OFF-LA-10000240  Office Supplies       Labels   \n",
      "3       33311   South  FUR-TA-10000577        Furniture       Tables   \n",
      "4       33311   South  OFF-ST-10000760  Office Supplies      Storage   \n",
      "\n",
      "                                        Product Name     Sales  Quantity  \\\n",
      "0                  Bush Somerset Collection Bookcase  261.9600         2   \n",
      "1  Hon Deluxe Fabric Upholstered Stacking Chairs,...  731.9400         3   \n",
      "2  Self-Adhesive Address Labels for Typewriters b...   14.6200         2   \n",
      "3      Bretford CR4500 Series Slim Rectangular Table  957.5775         5   \n",
      "4                     Eldon Fold 'N Roll Cart System   22.3680         2   \n",
      "\n",
      "   Discount    Profit  \n",
      "0      0.00   41.9136  \n",
      "1      0.00  219.5820  \n",
      "2      0.00    6.8714  \n",
      "3      0.45 -383.0310  \n",
      "4      0.20    2.5164  \n",
      "\n",
      "[5 rows x 21 columns]\n"
     ]
    }
   ],
   "source": [
    "import pandas as pd\n",
    "\n",
    "# Load the dataset\n",
    "df = pd.read_csv('/Users/DELL/Downloads/Sample - Superstore.csv.zip', encoding='cp1252')\n",
    "\n",
    "# Display first 5 rows\n",
    "print(df.head())"
   ]
  },
  {
   "cell_type": "markdown",
   "id": "fc131cdb-f91a-42f6-abc1-a32c739e3f67",
   "metadata": {},
   "source": [
    "### 2. Basic Indexing with .loc[] and .iloc[]"
   ]
  },
  {
   "cell_type": "markdown",
   "id": "7301a7b0-b0a6-4292-9217-5c2933e64072",
   "metadata": {},
   "source": [
    "#### A. Select rows & columns using .loc[] (label-based)\n",
    "- Select a single row (by index label):"
   ]
  },
  {
   "cell_type": "code",
   "execution_count": 25,
   "id": "56092a14-dbcf-47b8-a04e-c0687b772d14",
   "metadata": {},
   "outputs": [
    {
     "data": {
      "text/plain": [
       "Row ID                                           1\n",
       "Order ID                            CA-2016-152156\n",
       "Order Date                               11/8/2016\n",
       "Ship Date                               11/11/2016\n",
       "Ship Mode                             Second Class\n",
       "Customer ID                               CG-12520\n",
       "Customer Name                          Claire Gute\n",
       "Segment                                   Consumer\n",
       "Country                              United States\n",
       "City                                     Henderson\n",
       "State                                     Kentucky\n",
       "Postal Code                                  42420\n",
       "Region                                       South\n",
       "Product ID                         FUR-BO-10001798\n",
       "Category                                 Furniture\n",
       "Sub-Category                             Bookcases\n",
       "Product Name     Bush Somerset Collection Bookcase\n",
       "Sales                                       261.96\n",
       "Quantity                                         2\n",
       "Discount                                       0.0\n",
       "Profit                                     41.9136\n",
       "Name: 0, dtype: object"
      ]
     },
     "execution_count": 25,
     "metadata": {},
     "output_type": "execute_result"
    }
   ],
   "source": [
    "df.loc[0]  # Returns the first row as a Series"
   ]
  },
  {
   "cell_type": "markdown",
   "id": "7fcb78b1-655b-4941-a391-20f136bc9c1d",
   "metadata": {},
   "source": [
    "- Select multiple rows and specific columns:"
   ]
  },
  {
   "cell_type": "code",
   "execution_count": 30,
   "id": "5b4d83f3-9bcf-4bfc-8098-ba6ad31873b0",
   "metadata": {},
   "outputs": [
    {
     "data": {
      "text/html": [
       "<div>\n",
       "<style scoped>\n",
       "    .dataframe tbody tr th:only-of-type {\n",
       "        vertical-align: middle;\n",
       "    }\n",
       "\n",
       "    .dataframe tbody tr th {\n",
       "        vertical-align: top;\n",
       "    }\n",
       "\n",
       "    .dataframe thead th {\n",
       "        text-align: right;\n",
       "    }\n",
       "</style>\n",
       "<table border=\"1\" class=\"dataframe\">\n",
       "  <thead>\n",
       "    <tr style=\"text-align: right;\">\n",
       "      <th></th>\n",
       "      <th>Ship Mode</th>\n",
       "      <th>Segment</th>\n",
       "      <th>Sales</th>\n",
       "    </tr>\n",
       "  </thead>\n",
       "  <tbody>\n",
       "    <tr>\n",
       "      <th>0</th>\n",
       "      <td>Second Class</td>\n",
       "      <td>Consumer</td>\n",
       "      <td>261.96</td>\n",
       "    </tr>\n",
       "    <tr>\n",
       "      <th>1</th>\n",
       "      <td>Second Class</td>\n",
       "      <td>Consumer</td>\n",
       "      <td>731.94</td>\n",
       "    </tr>\n",
       "    <tr>\n",
       "      <th>2</th>\n",
       "      <td>Second Class</td>\n",
       "      <td>Corporate</td>\n",
       "      <td>14.62</td>\n",
       "    </tr>\n",
       "  </tbody>\n",
       "</table>\n",
       "</div>"
      ],
      "text/plain": [
       "      Ship Mode    Segment   Sales\n",
       "0  Second Class   Consumer  261.96\n",
       "1  Second Class   Consumer  731.94\n",
       "2  Second Class  Corporate   14.62"
      ]
     },
     "execution_count": 30,
     "metadata": {},
     "output_type": "execute_result"
    }
   ],
   "source": [
    "df.loc[[0, 1, 2], ['Ship Mode', 'Segment', 'Sales']]  # Rows 0-2, 3 columns"
   ]
  },
  {
   "cell_type": "markdown",
   "id": "dfc9a900-2a8b-4e53-ac23-68ccc784f0e0",
   "metadata": {},
   "source": [
    "- Select all rows but specific columns:"
   ]
  },
  {
   "cell_type": "code",
   "execution_count": 33,
   "id": "232c6c6c-88fb-4371-9e80-6a3885d13245",
   "metadata": {},
   "outputs": [
    {
     "data": {
      "text/html": [
       "<div>\n",
       "<style scoped>\n",
       "    .dataframe tbody tr th:only-of-type {\n",
       "        vertical-align: middle;\n",
       "    }\n",
       "\n",
       "    .dataframe tbody tr th {\n",
       "        vertical-align: top;\n",
       "    }\n",
       "\n",
       "    .dataframe thead th {\n",
       "        text-align: right;\n",
       "    }\n",
       "</style>\n",
       "<table border=\"1\" class=\"dataframe\">\n",
       "  <thead>\n",
       "    <tr style=\"text-align: right;\">\n",
       "      <th></th>\n",
       "      <th>City</th>\n",
       "      <th>State</th>\n",
       "      <th>Region</th>\n",
       "    </tr>\n",
       "  </thead>\n",
       "  <tbody>\n",
       "    <tr>\n",
       "      <th>0</th>\n",
       "      <td>Henderson</td>\n",
       "      <td>Kentucky</td>\n",
       "      <td>South</td>\n",
       "    </tr>\n",
       "    <tr>\n",
       "      <th>1</th>\n",
       "      <td>Henderson</td>\n",
       "      <td>Kentucky</td>\n",
       "      <td>South</td>\n",
       "    </tr>\n",
       "    <tr>\n",
       "      <th>2</th>\n",
       "      <td>Los Angeles</td>\n",
       "      <td>California</td>\n",
       "      <td>West</td>\n",
       "    </tr>\n",
       "    <tr>\n",
       "      <th>3</th>\n",
       "      <td>Fort Lauderdale</td>\n",
       "      <td>Florida</td>\n",
       "      <td>South</td>\n",
       "    </tr>\n",
       "    <tr>\n",
       "      <th>4</th>\n",
       "      <td>Fort Lauderdale</td>\n",
       "      <td>Florida</td>\n",
       "      <td>South</td>\n",
       "    </tr>\n",
       "    <tr>\n",
       "      <th>...</th>\n",
       "      <td>...</td>\n",
       "      <td>...</td>\n",
       "      <td>...</td>\n",
       "    </tr>\n",
       "    <tr>\n",
       "      <th>9989</th>\n",
       "      <td>Miami</td>\n",
       "      <td>Florida</td>\n",
       "      <td>South</td>\n",
       "    </tr>\n",
       "    <tr>\n",
       "      <th>9990</th>\n",
       "      <td>Costa Mesa</td>\n",
       "      <td>California</td>\n",
       "      <td>West</td>\n",
       "    </tr>\n",
       "    <tr>\n",
       "      <th>9991</th>\n",
       "      <td>Costa Mesa</td>\n",
       "      <td>California</td>\n",
       "      <td>West</td>\n",
       "    </tr>\n",
       "    <tr>\n",
       "      <th>9992</th>\n",
       "      <td>Costa Mesa</td>\n",
       "      <td>California</td>\n",
       "      <td>West</td>\n",
       "    </tr>\n",
       "    <tr>\n",
       "      <th>9993</th>\n",
       "      <td>Westminster</td>\n",
       "      <td>California</td>\n",
       "      <td>West</td>\n",
       "    </tr>\n",
       "  </tbody>\n",
       "</table>\n",
       "<p>9994 rows × 3 columns</p>\n",
       "</div>"
      ],
      "text/plain": [
       "                 City       State Region\n",
       "0           Henderson    Kentucky  South\n",
       "1           Henderson    Kentucky  South\n",
       "2         Los Angeles  California   West\n",
       "3     Fort Lauderdale     Florida  South\n",
       "4     Fort Lauderdale     Florida  South\n",
       "...               ...         ...    ...\n",
       "9989            Miami     Florida  South\n",
       "9990       Costa Mesa  California   West\n",
       "9991       Costa Mesa  California   West\n",
       "9992       Costa Mesa  California   West\n",
       "9993      Westminster  California   West\n",
       "\n",
       "[9994 rows x 3 columns]"
      ]
     },
     "execution_count": 33,
     "metadata": {},
     "output_type": "execute_result"
    }
   ],
   "source": [
    "df.loc[:, ['City', 'State', 'Region']]  # All rows, only 3 columns"
   ]
  },
  {
   "cell_type": "markdown",
   "id": "04296651-6f03-4121-a9f1-167e70a26d4a",
   "metadata": {},
   "source": [
    "#### B. Select rows & columns using .iloc[] (position-based)"
   ]
  },
  {
   "cell_type": "markdown",
   "id": "e933f2e0-8d43-4e3b-bc08-0a5c56dfd3ac",
   "metadata": {},
   "source": [
    "- Select the first row (index 0):"
   ]
  },
  {
   "cell_type": "code",
   "execution_count": 42,
   "id": "358b80ef-a897-4d9e-a550-ea81a567bf3e",
   "metadata": {},
   "outputs": [
    {
     "data": {
      "text/plain": [
       "Row ID                                           1\n",
       "Order ID                            CA-2016-152156\n",
       "Order Date                               11/8/2016\n",
       "Ship Date                               11/11/2016\n",
       "Ship Mode                             Second Class\n",
       "Customer ID                               CG-12520\n",
       "Customer Name                          Claire Gute\n",
       "Segment                                   Consumer\n",
       "Country                              United States\n",
       "City                                     Henderson\n",
       "State                                     Kentucky\n",
       "Postal Code                                  42420\n",
       "Region                                       South\n",
       "Product ID                         FUR-BO-10001798\n",
       "Category                                 Furniture\n",
       "Sub-Category                             Bookcases\n",
       "Product Name     Bush Somerset Collection Bookcase\n",
       "Sales                                       261.96\n",
       "Quantity                                         2\n",
       "Discount                                       0.0\n",
       "Profit                                     41.9136\n",
       "Name: 0, dtype: object"
      ]
     },
     "execution_count": 42,
     "metadata": {},
     "output_type": "execute_result"
    }
   ],
   "source": [
    "df.iloc[0]  # Returns first row"
   ]
  },
  {
   "cell_type": "markdown",
   "id": "f9aec992-a8a2-44af-83d5-89c650dea161",
   "metadata": {},
   "source": [
    "- Select rows 0 to 4 and columns 1 to 3:"
   ]
  },
  {
   "cell_type": "code",
   "execution_count": 45,
   "id": "885562a7-8085-4639-b849-3a326968b659",
   "metadata": {},
   "outputs": [
    {
     "data": {
      "text/html": [
       "<div>\n",
       "<style scoped>\n",
       "    .dataframe tbody tr th:only-of-type {\n",
       "        vertical-align: middle;\n",
       "    }\n",
       "\n",
       "    .dataframe tbody tr th {\n",
       "        vertical-align: top;\n",
       "    }\n",
       "\n",
       "    .dataframe thead th {\n",
       "        text-align: right;\n",
       "    }\n",
       "</style>\n",
       "<table border=\"1\" class=\"dataframe\">\n",
       "  <thead>\n",
       "    <tr style=\"text-align: right;\">\n",
       "      <th></th>\n",
       "      <th>Order ID</th>\n",
       "      <th>Order Date</th>\n",
       "      <th>Ship Date</th>\n",
       "    </tr>\n",
       "  </thead>\n",
       "  <tbody>\n",
       "    <tr>\n",
       "      <th>0</th>\n",
       "      <td>CA-2016-152156</td>\n",
       "      <td>11/8/2016</td>\n",
       "      <td>11/11/2016</td>\n",
       "    </tr>\n",
       "    <tr>\n",
       "      <th>1</th>\n",
       "      <td>CA-2016-152156</td>\n",
       "      <td>11/8/2016</td>\n",
       "      <td>11/11/2016</td>\n",
       "    </tr>\n",
       "    <tr>\n",
       "      <th>2</th>\n",
       "      <td>CA-2016-138688</td>\n",
       "      <td>6/12/2016</td>\n",
       "      <td>6/16/2016</td>\n",
       "    </tr>\n",
       "    <tr>\n",
       "      <th>3</th>\n",
       "      <td>US-2015-108966</td>\n",
       "      <td>10/11/2015</td>\n",
       "      <td>10/18/2015</td>\n",
       "    </tr>\n",
       "    <tr>\n",
       "      <th>4</th>\n",
       "      <td>US-2015-108966</td>\n",
       "      <td>10/11/2015</td>\n",
       "      <td>10/18/2015</td>\n",
       "    </tr>\n",
       "  </tbody>\n",
       "</table>\n",
       "</div>"
      ],
      "text/plain": [
       "         Order ID  Order Date   Ship Date\n",
       "0  CA-2016-152156   11/8/2016  11/11/2016\n",
       "1  CA-2016-152156   11/8/2016  11/11/2016\n",
       "2  CA-2016-138688   6/12/2016   6/16/2016\n",
       "3  US-2015-108966  10/11/2015  10/18/2015\n",
       "4  US-2015-108966  10/11/2015  10/18/2015"
      ]
     },
     "execution_count": 45,
     "metadata": {},
     "output_type": "execute_result"
    }
   ],
   "source": [
    "df.iloc[0:5, 1:4]  # Slicing works like Python lists"
   ]
  },
  {
   "cell_type": "markdown",
   "id": "0bd7539e-19d5-427b-a744-c7dbf547377f",
   "metadata": {},
   "source": [
    "- Select every alternate row and specific column positions:"
   ]
  },
  {
   "cell_type": "code",
   "execution_count": 48,
   "id": "3096b730-7aea-4fdf-9255-5aa2cf6d13a5",
   "metadata": {},
   "outputs": [
    {
     "data": {
      "text/html": [
       "<div>\n",
       "<style scoped>\n",
       "    .dataframe tbody tr th:only-of-type {\n",
       "        vertical-align: middle;\n",
       "    }\n",
       "\n",
       "    .dataframe tbody tr th {\n",
       "        vertical-align: top;\n",
       "    }\n",
       "\n",
       "    .dataframe thead th {\n",
       "        text-align: right;\n",
       "    }\n",
       "</style>\n",
       "<table border=\"1\" class=\"dataframe\">\n",
       "  <thead>\n",
       "    <tr style=\"text-align: right;\">\n",
       "      <th></th>\n",
       "      <th>Row ID</th>\n",
       "      <th>Order Date</th>\n",
       "      <th>Ship Mode</th>\n",
       "    </tr>\n",
       "  </thead>\n",
       "  <tbody>\n",
       "    <tr>\n",
       "      <th>0</th>\n",
       "      <td>1</td>\n",
       "      <td>11/8/2016</td>\n",
       "      <td>Second Class</td>\n",
       "    </tr>\n",
       "    <tr>\n",
       "      <th>2</th>\n",
       "      <td>3</td>\n",
       "      <td>6/12/2016</td>\n",
       "      <td>Second Class</td>\n",
       "    </tr>\n",
       "    <tr>\n",
       "      <th>4</th>\n",
       "      <td>5</td>\n",
       "      <td>10/11/2015</td>\n",
       "      <td>Standard Class</td>\n",
       "    </tr>\n",
       "    <tr>\n",
       "      <th>6</th>\n",
       "      <td>7</td>\n",
       "      <td>6/9/2014</td>\n",
       "      <td>Standard Class</td>\n",
       "    </tr>\n",
       "    <tr>\n",
       "      <th>8</th>\n",
       "      <td>9</td>\n",
       "      <td>6/9/2014</td>\n",
       "      <td>Standard Class</td>\n",
       "    </tr>\n",
       "    <tr>\n",
       "      <th>...</th>\n",
       "      <td>...</td>\n",
       "      <td>...</td>\n",
       "      <td>...</td>\n",
       "    </tr>\n",
       "    <tr>\n",
       "      <th>9984</th>\n",
       "      <td>9985</td>\n",
       "      <td>5/17/2015</td>\n",
       "      <td>Standard Class</td>\n",
       "    </tr>\n",
       "    <tr>\n",
       "      <th>9986</th>\n",
       "      <td>9987</td>\n",
       "      <td>9/29/2016</td>\n",
       "      <td>Standard Class</td>\n",
       "    </tr>\n",
       "    <tr>\n",
       "      <th>9988</th>\n",
       "      <td>9989</td>\n",
       "      <td>11/17/2017</td>\n",
       "      <td>Standard Class</td>\n",
       "    </tr>\n",
       "    <tr>\n",
       "      <th>9990</th>\n",
       "      <td>9991</td>\n",
       "      <td>2/26/2017</td>\n",
       "      <td>Standard Class</td>\n",
       "    </tr>\n",
       "    <tr>\n",
       "      <th>9992</th>\n",
       "      <td>9993</td>\n",
       "      <td>2/26/2017</td>\n",
       "      <td>Standard Class</td>\n",
       "    </tr>\n",
       "  </tbody>\n",
       "</table>\n",
       "<p>4997 rows × 3 columns</p>\n",
       "</div>"
      ],
      "text/plain": [
       "      Row ID  Order Date       Ship Mode\n",
       "0          1   11/8/2016    Second Class\n",
       "2          3   6/12/2016    Second Class\n",
       "4          5  10/11/2015  Standard Class\n",
       "6          7    6/9/2014  Standard Class\n",
       "8          9    6/9/2014  Standard Class\n",
       "...      ...         ...             ...\n",
       "9984    9985   5/17/2015  Standard Class\n",
       "9986    9987   9/29/2016  Standard Class\n",
       "9988    9989  11/17/2017  Standard Class\n",
       "9990    9991   2/26/2017  Standard Class\n",
       "9992    9993   2/26/2017  Standard Class\n",
       "\n",
       "[4997 rows x 3 columns]"
      ]
     },
     "execution_count": 48,
     "metadata": {},
     "output_type": "execute_result"
    }
   ],
   "source": [
    "df.iloc[::2, [0, 2, 4]]  # Rows: 0, 2, 4,... | Columns: 0, 2, 4"
   ]
  },
  {
   "cell_type": "markdown",
   "id": "9f91fad0-1eb7-4a9d-9710-35beb00b1156",
   "metadata": {},
   "source": [
    "### 3. Conditional Selections"
   ]
  },
  {
   "cell_type": "markdown",
   "id": "f1cd8912-83d2-4e55-a25a-679235152a6c",
   "metadata": {},
   "source": [
    "- Select rows where Sales > 1000:"
   ]
  },
  {
   "cell_type": "code",
   "execution_count": 57,
   "id": "96375fc1-1bae-4979-95d0-dbd41de18909",
   "metadata": {},
   "outputs": [
    {
     "name": "stdout",
     "output_type": "stream",
     "text": [
      "    Row ID        Order ID  Order Date   Ship Date       Ship Mode  \\\n",
      "10      11  CA-2014-115812    6/9/2014   6/14/2014  Standard Class   \n",
      "24      25  CA-2015-106320   9/25/2015   9/30/2015  Standard Class   \n",
      "27      28  US-2015-150630   9/17/2015   9/21/2015  Standard Class   \n",
      "35      36  CA-2016-117590   12/8/2016  12/10/2016     First Class   \n",
      "54      55  CA-2016-105816  12/11/2016  12/17/2016  Standard Class   \n",
      "\n",
      "   Customer ID    Customer Name    Segment        Country           City  ...  \\\n",
      "10    BH-11710  Brosina Hoffman   Consumer  United States    Los Angeles  ...   \n",
      "24    EB-13870      Emily Burns   Consumer  United States           Orem  ...   \n",
      "27    TB-21520  Tracy Blumstein   Consumer  United States   Philadelphia  ...   \n",
      "35    GH-14485        Gene Hale  Corporate  United States     Richardson  ...   \n",
      "54    JM-15265   Janet Molinari  Corporate  United States  New York City  ...   \n",
      "\n",
      "   Postal Code   Region       Product ID    Category Sub-Category  \\\n",
      "10       90032     West  FUR-TA-10001539   Furniture       Tables   \n",
      "24       84057     West  FUR-TA-10000577   Furniture       Tables   \n",
      "27       19140     East  FUR-BO-10004834   Furniture    Bookcases   \n",
      "35       75080  Central  TEC-PH-10004977  Technology       Phones   \n",
      "54       10024     East  TEC-PH-10002447  Technology       Phones   \n",
      "\n",
      "                                         Product Name     Sales  Quantity  \\\n",
      "10           Chromcraft Rectangular Conference Tables  1706.184         9   \n",
      "24      Bretford CR4500 Series Slim Rectangular Table  1044.630         3   \n",
      "27  Riverside Palais Royal Lawyers Bookcase, Royal...  3083.430         7   \n",
      "35                                        GE 30524EE4  1097.544         7   \n",
      "54                   AT&T CL83451 4-Handset Telephone  1029.950         5   \n",
      "\n",
      "    Discount     Profit  \n",
      "10       0.2    85.3092  \n",
      "24       0.0   240.2649  \n",
      "27       0.5 -1665.0522  \n",
      "35       0.2   123.4737  \n",
      "54       0.0   298.6855  \n",
      "\n",
      "[5 rows x 21 columns]\n"
     ]
    }
   ],
   "source": [
    "high_sales = df[df['Sales'] > 1000]  \n",
    "print(high_sales.head())"
   ]
  },
  {
   "cell_type": "markdown",
   "id": "d3e22e05-3cb5-48f7-a6f1-27826da37260",
   "metadata": {},
   "source": [
    "- Select rows where Profit is negative (loss):"
   ]
  },
  {
   "cell_type": "code",
   "execution_count": 60,
   "id": "75007e74-900c-40be-b7e9-fbe69bc48442",
   "metadata": {},
   "outputs": [
    {
     "name": "stdout",
     "output_type": "stream",
     "text": [
      "    Row ID        Order ID  Order Date   Ship Date       Ship Mode  \\\n",
      "3        4  US-2015-108966  10/11/2015  10/18/2015  Standard Class   \n",
      "14      15  US-2015-118983  11/22/2015  11/26/2015  Standard Class   \n",
      "15      16  US-2015-118983  11/22/2015  11/26/2015  Standard Class   \n",
      "23      24  US-2017-156909   7/16/2017   7/18/2017    Second Class   \n",
      "27      28  US-2015-150630   9/17/2015   9/21/2015  Standard Class   \n",
      "\n",
      "   Customer ID    Customer Name      Segment        Country             City  \\\n",
      "3     SO-20335   Sean O'Donnell     Consumer  United States  Fort Lauderdale   \n",
      "14    HP-14815    Harold Pawlan  Home Office  United States       Fort Worth   \n",
      "15    HP-14815    Harold Pawlan  Home Office  United States       Fort Worth   \n",
      "23    SF-20065  Sandra Flanagan     Consumer  United States     Philadelphia   \n",
      "27    TB-21520  Tracy Blumstein     Consumer  United States     Philadelphia   \n",
      "\n",
      "    ... Postal Code   Region       Product ID         Category Sub-Category  \\\n",
      "3   ...       33311    South  FUR-TA-10000577        Furniture       Tables   \n",
      "14  ...       76106  Central  OFF-AP-10002311  Office Supplies   Appliances   \n",
      "15  ...       76106  Central  OFF-BI-10000756  Office Supplies      Binders   \n",
      "23  ...       19140     East  FUR-CH-10002774        Furniture       Chairs   \n",
      "27  ...       19140     East  FUR-BO-10004834        Furniture    Bookcases   \n",
      "\n",
      "                                         Product Name      Sales  Quantity  \\\n",
      "3       Bretford CR4500 Series Slim Rectangular Table   957.5775         5   \n",
      "14  Holmes Replacement Filter for HEPA Air Cleaner...    68.8100         5   \n",
      "15   Storex DuraTech Recycled Plastic Frosted Binders     2.5440         3   \n",
      "23                 Global Deluxe Stacking Chair, Gray    71.3720         2   \n",
      "27  Riverside Palais Royal Lawyers Bookcase, Royal...  3083.4300         7   \n",
      "\n",
      "    Discount     Profit  \n",
      "3       0.45  -383.0310  \n",
      "14      0.80  -123.8580  \n",
      "15      0.80    -3.8160  \n",
      "23      0.30    -1.0196  \n",
      "27      0.50 -1665.0522  \n",
      "\n",
      "[5 rows x 21 columns]\n"
     ]
    }
   ],
   "source": [
    "loss_making = df[df['Profit'] < 0]  \n",
    "print(loss_making.head())"
   ]
  },
  {
   "cell_type": "markdown",
   "id": "9783603e-6721-4b16-8b6b-77f6d03822c5",
   "metadata": {},
   "source": [
    "### 4. Combining .loc[] with Conditions"
   ]
  },
  {
   "cell_type": "markdown",
   "id": "ec327175-34e3-4a34-972a-616f35487249",
   "metadata": {},
   "source": [
    "- Select only 'Sales' and 'Profit' columns for high-sales orders:"
   ]
  },
  {
   "cell_type": "code",
   "execution_count": 67,
   "id": "9564149f-8609-4174-a6f5-67a618a700ee",
   "metadata": {},
   "outputs": [
    {
     "data": {
      "text/html": [
       "<div>\n",
       "<style scoped>\n",
       "    .dataframe tbody tr th:only-of-type {\n",
       "        vertical-align: middle;\n",
       "    }\n",
       "\n",
       "    .dataframe tbody tr th {\n",
       "        vertical-align: top;\n",
       "    }\n",
       "\n",
       "    .dataframe thead th {\n",
       "        text-align: right;\n",
       "    }\n",
       "</style>\n",
       "<table border=\"1\" class=\"dataframe\">\n",
       "  <thead>\n",
       "    <tr style=\"text-align: right;\">\n",
       "      <th></th>\n",
       "      <th>Sales</th>\n",
       "      <th>Profit</th>\n",
       "    </tr>\n",
       "  </thead>\n",
       "  <tbody>\n",
       "    <tr>\n",
       "      <th>10</th>\n",
       "      <td>1706.184</td>\n",
       "      <td>85.3092</td>\n",
       "    </tr>\n",
       "    <tr>\n",
       "      <th>24</th>\n",
       "      <td>1044.630</td>\n",
       "      <td>240.2649</td>\n",
       "    </tr>\n",
       "    <tr>\n",
       "      <th>27</th>\n",
       "      <td>3083.430</td>\n",
       "      <td>-1665.0522</td>\n",
       "    </tr>\n",
       "    <tr>\n",
       "      <th>35</th>\n",
       "      <td>1097.544</td>\n",
       "      <td>123.4737</td>\n",
       "    </tr>\n",
       "    <tr>\n",
       "      <th>54</th>\n",
       "      <td>1029.950</td>\n",
       "      <td>298.6855</td>\n",
       "    </tr>\n",
       "    <tr>\n",
       "      <th>...</th>\n",
       "      <td>...</td>\n",
       "      <td>...</td>\n",
       "    </tr>\n",
       "    <tr>\n",
       "      <th>9866</th>\n",
       "      <td>1085.420</td>\n",
       "      <td>282.2092</td>\n",
       "    </tr>\n",
       "    <tr>\n",
       "      <th>9925</th>\n",
       "      <td>1087.936</td>\n",
       "      <td>353.5792</td>\n",
       "    </tr>\n",
       "    <tr>\n",
       "      <th>9929</th>\n",
       "      <td>2799.960</td>\n",
       "      <td>944.9865</td>\n",
       "    </tr>\n",
       "    <tr>\n",
       "      <th>9947</th>\n",
       "      <td>1925.880</td>\n",
       "      <td>539.2464</td>\n",
       "    </tr>\n",
       "    <tr>\n",
       "      <th>9948</th>\n",
       "      <td>2405.200</td>\n",
       "      <td>793.7160</td>\n",
       "    </tr>\n",
       "  </tbody>\n",
       "</table>\n",
       "<p>468 rows × 2 columns</p>\n",
       "</div>"
      ],
      "text/plain": [
       "         Sales     Profit\n",
       "10    1706.184    85.3092\n",
       "24    1044.630   240.2649\n",
       "27    3083.430 -1665.0522\n",
       "35    1097.544   123.4737\n",
       "54    1029.950   298.6855\n",
       "...        ...        ...\n",
       "9866  1085.420   282.2092\n",
       "9925  1087.936   353.5792\n",
       "9929  2799.960   944.9865\n",
       "9947  1925.880   539.2464\n",
       "9948  2405.200   793.7160\n",
       "\n",
       "[468 rows x 2 columns]"
      ]
     },
     "execution_count": 67,
     "metadata": {},
     "output_type": "execute_result"
    }
   ],
   "source": [
    "df.loc[df['Sales'] > 1000, ['Sales', 'Profit']]"
   ]
  },
  {
   "cell_type": "markdown",
   "id": "4a5cb41a-b332-41c4-98f9-f7080070107b",
   "metadata": {},
   "source": [
    "- Select rows where State is 'California' and only 'City', 'Sales', 'Profit' columns:"
   ]
  },
  {
   "cell_type": "code",
   "execution_count": 70,
   "id": "ea885a71-b943-44c8-9de0-2f16fbb62996",
   "metadata": {},
   "outputs": [
    {
     "data": {
      "text/html": [
       "<div>\n",
       "<style scoped>\n",
       "    .dataframe tbody tr th:only-of-type {\n",
       "        vertical-align: middle;\n",
       "    }\n",
       "\n",
       "    .dataframe tbody tr th {\n",
       "        vertical-align: top;\n",
       "    }\n",
       "\n",
       "    .dataframe thead th {\n",
       "        text-align: right;\n",
       "    }\n",
       "</style>\n",
       "<table border=\"1\" class=\"dataframe\">\n",
       "  <thead>\n",
       "    <tr style=\"text-align: right;\">\n",
       "      <th></th>\n",
       "      <th>City</th>\n",
       "      <th>Sales</th>\n",
       "      <th>Profit</th>\n",
       "    </tr>\n",
       "  </thead>\n",
       "  <tbody>\n",
       "    <tr>\n",
       "      <th>2</th>\n",
       "      <td>Los Angeles</td>\n",
       "      <td>14.620</td>\n",
       "      <td>6.8714</td>\n",
       "    </tr>\n",
       "    <tr>\n",
       "      <th>5</th>\n",
       "      <td>Los Angeles</td>\n",
       "      <td>48.860</td>\n",
       "      <td>14.1694</td>\n",
       "    </tr>\n",
       "    <tr>\n",
       "      <th>6</th>\n",
       "      <td>Los Angeles</td>\n",
       "      <td>7.280</td>\n",
       "      <td>1.9656</td>\n",
       "    </tr>\n",
       "    <tr>\n",
       "      <th>7</th>\n",
       "      <td>Los Angeles</td>\n",
       "      <td>907.152</td>\n",
       "      <td>90.7152</td>\n",
       "    </tr>\n",
       "    <tr>\n",
       "      <th>8</th>\n",
       "      <td>Los Angeles</td>\n",
       "      <td>18.504</td>\n",
       "      <td>5.7825</td>\n",
       "    </tr>\n",
       "    <tr>\n",
       "      <th>...</th>\n",
       "      <td>...</td>\n",
       "      <td>...</td>\n",
       "      <td>...</td>\n",
       "    </tr>\n",
       "    <tr>\n",
       "      <th>9986</th>\n",
       "      <td>Los Angeles</td>\n",
       "      <td>36.240</td>\n",
       "      <td>15.2208</td>\n",
       "    </tr>\n",
       "    <tr>\n",
       "      <th>9990</th>\n",
       "      <td>Costa Mesa</td>\n",
       "      <td>91.960</td>\n",
       "      <td>15.6332</td>\n",
       "    </tr>\n",
       "    <tr>\n",
       "      <th>9991</th>\n",
       "      <td>Costa Mesa</td>\n",
       "      <td>258.576</td>\n",
       "      <td>19.3932</td>\n",
       "    </tr>\n",
       "    <tr>\n",
       "      <th>9992</th>\n",
       "      <td>Costa Mesa</td>\n",
       "      <td>29.600</td>\n",
       "      <td>13.3200</td>\n",
       "    </tr>\n",
       "    <tr>\n",
       "      <th>9993</th>\n",
       "      <td>Westminster</td>\n",
       "      <td>243.160</td>\n",
       "      <td>72.9480</td>\n",
       "    </tr>\n",
       "  </tbody>\n",
       "</table>\n",
       "<p>2001 rows × 3 columns</p>\n",
       "</div>"
      ],
      "text/plain": [
       "             City    Sales   Profit\n",
       "2     Los Angeles   14.620   6.8714\n",
       "5     Los Angeles   48.860  14.1694\n",
       "6     Los Angeles    7.280   1.9656\n",
       "7     Los Angeles  907.152  90.7152\n",
       "8     Los Angeles   18.504   5.7825\n",
       "...           ...      ...      ...\n",
       "9986  Los Angeles   36.240  15.2208\n",
       "9990   Costa Mesa   91.960  15.6332\n",
       "9991   Costa Mesa  258.576  19.3932\n",
       "9992   Costa Mesa   29.600  13.3200\n",
       "9993  Westminster  243.160  72.9480\n",
       "\n",
       "[2001 rows x 3 columns]"
      ]
     },
     "execution_count": 70,
     "metadata": {},
     "output_type": "execute_result"
    }
   ],
   "source": [
    "df.loc[df['State'] == 'California', ['City', 'Sales', 'Profit']]"
   ]
  },
  {
   "cell_type": "markdown",
   "id": "29a83b8b-960f-49d1-a982-a74e99202896",
   "metadata": {},
   "source": [
    "## Task 2: Filtering & Sorting"
   ]
  },
  {
   "cell_type": "markdown",
   "id": "b77b9e2a-1082-4882-8381-f9ed0475ed34",
   "metadata": {},
   "source": [
    "### 1. Filtering Data"
   ]
  },
  {
   "cell_type": "markdown",
   "id": "52183cad-ff93-47d5-a4e8-76079eccce6c",
   "metadata": {},
   "source": [
    "#### A. Basic Boolean Filtering"
   ]
  },
  {
   "cell_type": "markdown",
   "id": "fa2b721d-6ca8-4df7-9761-b3b5e0959284",
   "metadata": {},
   "source": [
    "Filter rows where sales exceed $500:"
   ]
  },
  {
   "cell_type": "code",
   "execution_count": 78,
   "id": "588b2e8b-8a8b-45c5-a310-17ab15011002",
   "metadata": {},
   "outputs": [
    {
     "name": "stdout",
     "output_type": "stream",
     "text": [
      "    Row ID        Order ID  Order Date   Ship Date       Ship Mode  \\\n",
      "1        2  CA-2016-152156   11/8/2016  11/11/2016    Second Class   \n",
      "3        4  US-2015-108966  10/11/2015  10/18/2015  Standard Class   \n",
      "7        8  CA-2014-115812    6/9/2014   6/14/2014  Standard Class   \n",
      "10      11  CA-2014-115812    6/9/2014   6/14/2014  Standard Class   \n",
      "11      12  CA-2014-115812    6/9/2014   6/14/2014  Standard Class   \n",
      "\n",
      "   Customer ID    Customer Name   Segment        Country             City  \\\n",
      "1     CG-12520      Claire Gute  Consumer  United States        Henderson   \n",
      "3     SO-20335   Sean O'Donnell  Consumer  United States  Fort Lauderdale   \n",
      "7     BH-11710  Brosina Hoffman  Consumer  United States      Los Angeles   \n",
      "10    BH-11710  Brosina Hoffman  Consumer  United States      Los Angeles   \n",
      "11    BH-11710  Brosina Hoffman  Consumer  United States      Los Angeles   \n",
      "\n",
      "    ... Postal Code  Region       Product ID    Category Sub-Category  \\\n",
      "1   ...       42420   South  FUR-CH-10000454   Furniture       Chairs   \n",
      "3   ...       33311   South  FUR-TA-10000577   Furniture       Tables   \n",
      "7   ...       90032    West  TEC-PH-10002275  Technology       Phones   \n",
      "10  ...       90032    West  FUR-TA-10001539   Furniture       Tables   \n",
      "11  ...       90032    West  TEC-PH-10002033  Technology       Phones   \n",
      "\n",
      "                                         Product Name      Sales  Quantity  \\\n",
      "1   Hon Deluxe Fabric Upholstered Stacking Chairs,...   731.9400         3   \n",
      "3       Bretford CR4500 Series Slim Rectangular Table   957.5775         5   \n",
      "7                      Mitel 5320 IP Phone VoIP phone   907.1520         6   \n",
      "10           Chromcraft Rectangular Conference Tables  1706.1840         9   \n",
      "11      Konftel 250 Conference phone - Charcoal black   911.4240         4   \n",
      "\n",
      "    Discount    Profit  \n",
      "1       0.00  219.5820  \n",
      "3       0.45 -383.0310  \n",
      "7       0.20   90.7152  \n",
      "10      0.20   85.3092  \n",
      "11      0.20   68.3568  \n",
      "\n",
      "[5 rows x 21 columns]\n"
     ]
    }
   ],
   "source": [
    "high_sales = df[df['Sales'] > 500]\n",
    "print(high_sales.head())"
   ]
  },
  {
   "cell_type": "markdown",
   "id": "a7f3f30d-e10c-41f5-90b8-ebb0d934030f",
   "metadata": {},
   "source": [
    "#### B. Multiple Conditions (AND/OR)"
   ]
  },
  {
   "cell_type": "markdown",
   "id": "ed91df78-3847-49d7-bfec-629c0097f98b",
   "metadata": {},
   "source": [
    "- AND (&) → Both conditions must be true:"
   ]
  },
  {
   "cell_type": "code",
   "execution_count": 110,
   "id": "2914ffc2-40f1-4272-b1c3-8afffe3be40f",
   "metadata": {},
   "outputs": [
    {
     "name": "stdout",
     "output_type": "stream",
     "text": [
      "      Row ID        Order ID  Order Date   Ship Date       Ship Mode  \\\n",
      "35        36  CA-2016-117590   12/8/2016  12/10/2016     First Class   \n",
      "54        55  CA-2016-105816  12/11/2016  12/17/2016  Standard Class   \n",
      "165      166  CA-2014-139892    9/8/2014   9/12/2014  Standard Class   \n",
      "215      216  CA-2015-146262    1/2/2015    1/9/2015  Standard Class   \n",
      "251      252  CA-2016-145625   9/11/2016   9/17/2016  Standard Class   \n",
      "...      ...             ...         ...         ...             ...   \n",
      "9513    9514  CA-2016-125220  10/14/2016  10/19/2016  Standard Class   \n",
      "9578    9579  CA-2017-152975   9/14/2017   9/16/2017     First Class   \n",
      "9660    9661  CA-2016-160717    6/6/2016   6/11/2016  Standard Class   \n",
      "9673    9674  CA-2016-114867  12/23/2016  12/28/2016  Standard Class   \n",
      "9929    9930  CA-2016-129630    9/4/2016    9/4/2016        Same Day   \n",
      "\n",
      "     Customer ID    Customer Name      Segment        Country           City  \\\n",
      "35      GH-14485        Gene Hale    Corporate  United States     Richardson   \n",
      "54      JM-15265   Janet Molinari    Corporate  United States  New York City   \n",
      "165     BM-11140     Becky Martin     Consumer  United States    San Antonio   \n",
      "215     VW-21775  Victoria Wilson    Corporate  United States         Medina   \n",
      "251     KC-16540  Kelly Collister     Consumer  United States      San Diego   \n",
      "...          ...              ...          ...            ...            ...   \n",
      "9513    BE-11410      Bobby Elias     Consumer  United States       Appleton   \n",
      "9578    RB-19705     Roger Barcio  Home Office  United States  New York City   \n",
      "9660    ME-17320    Maria Etezadi  Home Office  United States  Santa Barbara   \n",
      "9673    FM-14290     Frank Merwin  Home Office  United States   Philadelphia   \n",
      "9929    IM-15055    Ionia McGrath     Consumer  United States  San Francisco   \n",
      "\n",
      "      ... Postal Code   Region       Product ID    Category Sub-Category  \\\n",
      "35    ...       75080  Central  TEC-PH-10004977  Technology       Phones   \n",
      "54    ...       10024     East  TEC-PH-10002447  Technology       Phones   \n",
      "165   ...       78207  Central  TEC-MA-10000822  Technology     Machines   \n",
      "215   ...       44256     East  TEC-MA-10000864  Technology     Machines   \n",
      "251   ...       92037     West  TEC-AC-10003832  Technology  Accessories   \n",
      "...   ...         ...      ...              ...         ...          ...   \n",
      "9513  ...       54915  Central  TEC-AC-10003033  Technology  Accessories   \n",
      "9578  ...       10035     East  TEC-PH-10004586  Technology       Phones   \n",
      "9660  ...       93101     West  TEC-PH-10001459  Technology       Phones   \n",
      "9673  ...       19143     East  TEC-PH-10002645  Technology       Phones   \n",
      "9929  ...       94122     West  TEC-CO-10003763  Technology      Copiers   \n",
      "\n",
      "                                           Product Name     Sales  Quantity  \\\n",
      "35                                          GE 30524EE4  1097.544         7   \n",
      "54                     AT&T CL83451 4-Handset Telephone  1029.950         5   \n",
      "165           Lexmark MX611dhe Monochrome Laser Printer  8159.952         8   \n",
      "215                  Cisco 9971 IP Video Phone Charcoal  1188.000         9   \n",
      "251                  Logitech P710e Mobile Speakerphone  3347.370        13   \n",
      "...                                                 ...       ...       ...   \n",
      "9513  Plantronics CS510 - Over-the-Head monaural Wir...  1649.750         5   \n",
      "9578     Wilson SignalBoost 841262 DB PRO Amplifier Kit  1079.850         3   \n",
      "9660                            Samsung Galaxy Mega 6.3  3023.928         9   \n",
      "9673                                              LG G2  1499.970         5   \n",
      "9929                 Canon PC1060 Personal Laser Copier  2799.960         5   \n",
      "\n",
      "      Discount     Profit  \n",
      "35         0.2   123.4737  \n",
      "54         0.0   298.6855  \n",
      "165        0.4 -1359.9920  \n",
      "215        0.7  -950.4000  \n",
      "251        0.0   636.0003  \n",
      "...        ...        ...  \n",
      "9513       0.0   544.4175  \n",
      "9578       0.0   323.9550  \n",
      "9660       0.2   226.7946  \n",
      "9673       0.4  -374.9925  \n",
      "9929       0.2   944.9865  \n",
      "\n",
      "[177 rows x 21 columns]\n"
     ]
    }
   ],
   "source": [
    "tech_high_sales = df[(df['Category'] == 'Technology') & (df['Sales'] > 1000)]\n",
    "print(tech_high_sales)"
   ]
  },
  {
   "cell_type": "markdown",
   "id": "3309f1c4-e0eb-4fcd-b5d3-06fdd4d6bf0f",
   "metadata": {},
   "source": [
    "- OR (|) → Either condition can be true:"
   ]
  },
  {
   "cell_type": "code",
   "execution_count": 112,
   "id": "8af57256-0fbf-449e-943d-fa678060e3dd",
   "metadata": {},
   "outputs": [
    {
     "name": "stdout",
     "output_type": "stream",
     "text": [
      "      Row ID        Order ID  Order Date   Ship Date       Ship Mode  \\\n",
      "0          1  CA-2016-152156   11/8/2016  11/11/2016    Second Class   \n",
      "1          2  CA-2016-152156   11/8/2016  11/11/2016    Second Class   \n",
      "3          4  US-2015-108966  10/11/2015  10/18/2015  Standard Class   \n",
      "5          6  CA-2014-115812    6/9/2014   6/14/2014  Standard Class   \n",
      "7          8  CA-2014-115812    6/9/2014   6/14/2014  Standard Class   \n",
      "...      ...             ...         ...         ...             ...   \n",
      "9987    9988  CA-2017-163629  11/17/2017  11/21/2017  Standard Class   \n",
      "9988    9989  CA-2017-163629  11/17/2017  11/21/2017  Standard Class   \n",
      "9989    9990  CA-2014-110422   1/21/2014   1/23/2014    Second Class   \n",
      "9990    9991  CA-2017-121258   2/26/2017    3/3/2017  Standard Class   \n",
      "9991    9992  CA-2017-121258   2/26/2017    3/3/2017  Standard Class   \n",
      "\n",
      "     Customer ID     Customer Name    Segment        Country             City  \\\n",
      "0       CG-12520       Claire Gute   Consumer  United States        Henderson   \n",
      "1       CG-12520       Claire Gute   Consumer  United States        Henderson   \n",
      "3       SO-20335    Sean O'Donnell   Consumer  United States  Fort Lauderdale   \n",
      "5       BH-11710   Brosina Hoffman   Consumer  United States      Los Angeles   \n",
      "7       BH-11710   Brosina Hoffman   Consumer  United States      Los Angeles   \n",
      "...          ...               ...        ...            ...              ...   \n",
      "9987    RA-19885      Ruben Ausman  Corporate  United States           Athens   \n",
      "9988    RA-19885      Ruben Ausman  Corporate  United States           Athens   \n",
      "9989    TB-21400  Tom Boeckenhauer   Consumer  United States            Miami   \n",
      "9990    DB-13060       Dave Brooks   Consumer  United States       Costa Mesa   \n",
      "9991    DB-13060       Dave Brooks   Consumer  United States       Costa Mesa   \n",
      "\n",
      "      ... Postal Code  Region       Product ID    Category Sub-Category  \\\n",
      "0     ...       42420   South  FUR-BO-10001798   Furniture    Bookcases   \n",
      "1     ...       42420   South  FUR-CH-10000454   Furniture       Chairs   \n",
      "3     ...       33311   South  FUR-TA-10000577   Furniture       Tables   \n",
      "5     ...       90032    West  FUR-FU-10001487   Furniture  Furnishings   \n",
      "7     ...       90032    West  TEC-PH-10002275  Technology       Phones   \n",
      "...   ...         ...     ...              ...         ...          ...   \n",
      "9987  ...       30605   South  TEC-AC-10001539  Technology  Accessories   \n",
      "9988  ...       30605   South  TEC-PH-10004006  Technology       Phones   \n",
      "9989  ...       33180   South  FUR-FU-10001889   Furniture  Furnishings   \n",
      "9990  ...       92627    West  FUR-FU-10000747   Furniture  Furnishings   \n",
      "9991  ...       92627    West  TEC-PH-10003645  Technology       Phones   \n",
      "\n",
      "                                           Product Name     Sales  Quantity  \\\n",
      "0                     Bush Somerset Collection Bookcase  261.9600         2   \n",
      "1     Hon Deluxe Fabric Upholstered Stacking Chairs,...  731.9400         3   \n",
      "3         Bretford CR4500 Series Slim Rectangular Table  957.5775         5   \n",
      "5     Eldon Expressions Wood and Plastic Desk Access...   48.8600         7   \n",
      "7                        Mitel 5320 IP Phone VoIP phone  907.1520         6   \n",
      "...                                                 ...       ...       ...   \n",
      "9987  Logitech G430 Surround Sound Gaming Headset wi...   79.9900         1   \n",
      "9988                    Panasonic KX - TS880B Telephone  206.1000         5   \n",
      "9989                             Ultra Door Pull Handle   25.2480         3   \n",
      "9990  Tenex B1-RE Series Chair Mats for Low Pile Car...   91.9600         2   \n",
      "9991                              Aastra 57i VoIP phone  258.5760         2   \n",
      "\n",
      "      Discount    Profit  \n",
      "0         0.00   41.9136  \n",
      "1         0.00  219.5820  \n",
      "3         0.45 -383.0310  \n",
      "5         0.00   14.1694  \n",
      "7         0.20   90.7152  \n",
      "...        ...       ...  \n",
      "9987      0.00   28.7964  \n",
      "9988      0.00   55.6470  \n",
      "9989      0.20    4.1028  \n",
      "9990      0.00   15.6332  \n",
      "9991      0.20   19.3932  \n",
      "\n",
      "[3968 rows x 21 columns]\n"
     ]
    }
   ],
   "source": [
    "tech_or_furniture = df[(df['Category'] == 'Technology') | (df['Category'] == 'Furniture')]\n",
    "print(tech_or_furniture)"
   ]
  },
  {
   "cell_type": "markdown",
   "id": "847fde31-69ed-4dec-87ad-37131320a5df",
   "metadata": {},
   "source": [
    "### 2. Sorting Data"
   ]
  },
  {
   "cell_type": "markdown",
   "id": "e7b21f0a-cc8c-40a5-9ab1-62dc7e872796",
   "metadata": {},
   "source": [
    "#### A. Sort by a Single Column"
   ]
  },
  {
   "cell_type": "markdown",
   "id": "d2d0fc7e-66fa-4e69-9f6b-b39740ad9a27",
   "metadata": {},
   "source": [
    "Sort by Profit (highest first):"
   ]
  },
  {
   "cell_type": "code",
   "execution_count": 95,
   "id": "333a0eef-a9f5-451b-94f1-21401bbe6f41",
   "metadata": {},
   "outputs": [
    {
     "name": "stdout",
     "output_type": "stream",
     "text": [
      "      Row ID        Order ID  Order Date   Ship Date       Ship Mode  \\\n",
      "6826    6827  CA-2016-118689   10/2/2016   10/9/2016  Standard Class   \n",
      "8153    8154  CA-2017-140151   3/23/2017   3/25/2017     First Class   \n",
      "4190    4191  CA-2017-166709  11/17/2017  11/22/2017  Standard Class   \n",
      "9039    9040  CA-2016-117121  12/17/2016  12/21/2016  Standard Class   \n",
      "4098    4099  CA-2014-116904   9/23/2014   9/28/2014  Standard Class   \n",
      "\n",
      "     Customer ID  Customer Name    Segment        Country         City  ...  \\\n",
      "6826    TC-20980   Tamara Chand  Corporate  United States    Lafayette  ...   \n",
      "8153    RB-19360   Raymond Buch   Consumer  United States      Seattle  ...   \n",
      "4190    HL-15040   Hunter Lopez   Consumer  United States       Newark  ...   \n",
      "9039    AB-10105  Adrian Barton   Consumer  United States      Detroit  ...   \n",
      "4098    SC-20095   Sanjit Chand   Consumer  United States  Minneapolis  ...   \n",
      "\n",
      "     Postal Code   Region       Product ID         Category Sub-Category  \\\n",
      "6826       47905  Central  TEC-CO-10004722       Technology      Copiers   \n",
      "8153       98115     West  TEC-CO-10004722       Technology      Copiers   \n",
      "4190       19711     East  TEC-CO-10004722       Technology      Copiers   \n",
      "9039       48205  Central  OFF-BI-10000545  Office Supplies      Binders   \n",
      "4098       55407  Central  OFF-BI-10001120  Office Supplies      Binders   \n",
      "\n",
      "                                          Product Name     Sales  Quantity  \\\n",
      "6826             Canon imageCLASS 2200 Advanced Copier  17499.95         5   \n",
      "8153             Canon imageCLASS 2200 Advanced Copier  13999.96         4   \n",
      "4190             Canon imageCLASS 2200 Advanced Copier  10499.97         3   \n",
      "9039  GBC Ibimaster 500 Manual ProClick Binding System   9892.74        13   \n",
      "4098              Ibico EPK-21 Electric Binding System   9449.95         5   \n",
      "\n",
      "      Discount     Profit  \n",
      "6826       0.0  8399.9760  \n",
      "8153       0.0  6719.9808  \n",
      "4190       0.0  5039.9856  \n",
      "9039       0.0  4946.3700  \n",
      "4098       0.0  4630.4755  \n",
      "\n",
      "[5 rows x 21 columns]\n"
     ]
    }
   ],
   "source": [
    "df_sorted = df.sort_values('Profit', ascending=False)\n",
    "print(df_sorted.head())"
   ]
  },
  {
   "cell_type": "markdown",
   "id": "847f7abf-d5f5-41e0-b1fd-1421a20b0db5",
   "metadata": {},
   "source": [
    "#### B. Sort by Multiple Columns"
   ]
  },
  {
   "cell_type": "markdown",
   "id": "e1876231-5eac-4776-b21f-b851087d20c5",
   "metadata": {},
   "source": [
    "Sort by Category (A-Z), then Sales (highest first):"
   ]
  },
  {
   "cell_type": "code",
   "execution_count": 99,
   "id": "97dc0d73-9208-4d6b-b80f-adf968f0941e",
   "metadata": {},
   "outputs": [
    {
     "name": "stdout",
     "output_type": "stream",
     "text": [
      "      Row ID        Order ID  Order Date   Ship Date       Ship Mode  \\\n",
      "7243    7244  CA-2017-118892   8/17/2017   8/22/2017    Second Class   \n",
      "9741    9742  CA-2015-117086   11/8/2015  11/12/2015  Standard Class   \n",
      "9639    9640  CA-2015-116638   1/28/2015   1/31/2015    Second Class   \n",
      "5917    5918  US-2015-126977   9/17/2015   9/23/2015  Standard Class   \n",
      "6535    6536  CA-2014-128209  11/17/2014  11/22/2014  Standard Class   \n",
      "\n",
      "     Customer ID Customer Name    Segment        Country           City  ...  \\\n",
      "7243    TP-21415  Tom Prescott   Consumer  United States   Philadelphia  ...   \n",
      "9741    QJ-19255  Quincy Jones  Corporate  United States     Burlington  ...   \n",
      "9639    JH-15985   Joseph Holt   Consumer  United States        Concord  ...   \n",
      "5917    PF-19120  Peter Fuller   Consumer  United States  New York City  ...   \n",
      "6535    GT-14710     Greg Tran   Consumer  United States        Buffalo  ...   \n",
      "\n",
      "     Postal Code  Region       Product ID   Category Sub-Category  \\\n",
      "7243       19134    East  FUR-CH-10002024  Furniture       Chairs   \n",
      "9741        5408    East  FUR-BO-10004834  Furniture    Bookcases   \n",
      "9639       28027   South  FUR-TA-10000198  Furniture       Tables   \n",
      "5917       10035    East  FUR-BO-10004834  Furniture    Bookcases   \n",
      "6535       14215    East  FUR-BO-10002213  Furniture    Bookcases   \n",
      "\n",
      "                                           Product Name     Sales  Quantity  \\\n",
      "7243       HON 5400 Series Task Chairs for Big and Tall  4416.174         9   \n",
      "9741  Riverside Palais Royal Lawyers Bookcase, Royal...  4404.900         5   \n",
      "9639  Chromcraft Bull-Nose Wood Oval Conference Tabl...  4297.644        13   \n",
      "5917  Riverside Palais Royal Lawyers Bookcase, Royal...  4228.704         6   \n",
      "6535              DMI Eclipse Executive Suite Bookcases  4007.840        10   \n",
      "\n",
      "      Discount     Profit  \n",
      "7243       0.3  -630.8820  \n",
      "9741       0.0  1013.1270  \n",
      "9639       0.4 -1862.3124  \n",
      "5917       0.2   158.5764  \n",
      "6535       0.2   -50.0980  \n",
      "\n",
      "[5 rows x 21 columns]\n"
     ]
    }
   ],
   "source": [
    "df_sorted = df.sort_values(by=['Category', 'Sales'], ascending=[True, False])\n",
    "print(df_sorted.head())"
   ]
  },
  {
   "cell_type": "markdown",
   "id": "c315a8a6-c319-4091-821a-e42eb24b36f6",
   "metadata": {},
   "source": [
    "### 3. Combining Filtering & Sorting"
   ]
  },
  {
   "cell_type": "markdown",
   "id": "1339844b-b2e8-4612-81fe-318cb8629ad5",
   "metadata": {},
   "source": [
    "Find high-sales orders in the 'Technology' category and sort by Profit:"
   ]
  },
  {
   "cell_type": "code",
   "execution_count": 114,
   "id": "cf0ccb61-9025-4d7c-b082-f35d5be12518",
   "metadata": {},
   "outputs": [
    {
     "name": "stdout",
     "output_type": "stream",
     "text": [
      "      Row ID        Order ID  Order Date   Ship Date       Ship Mode  \\\n",
      "6826    6827  CA-2016-118689   10/2/2016   10/9/2016  Standard Class   \n",
      "8153    8154  CA-2017-140151   3/23/2017   3/25/2017     First Class   \n",
      "4190    4191  CA-2017-166709  11/17/2017  11/22/2017  Standard Class   \n",
      "2623    2624  CA-2017-127180  10/22/2017  10/24/2017     First Class   \n",
      "8488    8489  CA-2016-158841    2/2/2016    2/4/2016    Second Class   \n",
      "...      ...             ...         ...         ...             ...   \n",
      "2697    2698  CA-2014-145317   3/18/2014   3/23/2014  Standard Class   \n",
      "3151    3152  CA-2015-147830  12/15/2015  12/18/2015     First Class   \n",
      "3011    3012  CA-2017-134845   4/17/2017   4/23/2017  Standard Class   \n",
      "683      684  US-2017-168116   11/4/2017   11/4/2017        Same Day   \n",
      "7772    7773  CA-2016-108196  11/25/2016   12/2/2016  Standard Class   \n",
      "\n",
      "     Customer ID     Customer Name      Segment        Country           City  \\\n",
      "6826    TC-20980      Tamara Chand    Corporate  United States      Lafayette   \n",
      "8153    RB-19360      Raymond Buch     Consumer  United States        Seattle   \n",
      "4190    HL-15040      Hunter Lopez     Consumer  United States         Newark   \n",
      "2623    TA-21385      Tom Ashbrook  Home Office  United States  New York City   \n",
      "8488    SE-20110      Sanjit Engle     Consumer  United States      Arlington   \n",
      "...          ...               ...          ...            ...            ...   \n",
      "2697    SM-20320       Sean Miller  Home Office  United States   Jacksonville   \n",
      "3151    NF-18385  Natalie Fritzler     Consumer  United States         Newark   \n",
      "3011    SR-20425    Sharelle Roach  Home Office  United States     Louisville   \n",
      "683     GT-14635    Grant Thornton    Corporate  United States     Burlington   \n",
      "7772    CS-12505     Cindy Stewart     Consumer  United States      Lancaster   \n",
      "\n",
      "      ... Postal Code   Region       Product ID    Category Sub-Category  \\\n",
      "6826  ...       47905  Central  TEC-CO-10004722  Technology      Copiers   \n",
      "8153  ...       98115     West  TEC-CO-10004722  Technology      Copiers   \n",
      "4190  ...       19711     East  TEC-CO-10004722  Technology      Copiers   \n",
      "2623  ...       10024     East  TEC-CO-10004722  Technology      Copiers   \n",
      "8488  ...       22204    South  TEC-MA-10001127  Technology     Machines   \n",
      "...   ...         ...      ...              ...         ...          ...   \n",
      "2697  ...       32216    South  TEC-MA-10002412  Technology     Machines   \n",
      "3151  ...       43055     East  TEC-MA-10000418  Technology     Machines   \n",
      "3011  ...       80027     West  TEC-MA-10000822  Technology     Machines   \n",
      "683   ...       27217    South  TEC-MA-10004125  Technology     Machines   \n",
      "7772  ...       43130     East  TEC-MA-10000418  Technology     Machines   \n",
      "\n",
      "                                           Product Name      Sales  Quantity  \\\n",
      "6826              Canon imageCLASS 2200 Advanced Copier  17499.950         5   \n",
      "8153              Canon imageCLASS 2200 Advanced Copier  13999.960         4   \n",
      "4190              Canon imageCLASS 2200 Advanced Copier  10499.970         3   \n",
      "2623              Canon imageCLASS 2200 Advanced Copier  11199.968         4   \n",
      "8488  HP Designjet T520 Inkjet Large Format Printer ...   8749.950         5   \n",
      "...                                                 ...        ...       ...   \n",
      "2697  Cisco TelePresence System EX90 Videoconferenci...  22638.480         6   \n",
      "3151          Cubify CubeX 3D Printer Double Head Print   1799.994         2   \n",
      "3011          Lexmark MX611dhe Monochrome Laser Printer   2549.985         5   \n",
      "683           Cubify CubeX 3D Printer Triple Head Print   7999.980         4   \n",
      "7772          Cubify CubeX 3D Printer Double Head Print   4499.985         5   \n",
      "\n",
      "      Discount     Profit  \n",
      "6826       0.0  8399.9760  \n",
      "8153       0.0  6719.9808  \n",
      "4190       0.0  5039.9856  \n",
      "2623       0.2  3919.9888  \n",
      "8488       0.0  2799.9840  \n",
      "...        ...        ...  \n",
      "2697       0.5 -1811.0784  \n",
      "3151       0.7 -2639.9912  \n",
      "3011       0.7 -3399.9800  \n",
      "683        0.5 -3839.9904  \n",
      "7772       0.7 -6599.9780  \n",
      "\n",
      "[177 rows x 21 columns]\n"
     ]
    }
   ],
   "source": [
    "tech_high_sales = df[(df['Category'] == 'Technology') & (df['Sales'] > 1000)]\n",
    "tech_high_sales_sorted = tech_high_sales.sort_values('Profit', ascending=False)\n",
    "print(tech_high_sales_sorted)"
   ]
  },
  {
   "cell_type": "markdown",
   "id": "f90b1586-56af-4694-8ec7-11418357fbb7",
   "metadata": {},
   "source": [
    "## Task 3: Handling Missing Data"
   ]
  },
  {
   "cell_type": "markdown",
   "id": "d8d61c5e-46a3-48a0-a277-e213ec8b57b9",
   "metadata": {},
   "source": [
    "### 1. Identifying Missing Data"
   ]
  },
  {
   "cell_type": "markdown",
   "id": "95e012c3-7138-48cf-9915-8f5b747b1911",
   "metadata": {},
   "source": [
    "#### A. Check for Null Values"
   ]
  },
  {
   "cell_type": "code",
   "execution_count": 184,
   "id": "497d05b0-f452-4bce-bc7d-825298aef1fa",
   "metadata": {},
   "outputs": [
    {
     "name": "stdout",
     "output_type": "stream",
     "text": [
      "Null values per column:\n",
      " Row ID           0\n",
      "Order ID         0\n",
      "Order Date       0\n",
      "Ship Date        0\n",
      "Ship Mode        0\n",
      "Customer ID      0\n",
      "Customer Name    0\n",
      "Segment          0\n",
      "Country          0\n",
      "City             0\n",
      "State            0\n",
      "Postal Code      0\n",
      "Region           0\n",
      "Product ID       0\n",
      "Category         0\n",
      "Sub-Category     0\n",
      "Product Name     0\n",
      "Sales            0\n",
      "Quantity         0\n",
      "Discount         0\n",
      "Profit           0\n",
      "dtype: int64\n"
     ]
    }
   ],
   "source": [
    "# Count nulls per column\n",
    "null_counts = df.isnull().sum()\n",
    "print(\"Null values per column:\\n\", null_counts)"
   ]
  },
  {
   "cell_type": "markdown",
   "id": "3efa4c70-f472-4681-a719-1334ed44bbb0",
   "metadata": {},
   "source": [
    "#### B. Check Rows with Nulls"
   ]
  },
  {
   "cell_type": "code",
   "execution_count": 123,
   "id": "beed57b8-5883-4e97-b8f1-8d195b6194fe",
   "metadata": {},
   "outputs": [
    {
     "name": "stdout",
     "output_type": "stream",
     "text": [
      "Rows with missing values:\n",
      " Empty DataFrame\n",
      "Columns: [Row ID, Order ID, Order Date, Ship Date, Ship Mode, Customer ID, Customer Name, Segment, Country, City, State, Postal Code, Region, Product ID, Category, Sub-Category, Product Name, Sales, Quantity, Discount, Profit]\n",
      "Index: []\n",
      "\n",
      "[0 rows x 21 columns]\n"
     ]
    }
   ],
   "source": [
    "# Show rows where any column is null\n",
    "rows_with_nulls = df[df.isnull().any(axis=1)]\n",
    "print(\"Rows with missing values:\\n\", rows_with_nulls)"
   ]
  },
  {
   "cell_type": "markdown",
   "id": "21684a99-7500-4343-89d7-b629e096bf34",
   "metadata": {},
   "source": [
    "### 2. Handling Missing Data"
   ]
  },
  {
   "cell_type": "markdown",
   "id": "92de2e57-abbb-49b2-baaf-bedb7968c13b",
   "metadata": {},
   "source": [
    "#### A. Dropping Null Values"
   ]
  },
  {
   "cell_type": "code",
   "execution_count": 127,
   "id": "895ce194-4bf0-4896-9c55-c6a0086575cf",
   "metadata": {},
   "outputs": [
    {
     "data": {
      "text/html": [
       "<div>\n",
       "<style scoped>\n",
       "    .dataframe tbody tr th:only-of-type {\n",
       "        vertical-align: middle;\n",
       "    }\n",
       "\n",
       "    .dataframe tbody tr th {\n",
       "        vertical-align: top;\n",
       "    }\n",
       "\n",
       "    .dataframe thead th {\n",
       "        text-align: right;\n",
       "    }\n",
       "</style>\n",
       "<table border=\"1\" class=\"dataframe\">\n",
       "  <thead>\n",
       "    <tr style=\"text-align: right;\">\n",
       "      <th></th>\n",
       "      <th>Row ID</th>\n",
       "      <th>Order ID</th>\n",
       "      <th>Order Date</th>\n",
       "      <th>Ship Date</th>\n",
       "      <th>Ship Mode</th>\n",
       "      <th>Customer ID</th>\n",
       "      <th>Customer Name</th>\n",
       "      <th>Segment</th>\n",
       "      <th>Country</th>\n",
       "      <th>City</th>\n",
       "      <th>...</th>\n",
       "      <th>Postal Code</th>\n",
       "      <th>Region</th>\n",
       "      <th>Product ID</th>\n",
       "      <th>Category</th>\n",
       "      <th>Sub-Category</th>\n",
       "      <th>Product Name</th>\n",
       "      <th>Sales</th>\n",
       "      <th>Quantity</th>\n",
       "      <th>Discount</th>\n",
       "      <th>Profit</th>\n",
       "    </tr>\n",
       "  </thead>\n",
       "  <tbody>\n",
       "    <tr>\n",
       "      <th>0</th>\n",
       "      <td>1</td>\n",
       "      <td>CA-2016-152156</td>\n",
       "      <td>11/8/2016</td>\n",
       "      <td>11/11/2016</td>\n",
       "      <td>Second Class</td>\n",
       "      <td>CG-12520</td>\n",
       "      <td>Claire Gute</td>\n",
       "      <td>Consumer</td>\n",
       "      <td>United States</td>\n",
       "      <td>Henderson</td>\n",
       "      <td>...</td>\n",
       "      <td>42420</td>\n",
       "      <td>South</td>\n",
       "      <td>FUR-BO-10001798</td>\n",
       "      <td>Furniture</td>\n",
       "      <td>Bookcases</td>\n",
       "      <td>Bush Somerset Collection Bookcase</td>\n",
       "      <td>261.9600</td>\n",
       "      <td>2</td>\n",
       "      <td>0.00</td>\n",
       "      <td>41.9136</td>\n",
       "    </tr>\n",
       "    <tr>\n",
       "      <th>1</th>\n",
       "      <td>2</td>\n",
       "      <td>CA-2016-152156</td>\n",
       "      <td>11/8/2016</td>\n",
       "      <td>11/11/2016</td>\n",
       "      <td>Second Class</td>\n",
       "      <td>CG-12520</td>\n",
       "      <td>Claire Gute</td>\n",
       "      <td>Consumer</td>\n",
       "      <td>United States</td>\n",
       "      <td>Henderson</td>\n",
       "      <td>...</td>\n",
       "      <td>42420</td>\n",
       "      <td>South</td>\n",
       "      <td>FUR-CH-10000454</td>\n",
       "      <td>Furniture</td>\n",
       "      <td>Chairs</td>\n",
       "      <td>Hon Deluxe Fabric Upholstered Stacking Chairs,...</td>\n",
       "      <td>731.9400</td>\n",
       "      <td>3</td>\n",
       "      <td>0.00</td>\n",
       "      <td>219.5820</td>\n",
       "    </tr>\n",
       "    <tr>\n",
       "      <th>2</th>\n",
       "      <td>3</td>\n",
       "      <td>CA-2016-138688</td>\n",
       "      <td>6/12/2016</td>\n",
       "      <td>6/16/2016</td>\n",
       "      <td>Second Class</td>\n",
       "      <td>DV-13045</td>\n",
       "      <td>Darrin Van Huff</td>\n",
       "      <td>Corporate</td>\n",
       "      <td>United States</td>\n",
       "      <td>Los Angeles</td>\n",
       "      <td>...</td>\n",
       "      <td>90036</td>\n",
       "      <td>West</td>\n",
       "      <td>OFF-LA-10000240</td>\n",
       "      <td>Office Supplies</td>\n",
       "      <td>Labels</td>\n",
       "      <td>Self-Adhesive Address Labels for Typewriters b...</td>\n",
       "      <td>14.6200</td>\n",
       "      <td>2</td>\n",
       "      <td>0.00</td>\n",
       "      <td>6.8714</td>\n",
       "    </tr>\n",
       "    <tr>\n",
       "      <th>3</th>\n",
       "      <td>4</td>\n",
       "      <td>US-2015-108966</td>\n",
       "      <td>10/11/2015</td>\n",
       "      <td>10/18/2015</td>\n",
       "      <td>Standard Class</td>\n",
       "      <td>SO-20335</td>\n",
       "      <td>Sean O'Donnell</td>\n",
       "      <td>Consumer</td>\n",
       "      <td>United States</td>\n",
       "      <td>Fort Lauderdale</td>\n",
       "      <td>...</td>\n",
       "      <td>33311</td>\n",
       "      <td>South</td>\n",
       "      <td>FUR-TA-10000577</td>\n",
       "      <td>Furniture</td>\n",
       "      <td>Tables</td>\n",
       "      <td>Bretford CR4500 Series Slim Rectangular Table</td>\n",
       "      <td>957.5775</td>\n",
       "      <td>5</td>\n",
       "      <td>0.45</td>\n",
       "      <td>-383.0310</td>\n",
       "    </tr>\n",
       "    <tr>\n",
       "      <th>4</th>\n",
       "      <td>5</td>\n",
       "      <td>US-2015-108966</td>\n",
       "      <td>10/11/2015</td>\n",
       "      <td>10/18/2015</td>\n",
       "      <td>Standard Class</td>\n",
       "      <td>SO-20335</td>\n",
       "      <td>Sean O'Donnell</td>\n",
       "      <td>Consumer</td>\n",
       "      <td>United States</td>\n",
       "      <td>Fort Lauderdale</td>\n",
       "      <td>...</td>\n",
       "      <td>33311</td>\n",
       "      <td>South</td>\n",
       "      <td>OFF-ST-10000760</td>\n",
       "      <td>Office Supplies</td>\n",
       "      <td>Storage</td>\n",
       "      <td>Eldon Fold 'N Roll Cart System</td>\n",
       "      <td>22.3680</td>\n",
       "      <td>2</td>\n",
       "      <td>0.20</td>\n",
       "      <td>2.5164</td>\n",
       "    </tr>\n",
       "    <tr>\n",
       "      <th>...</th>\n",
       "      <td>...</td>\n",
       "      <td>...</td>\n",
       "      <td>...</td>\n",
       "      <td>...</td>\n",
       "      <td>...</td>\n",
       "      <td>...</td>\n",
       "      <td>...</td>\n",
       "      <td>...</td>\n",
       "      <td>...</td>\n",
       "      <td>...</td>\n",
       "      <td>...</td>\n",
       "      <td>...</td>\n",
       "      <td>...</td>\n",
       "      <td>...</td>\n",
       "      <td>...</td>\n",
       "      <td>...</td>\n",
       "      <td>...</td>\n",
       "      <td>...</td>\n",
       "      <td>...</td>\n",
       "      <td>...</td>\n",
       "      <td>...</td>\n",
       "    </tr>\n",
       "    <tr>\n",
       "      <th>9989</th>\n",
       "      <td>9990</td>\n",
       "      <td>CA-2014-110422</td>\n",
       "      <td>1/21/2014</td>\n",
       "      <td>1/23/2014</td>\n",
       "      <td>Second Class</td>\n",
       "      <td>TB-21400</td>\n",
       "      <td>Tom Boeckenhauer</td>\n",
       "      <td>Consumer</td>\n",
       "      <td>United States</td>\n",
       "      <td>Miami</td>\n",
       "      <td>...</td>\n",
       "      <td>33180</td>\n",
       "      <td>South</td>\n",
       "      <td>FUR-FU-10001889</td>\n",
       "      <td>Furniture</td>\n",
       "      <td>Furnishings</td>\n",
       "      <td>Ultra Door Pull Handle</td>\n",
       "      <td>25.2480</td>\n",
       "      <td>3</td>\n",
       "      <td>0.20</td>\n",
       "      <td>4.1028</td>\n",
       "    </tr>\n",
       "    <tr>\n",
       "      <th>9990</th>\n",
       "      <td>9991</td>\n",
       "      <td>CA-2017-121258</td>\n",
       "      <td>2/26/2017</td>\n",
       "      <td>3/3/2017</td>\n",
       "      <td>Standard Class</td>\n",
       "      <td>DB-13060</td>\n",
       "      <td>Dave Brooks</td>\n",
       "      <td>Consumer</td>\n",
       "      <td>United States</td>\n",
       "      <td>Costa Mesa</td>\n",
       "      <td>...</td>\n",
       "      <td>92627</td>\n",
       "      <td>West</td>\n",
       "      <td>FUR-FU-10000747</td>\n",
       "      <td>Furniture</td>\n",
       "      <td>Furnishings</td>\n",
       "      <td>Tenex B1-RE Series Chair Mats for Low Pile Car...</td>\n",
       "      <td>91.9600</td>\n",
       "      <td>2</td>\n",
       "      <td>0.00</td>\n",
       "      <td>15.6332</td>\n",
       "    </tr>\n",
       "    <tr>\n",
       "      <th>9991</th>\n",
       "      <td>9992</td>\n",
       "      <td>CA-2017-121258</td>\n",
       "      <td>2/26/2017</td>\n",
       "      <td>3/3/2017</td>\n",
       "      <td>Standard Class</td>\n",
       "      <td>DB-13060</td>\n",
       "      <td>Dave Brooks</td>\n",
       "      <td>Consumer</td>\n",
       "      <td>United States</td>\n",
       "      <td>Costa Mesa</td>\n",
       "      <td>...</td>\n",
       "      <td>92627</td>\n",
       "      <td>West</td>\n",
       "      <td>TEC-PH-10003645</td>\n",
       "      <td>Technology</td>\n",
       "      <td>Phones</td>\n",
       "      <td>Aastra 57i VoIP phone</td>\n",
       "      <td>258.5760</td>\n",
       "      <td>2</td>\n",
       "      <td>0.20</td>\n",
       "      <td>19.3932</td>\n",
       "    </tr>\n",
       "    <tr>\n",
       "      <th>9992</th>\n",
       "      <td>9993</td>\n",
       "      <td>CA-2017-121258</td>\n",
       "      <td>2/26/2017</td>\n",
       "      <td>3/3/2017</td>\n",
       "      <td>Standard Class</td>\n",
       "      <td>DB-13060</td>\n",
       "      <td>Dave Brooks</td>\n",
       "      <td>Consumer</td>\n",
       "      <td>United States</td>\n",
       "      <td>Costa Mesa</td>\n",
       "      <td>...</td>\n",
       "      <td>92627</td>\n",
       "      <td>West</td>\n",
       "      <td>OFF-PA-10004041</td>\n",
       "      <td>Office Supplies</td>\n",
       "      <td>Paper</td>\n",
       "      <td>It's Hot Message Books with Stickers, 2 3/4\" x 5\"</td>\n",
       "      <td>29.6000</td>\n",
       "      <td>4</td>\n",
       "      <td>0.00</td>\n",
       "      <td>13.3200</td>\n",
       "    </tr>\n",
       "    <tr>\n",
       "      <th>9993</th>\n",
       "      <td>9994</td>\n",
       "      <td>CA-2017-119914</td>\n",
       "      <td>5/4/2017</td>\n",
       "      <td>5/9/2017</td>\n",
       "      <td>Second Class</td>\n",
       "      <td>CC-12220</td>\n",
       "      <td>Chris Cortes</td>\n",
       "      <td>Consumer</td>\n",
       "      <td>United States</td>\n",
       "      <td>Westminster</td>\n",
       "      <td>...</td>\n",
       "      <td>92683</td>\n",
       "      <td>West</td>\n",
       "      <td>OFF-AP-10002684</td>\n",
       "      <td>Office Supplies</td>\n",
       "      <td>Appliances</td>\n",
       "      <td>Acco 7-Outlet Masterpiece Power Center, Wihtou...</td>\n",
       "      <td>243.1600</td>\n",
       "      <td>2</td>\n",
       "      <td>0.00</td>\n",
       "      <td>72.9480</td>\n",
       "    </tr>\n",
       "  </tbody>\n",
       "</table>\n",
       "<p>9994 rows × 21 columns</p>\n",
       "</div>"
      ],
      "text/plain": [
       "      Row ID        Order ID  Order Date   Ship Date       Ship Mode  \\\n",
       "0          1  CA-2016-152156   11/8/2016  11/11/2016    Second Class   \n",
       "1          2  CA-2016-152156   11/8/2016  11/11/2016    Second Class   \n",
       "2          3  CA-2016-138688   6/12/2016   6/16/2016    Second Class   \n",
       "3          4  US-2015-108966  10/11/2015  10/18/2015  Standard Class   \n",
       "4          5  US-2015-108966  10/11/2015  10/18/2015  Standard Class   \n",
       "...      ...             ...         ...         ...             ...   \n",
       "9989    9990  CA-2014-110422   1/21/2014   1/23/2014    Second Class   \n",
       "9990    9991  CA-2017-121258   2/26/2017    3/3/2017  Standard Class   \n",
       "9991    9992  CA-2017-121258   2/26/2017    3/3/2017  Standard Class   \n",
       "9992    9993  CA-2017-121258   2/26/2017    3/3/2017  Standard Class   \n",
       "9993    9994  CA-2017-119914    5/4/2017    5/9/2017    Second Class   \n",
       "\n",
       "     Customer ID     Customer Name    Segment        Country             City  \\\n",
       "0       CG-12520       Claire Gute   Consumer  United States        Henderson   \n",
       "1       CG-12520       Claire Gute   Consumer  United States        Henderson   \n",
       "2       DV-13045   Darrin Van Huff  Corporate  United States      Los Angeles   \n",
       "3       SO-20335    Sean O'Donnell   Consumer  United States  Fort Lauderdale   \n",
       "4       SO-20335    Sean O'Donnell   Consumer  United States  Fort Lauderdale   \n",
       "...          ...               ...        ...            ...              ...   \n",
       "9989    TB-21400  Tom Boeckenhauer   Consumer  United States            Miami   \n",
       "9990    DB-13060       Dave Brooks   Consumer  United States       Costa Mesa   \n",
       "9991    DB-13060       Dave Brooks   Consumer  United States       Costa Mesa   \n",
       "9992    DB-13060       Dave Brooks   Consumer  United States       Costa Mesa   \n",
       "9993    CC-12220      Chris Cortes   Consumer  United States      Westminster   \n",
       "\n",
       "      ... Postal Code  Region       Product ID         Category Sub-Category  \\\n",
       "0     ...       42420   South  FUR-BO-10001798        Furniture    Bookcases   \n",
       "1     ...       42420   South  FUR-CH-10000454        Furniture       Chairs   \n",
       "2     ...       90036    West  OFF-LA-10000240  Office Supplies       Labels   \n",
       "3     ...       33311   South  FUR-TA-10000577        Furniture       Tables   \n",
       "4     ...       33311   South  OFF-ST-10000760  Office Supplies      Storage   \n",
       "...   ...         ...     ...              ...              ...          ...   \n",
       "9989  ...       33180   South  FUR-FU-10001889        Furniture  Furnishings   \n",
       "9990  ...       92627    West  FUR-FU-10000747        Furniture  Furnishings   \n",
       "9991  ...       92627    West  TEC-PH-10003645       Technology       Phones   \n",
       "9992  ...       92627    West  OFF-PA-10004041  Office Supplies        Paper   \n",
       "9993  ...       92683    West  OFF-AP-10002684  Office Supplies   Appliances   \n",
       "\n",
       "                                           Product Name     Sales  Quantity  \\\n",
       "0                     Bush Somerset Collection Bookcase  261.9600         2   \n",
       "1     Hon Deluxe Fabric Upholstered Stacking Chairs,...  731.9400         3   \n",
       "2     Self-Adhesive Address Labels for Typewriters b...   14.6200         2   \n",
       "3         Bretford CR4500 Series Slim Rectangular Table  957.5775         5   \n",
       "4                        Eldon Fold 'N Roll Cart System   22.3680         2   \n",
       "...                                                 ...       ...       ...   \n",
       "9989                             Ultra Door Pull Handle   25.2480         3   \n",
       "9990  Tenex B1-RE Series Chair Mats for Low Pile Car...   91.9600         2   \n",
       "9991                              Aastra 57i VoIP phone  258.5760         2   \n",
       "9992  It's Hot Message Books with Stickers, 2 3/4\" x 5\"   29.6000         4   \n",
       "9993  Acco 7-Outlet Masterpiece Power Center, Wihtou...  243.1600         2   \n",
       "\n",
       "      Discount    Profit  \n",
       "0         0.00   41.9136  \n",
       "1         0.00  219.5820  \n",
       "2         0.00    6.8714  \n",
       "3         0.45 -383.0310  \n",
       "4         0.20    2.5164  \n",
       "...        ...       ...  \n",
       "9989      0.20    4.1028  \n",
       "9990      0.00   15.6332  \n",
       "9991      0.20   19.3932  \n",
       "9992      0.00   13.3200  \n",
       "9993      0.00   72.9480  \n",
       "\n",
       "[9994 rows x 21 columns]"
      ]
     },
     "execution_count": 127,
     "metadata": {},
     "output_type": "execute_result"
    }
   ],
   "source": [
    "# Drop rows with ANY null values (careful - can lose data!)\n",
    "df_no_nulls = df.dropna()\n",
    "\n",
    "# Drop rows where ALL values are null\n",
    "df.dropna(how='all')\n",
    "\n",
    "# Drop columns with nulls\n",
    "df.dropna(axis=1)"
   ]
  },
  {
   "cell_type": "markdown",
   "id": "e9330a92-d278-456f-b35e-c20fd769a2b6",
   "metadata": {},
   "source": [
    "#### B. Filling Null Values"
   ]
  },
  {
   "cell_type": "code",
   "execution_count": 134,
   "id": "e5b67c06-171e-4f31-bb08-c6c99264b465",
   "metadata": {},
   "outputs": [
    {
     "name": "stdout",
     "output_type": "stream",
     "text": [
      "0       261.9600\n",
      "1       731.9400\n",
      "2        14.6200\n",
      "3       957.5775\n",
      "4        22.3680\n",
      "          ...   \n",
      "9989     25.2480\n",
      "9990     91.9600\n",
      "9991    258.5760\n",
      "9992     29.6000\n",
      "9993    243.1600\n",
      "Name: Sales, Length: 9994, dtype: float64\n"
     ]
    }
   ],
   "source": [
    "# Fill with a specific value\n",
    "df_filled = df.fillna(0)  # Replace all nulls with 0\n",
    "\n",
    "# Column-specific filling\n",
    "df['Postal Code'] = df['Postal Code'].fillna('Unknown')\n",
    "\n",
    "# Forward fill (use previous value)\n",
    "df['Sales'] = df['Sales'].ffill()\n",
    "\n",
    "# Fill with mean/median\n",
    "mean_sales = df['Sales'].mean()\n",
    "df['Sales'] = df['Sales'].fillna(mean_sales)\n",
    "print(df['Sales'])"
   ]
  },
  {
   "cell_type": "markdown",
   "id": "8166453f-30fb-4fac-b3c6-b3549b93eca1",
   "metadata": {},
   "source": [
    "### 3. Creating a Test DataFrame with Nulls"
   ]
  },
  {
   "cell_type": "code",
   "execution_count": 137,
   "id": "7cc04889-10d0-4de9-8131-71d3c30d0bc1",
   "metadata": {},
   "outputs": [
    {
     "name": "stdout",
     "output_type": "stream",
     "text": [
      "Original test DataFrame:\n",
      "     Product  Sales    Category\n",
      "0     Chair  120.0   Furniture\n",
      "1      Desk    NaN   Furniture\n",
      "2       NaN  340.0  Technology\n",
      "3   Monitor  210.0         NaN\n",
      "4  Keyboard    NaN  Technology\n",
      "\n",
      "After filling nulls:\n",
      "     Product  Sales       Category\n",
      "0     Chair  120.0      Furniture\n",
      "1      Desk    0.0      Furniture\n",
      "2   Unknown  340.0     Technology\n",
      "3   Monitor  210.0  Uncategorized\n",
      "4  Keyboard    0.0     Technology\n"
     ]
    }
   ],
   "source": [
    "import numpy as np\n",
    "import pandas as pd\n",
    "\n",
    "# Create DataFrame with intentional nulls\n",
    "test_data = {\n",
    "    'Product': ['Chair', 'Desk', np.nan, 'Monitor', 'Keyboard'],\n",
    "    'Sales': [120, np.nan, 340, 210, np.nan],\n",
    "    'Category': ['Furniture', 'Furniture', 'Technology', np.nan, 'Technology']\n",
    "}\n",
    "\n",
    "test_df = pd.DataFrame(test_data)\n",
    "print(\"Original test DataFrame:\\n\", test_df)\n",
    "\n",
    "# Now practice handling these nulls!\n",
    "test_df_filled = test_df.fillna({'Product': 'Unknown', 'Sales': 0, 'Category': 'Uncategorized'})\n",
    "print(\"\\nAfter filling nulls:\\n\", test_df_filled)"
   ]
  },
  {
   "cell_type": "markdown",
   "id": "ab4408d6-9e8e-47c5-bfaa-268162719823",
   "metadata": {},
   "source": [
    "## Task 4: GroupBy Operations"
   ]
  },
  {
   "cell_type": "markdown",
   "id": "7cb47cce-a438-4c43-b51f-7f7284940a7e",
   "metadata": {},
   "source": [
    "### 1. Basic GroupBy Operations"
   ]
  },
  {
   "cell_type": "markdown",
   "id": "9b2c4261-e7fe-4c48-89aa-3072b83d81e3",
   "metadata": {},
   "source": [
    "#### A. Simple Aggregation"
   ]
  },
  {
   "cell_type": "markdown",
   "id": "2104504a-b7ba-491e-9387-7614be4d5f2d",
   "metadata": {},
   "source": [
    "Calculate average values per category:"
   ]
  },
  {
   "cell_type": "code",
   "execution_count": 144,
   "id": "723876f7-c334-415c-9884-e73e22206278",
   "metadata": {},
   "outputs": [
    {
     "name": "stdout",
     "output_type": "stream",
     "text": [
      "                      Row ID   Postal Code       Sales  Quantity  Discount  \\\n",
      "Category                                                                     \n",
      "Furniture        5041.643564  55726.556341  349.834887  3.785007  0.173923   \n",
      "Office Supplies  4980.175075  54890.951211  119.324101  3.801195  0.157285   \n",
      "Technology       5003.331890  55551.572279  452.709276  3.756903  0.132323   \n",
      "\n",
      "                    Profit  \n",
      "Category                    \n",
      "Furniture         8.699327  \n",
      "Office Supplies  20.327050  \n",
      "Technology       78.752002  \n"
     ]
    }
   ],
   "source": [
    "category_stats = df.groupby('Category').mean(numeric_only=True)\n",
    "print(category_stats)"
   ]
  },
  {
   "cell_type": "markdown",
   "id": "6b2e0681-66c9-4647-a023-2a4b487b8fb2",
   "metadata": {},
   "source": [
    "#### B. Grouping with Column Selection"
   ]
  },
  {
   "cell_type": "markdown",
   "id": "c3ce4791-43ab-4ade-a554-ecbe18eab6d7",
   "metadata": {},
   "source": [
    "Get total sales per region:"
   ]
  },
  {
   "cell_type": "code",
   "execution_count": 148,
   "id": "e7d64e23-c6f4-4d25-87ef-834be32673a0",
   "metadata": {},
   "outputs": [
    {
     "name": "stdout",
     "output_type": "stream",
     "text": [
      "Region\n",
      "Central    501239.8908\n",
      "East       678781.2400\n",
      "South      391721.9050\n",
      "West       725457.8245\n",
      "Name: Sales, dtype: float64\n"
     ]
    }
   ],
   "source": [
    "region_sales = df.groupby('Region')['Sales'].sum()\n",
    "print(region_sales)"
   ]
  },
  {
   "cell_type": "markdown",
   "id": "b17621b8-1d6d-4eef-879a-dc2d61c4f782",
   "metadata": {},
   "source": [
    "#### C. Multiple Aggregations"
   ]
  },
  {
   "cell_type": "markdown",
   "id": "c4afce20-20ba-434b-8782-0f79d237898a",
   "metadata": {},
   "source": [
    "Calculate sum, average, and count of sales per region:"
   ]
  },
  {
   "cell_type": "code",
   "execution_count": 152,
   "id": "2236adc4-6f63-492f-a24e-3b1c587b371b",
   "metadata": {},
   "outputs": [
    {
     "name": "stdout",
     "output_type": "stream",
     "text": [
      "                 sum        mean  count\n",
      "Region                                 \n",
      "Central  501239.8908  215.772661   2323\n",
      "East     678781.2400  238.336110   2848\n",
      "South    391721.9050  241.803645   1620\n",
      "West     725457.8245  226.493233   3203\n"
     ]
    }
   ],
   "source": [
    "region_stats = df.groupby('Region')['Sales'].agg(['sum', 'mean', 'count'])\n",
    "print(region_stats)"
   ]
  },
  {
   "cell_type": "markdown",
   "id": "0fc621ce-6805-4bea-8102-021ef7bf4589",
   "metadata": {},
   "source": [
    "### 2. Cleaning Grouped Results"
   ]
  },
  {
   "cell_type": "markdown",
   "id": "c732bc88-3ee2-4df8-9b2c-3377368ccd26",
   "metadata": {},
   "source": [
    "#### A. Reset Index to Convert to DataFrame"
   ]
  },
  {
   "cell_type": "code",
   "execution_count": 159,
   "id": "5e896b66-a879-4520-8b8e-2a508b65727d",
   "metadata": {},
   "outputs": [
    {
     "name": "stdout",
     "output_type": "stream",
     "text": [
      "    Region        Sales\n",
      "0  Central  501239.8908\n",
      "1     East  678781.2400\n",
      "2    South  391721.9050\n",
      "3     West  725457.8245\n"
     ]
    }
   ],
   "source": [
    "# Before reset_index() -> Grouped object\n",
    "region_stats = df.groupby('Region')['Sales'].sum()\n",
    "\n",
    "# After reset_index() -> Clean DataFrame\n",
    "region_stats_df = df.groupby('Region')['Sales'].sum().reset_index()\n",
    "print(region_stats_df.head())"
   ]
  },
  {
   "cell_type": "markdown",
   "id": "774e4879-e91d-4955-8aa4-e91c5ba8e125",
   "metadata": {},
   "source": [
    "#### B. Rename Columns After Aggregation"
   ]
  },
  {
   "cell_type": "code",
   "execution_count": 165,
   "id": "6f813ed3-321c-413b-90b0-ffba1d71b47c",
   "metadata": {},
   "outputs": [
    {
     "name": "stdout",
     "output_type": "stream",
     "text": [
      "    Region  total_sales  avg_discount\n",
      "0  Central  501239.8908      0.240353\n",
      "1     East  678781.2400      0.145365\n",
      "2    South  391721.9050      0.147253\n",
      "3     West  725457.8245      0.109335\n"
     ]
    }
   ],
   "source": [
    "sales_summary = df.groupby('Region').agg(\n",
    "    total_sales=('Sales', 'sum'),\n",
    "    avg_discount=('Discount', 'mean')\n",
    ").reset_index()\n",
    "print(sales_summary)"
   ]
  },
  {
   "cell_type": "markdown",
   "id": "c6da1167-86c7-40d3-966c-27a53c6c7428",
   "metadata": {},
   "source": [
    "## Task 5: Merging DataFrames"
   ]
  },
  {
   "cell_type": "markdown",
   "id": "152993de-d48e-4962-8171-5507598e943b",
   "metadata": {},
   "source": [
    "### 1. Prepare Sample Data"
   ]
  },
  {
   "cell_type": "code",
   "execution_count": 169,
   "id": "9def6be0-b0a8-424a-8842-732b8d971c71",
   "metadata": {},
   "outputs": [
    {
     "name": "stdout",
     "output_type": "stream",
     "text": [
      "Orders table shape: (9994, 4)\n",
      "Customers table shape: (4688, 5)\n"
     ]
    }
   ],
   "source": [
    "# Create orders table\n",
    "orders = df[['Order ID', 'Order Date', 'Customer ID', 'Sales']].copy()\n",
    "\n",
    "# Create customers table (with some extra info)\n",
    "customers = df[['Customer ID', 'Customer Name', 'Segment', 'City', 'State']].drop_duplicates()\n",
    "\n",
    "print(\"Orders table shape:\", orders.shape)\n",
    "print(\"Customers table shape:\", customers.shape)"
   ]
  },
  {
   "cell_type": "markdown",
   "id": "16110991-6614-42e0-8278-8fda08815a7a",
   "metadata": {},
   "source": [
    "### 2. Basic Merges"
   ]
  },
  {
   "cell_type": "markdown",
   "id": "e95893f3-0d52-4ca1-b777-ec5d2e4dd716",
   "metadata": {},
   "source": [
    "#### A. Inner Join"
   ]
  },
  {
   "cell_type": "code",
   "execution_count": 173,
   "id": "3cce18f2-501e-441c-9faa-b97c381f99f8",
   "metadata": {},
   "outputs": [
    {
     "name": "stdout",
     "output_type": "stream",
     "text": [
      "Inner join result: (68140, 8)\n"
     ]
    }
   ],
   "source": [
    "# Merge on Customer ID (only matching records)\n",
    "inner_merged = pd.merge(orders, customers, on='Customer ID', how='inner')\n",
    "print(\"Inner join result:\", inner_merged.shape)"
   ]
  },
  {
   "cell_type": "markdown",
   "id": "ffabfcce-f3d8-42e9-91b0-b5689dc0a8d9",
   "metadata": {},
   "source": [
    "#### B. Left Join (Keep All Orders)"
   ]
  },
  {
   "cell_type": "code",
   "execution_count": 176,
   "id": "d1bfb5fe-4a61-43a8-8dbe-a0375d27e101",
   "metadata": {},
   "outputs": [
    {
     "name": "stdout",
     "output_type": "stream",
     "text": [
      "Left join result: (68140, 8)\n"
     ]
    }
   ],
   "source": [
    "# Keep all orders even if customer info is missing\n",
    "left_merged = pd.merge(orders, customers, on='Customer ID', how='left')\n",
    "print(\"Left join result:\", left_merged.shape)"
   ]
  },
  {
   "cell_type": "markdown",
   "id": "f8c279e3-aafc-40ee-b651-318dc1347a60",
   "metadata": {},
   "source": [
    "#### C. Outer Join"
   ]
  },
  {
   "cell_type": "code",
   "execution_count": 180,
   "id": "97ba6076-fb0d-41ca-ab23-81c8032e2ec5",
   "metadata": {},
   "outputs": [
    {
     "name": "stdout",
     "output_type": "stream",
     "text": [
      "Outer join result: (68140, 8)\n"
     ]
    }
   ],
   "source": [
    "# Include all records from both tables\n",
    "outer_merged = pd.merge(orders, customers, on='Customer ID', how='outer')\n",
    "print(\"Outer join result:\", outer_merged.shape)"
   ]
  }
 ],
 "metadata": {
  "kernelspec": {
   "display_name": "Python [conda env:base] *",
   "language": "python",
   "name": "conda-base-py"
  },
  "language_info": {
   "codemirror_mode": {
    "name": "ipython",
    "version": 3
   },
   "file_extension": ".py",
   "mimetype": "text/x-python",
   "name": "python",
   "nbconvert_exporter": "python",
   "pygments_lexer": "ipython3",
   "version": "3.12.7"
  }
 },
 "nbformat": 4,
 "nbformat_minor": 5
}
