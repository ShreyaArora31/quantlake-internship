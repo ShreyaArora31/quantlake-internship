{
 "cells": [
  {
   "cell_type": "code",
   "execution_count": null,
   "id": "9c319894-de5a-4e32-a529-1117f1b596d0",
   "metadata": {},
   "outputs": [],
   "source": []
  }
 ],
 "metadata": {
  "kernelspec": {
   "display_name": "",
   "name": ""
  },
  "language_info": {
   "name": ""
  }
 },
 "nbformat": 4,
 "nbformat_minor": 5
}
